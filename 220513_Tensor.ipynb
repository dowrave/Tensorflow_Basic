{
  "nbformat": 4,
  "nbformat_minor": 0,
  "metadata": {
    "colab": {
      "name": "220513_Tensor.ipynb",
      "provenance": [],
      "authorship_tag": "ABX9TyOYNtTn7QrcXRKH18l9ZUCQ",
      "include_colab_link": true
    },
    "kernelspec": {
      "name": "python3",
      "display_name": "Python 3"
    },
    "language_info": {
      "name": "python"
    },
    "accelerator": "GPU"
  },
  "cells": [
    {
      "cell_type": "markdown",
      "metadata": {
        "id": "view-in-github",
        "colab_type": "text"
      },
      "source": [
        "<a href=\"https://colab.research.google.com/github/dowrave/Tensorflow_Basic/blob/main/220513_Tensor.ipynb\" target=\"_parent\"><img src=\"https://colab.research.google.com/assets/colab-badge.svg\" alt=\"Open In Colab\"/></a>"
      ]
    },
    {
      "cell_type": "markdown",
      "source": [
        "## 텐서 \n",
        "- 랭크 0(=0차원) 부터 가능, 이는 스칼라와 동일\n",
        "- `np.array(tensor)`로 Array로 만들 수 있음\n",
        "- 기본은 직사각형이지만, 특수 유형의 텐서가 있다."
      ],
      "metadata": {
        "id": "f9EEgWnzd5me"
      }
    },
    {
      "cell_type": "markdown",
      "source": [
        "### 텐서 연산자"
      ],
      "metadata": {
        "id": "VpUumyxWeM2L"
      }
    },
    {
      "cell_type": "code",
      "execution_count": 1,
      "metadata": {
        "colab": {
          "base_uri": "https://localhost:8080/"
        },
        "id": "FqMv0OmQdxyp",
        "outputId": "7d2c5ca8-fc73-42c6-e8e8-92b73159e550"
      },
      "outputs": [
        {
          "output_type": "stream",
          "name": "stdout",
          "text": [
            "tf.Tensor(\n",
            "[[2 3]\n",
            " [4 5]], shape=(2, 2), dtype=int32) \n",
            "\n",
            "tf.Tensor(\n",
            "[[1 2]\n",
            " [3 4]], shape=(2, 2), dtype=int32) \n",
            "\n",
            "tf.Tensor(\n",
            "[[3 3]\n",
            " [7 7]], shape=(2, 2), dtype=int32) \n",
            "\n"
          ]
        }
      ],
      "source": [
        "import tensorflow as tf\n",
        "\n",
        "a = tf.constant([[1, 2,], [3, 4]])\n",
        "b = tf.constant([[1, 1], [1, 1]])\n",
        "\n",
        "print(tf.add(a, b), \"\\n\") # a + b\n",
        "print(tf.multiply(a, b), \"\\n\") # a * b  element-wise\n",
        "print(tf.matmul(a, b), \"\\n\") # a @ b matrix multiply"
      ]
    },
    {
      "cell_type": "code",
      "source": [
        "# 텐서에 적용되는 다양한 연산\n",
        "c = tf.constant([[4.0, 5.], [10., 1.]])\n",
        "\n",
        "print(tf.reduce_max(c)) # 모든 값 중 최댓값\n",
        "print(tf.argmax(c)) # 각 row의 최댓값의 인덱스\n",
        "print(tf.nn.softmax(c)) # 전체에 대해 softmax함수 적용"
      ],
      "metadata": {
        "colab": {
          "base_uri": "https://localhost:8080/"
        },
        "id": "hYd2oXEceeU5",
        "outputId": "e7a8e45d-6ded-4556-e939-8bb7974aae1f"
      },
      "execution_count": 3,
      "outputs": [
        {
          "output_type": "stream",
          "name": "stdout",
          "text": [
            "tf.Tensor(10.0, shape=(), dtype=float32)\n",
            "tf.Tensor([1 0], shape=(2,), dtype=int64)\n",
            "tf.Tensor(\n",
            "[[2.6894143e-01 7.3105854e-01]\n",
            " [9.9987662e-01 1.2339458e-04]], shape=(2, 2), dtype=float32)\n"
          ]
        }
      ]
    },
    {
      "cell_type": "markdown",
      "source": [
        "# 형상(Shape) 정보\n",
        "- 형상(Shape) : 텐서의 각 차원의 길이(요소 수)\n",
        "- 순위(Rank) : 텐서 축의 수(스칼라 = 0 , 벡터 = 1, 행렬 = 2)\n",
        "- 축/차원(Axis, DImension) : 텐서의 특정 차원\n",
        "- 크기 : 텐서의 총 항목 수"
      ],
      "metadata": {
        "id": "IjIe7IszfFeW"
      }
    },
    {
      "cell_type": "code",
      "source": [
        "# 접근법은 예제를 보자\n",
        "rank_4_tensor = tf.zeros([3, 2, 4, 5]) # 이런 거 볼 때는 뒤에서부터 관찰하면 편하다 / zeros 뒤의 []는 shape임!\n",
        "\n",
        "print(rank_4_tensor.dtype)\n",
        "print(rank_4_tensor.ndim) # 차원의 수 = 4\n",
        "print(rank_4_tensor.shape) # 전체 차원의 크기를 보여줌\n",
        "print(rank_4_tensor.shape[0])\n",
        "print(rank_4_tensor.shape[-1])\n",
        "print(tf.size(rank_4_tensor).numpy()) # 다 곱한 값인 듯\n",
        "\n",
        "# 통상적으로 Shape는 Batch, Width, Height, Features 순으로 온다"
      ],
      "metadata": {
        "colab": {
          "base_uri": "https://localhost:8080/"
        },
        "id": "xB1GgSaye1MP",
        "outputId": "efbd9be4-cdad-49a1-9b28-51c839451fcf"
      },
      "execution_count": 7,
      "outputs": [
        {
          "output_type": "stream",
          "name": "stdout",
          "text": [
            "<dtype: 'float32'>\n",
            "4\n",
            "(3, 2, 4, 5)\n",
            "3\n",
            "5\n",
            "120\n"
          ]
        }
      ]
    },
    {
      "cell_type": "markdown",
      "source": [
        "## 인덱싱\n",
        "- 모르는 것만 다룸"
      ],
      "metadata": {
        "id": "JdPVkaoUgUgQ"
      }
    },
    {
      "cell_type": "code",
      "source": [
        "rank_1_tensor = tf.constant([0, 1, 1, 2, 3, 5, 8, 13, 21, 34])\n",
        "print(rank_1_tensor.numpy())"
      ],
      "metadata": {
        "colab": {
          "base_uri": "https://localhost:8080/"
        },
        "id": "_sGwotJOfk23",
        "outputId": "e5b2fc5e-b142-4e28-dde6-9b04d6068ee6"
      },
      "execution_count": 8,
      "outputs": [
        {
          "output_type": "stream",
          "name": "stdout",
          "text": [
            "[ 0  1  1  2  3  5  8 13 21 34]\n"
          ]
        }
      ]
    },
    {
      "cell_type": "code",
      "source": [
        "# 스칼라를 사용하여 인덱싱하면 축이 제거된다.\n",
        "print(rank_1_tensor[0]) # 얘는 텐서 객체\n",
        "print(rank_1_tensor[0].numpy()) # 얘는 배열 객체"
      ],
      "metadata": {
        "colab": {
          "base_uri": "https://localhost:8080/"
        },
        "id": "ggJF1OZYganT",
        "outputId": "6cf11e38-1386-4e44-d9b9-6490803462b4"
      },
      "execution_count": 9,
      "outputs": [
        {
          "output_type": "stream",
          "name": "stdout",
          "text": [
            "tf.Tensor(0, shape=(), dtype=int32)\n",
            "0\n"
          ]
        }
      ]
    },
    {
      "cell_type": "code",
      "source": [
        "# 슬라이스 이용 - 축이 유지됨. 뭐 당연한 얘기죠? [a:b:c] = a부터 b-1까지 c 간격으로\n",
        "print(\"Reversed : \", rank_1_tensor[::-1].numpy())"
      ],
      "metadata": {
        "colab": {
          "base_uri": "https://localhost:8080/"
        },
        "id": "3X23xiQjgfHM",
        "outputId": "76803681-48ba-4c6f-d45b-3f7bb716e620"
      },
      "execution_count": 10,
      "outputs": [
        {
          "output_type": "stream",
          "name": "stdout",
          "text": [
            "Reversed :  [34 21 13  8  5  3  2  1  1  0]\n"
          ]
        }
      ]
    },
    {
      "cell_type": "markdown",
      "source": [
        "## 형상 조작하기 - tf.reshape\n",
        "- 순서(축 교환)를 조작하고 싶다면 `tf.transpose`를 써야 한다."
      ],
      "metadata": {
        "id": "cgWGV3BUg_O6"
      }
    },
    {
      "cell_type": "code",
      "source": [
        "var_x = tf.Variable(tf.constant([[1], [2], [3]]))\n",
        "print(var_x.shape)"
      ],
      "metadata": {
        "colab": {
          "base_uri": "https://localhost:8080/"
        },
        "id": "AD_OguD7g569",
        "outputId": "1466d6c3-297a-482d-90c1-861d1fd3e189"
      },
      "execution_count": 11,
      "outputs": [
        {
          "output_type": "stream",
          "name": "stdout",
          "text": [
            "(3, 1)\n"
          ]
        }
      ]
    },
    {
      "cell_type": "code",
      "source": [
        "# 파이썬 리스트로 : Tensor.shape.as_list()\n",
        "var_x.shape.as_list()"
      ],
      "metadata": {
        "colab": {
          "base_uri": "https://localhost:8080/"
        },
        "id": "I7Bnk51QhEds",
        "outputId": "0bfe6466-34bb-4a40-8cdc-e621657b7202"
      },
      "execution_count": 12,
      "outputs": [
        {
          "output_type": "execute_result",
          "data": {
            "text/plain": [
              "[3, 1]"
            ]
          },
          "metadata": {},
          "execution_count": 12
        }
      ]
    },
    {
      "cell_type": "code",
      "source": [
        "# 텐서를 새로운 형상으로 : tf.reshape(텐서, [바꿀 모양]) // numpy와 달리 텐서.reshape로 쓰지 않는 것에 유의하자\n",
        "reshaped = tf.reshape(var_x, [1, 3])\n",
        "reshaped.shape, var_x.shape # 원본 데이터는 유지된다"
      ],
      "metadata": {
        "colab": {
          "base_uri": "https://localhost:8080/"
        },
        "id": "CqcuzptnhLXV",
        "outputId": "d654c880-de3d-45d6-c6e0-6bc0f8d6d460"
      },
      "execution_count": 16,
      "outputs": [
        {
          "output_type": "execute_result",
          "data": {
            "text/plain": [
              "(TensorShape([1, 3]), TensorShape([3, 1]))"
            ]
          },
          "metadata": {},
          "execution_count": 16
        }
      ]
    },
    {
      "cell_type": "code",
      "source": [
        "# 텐서 평평하게 하기 : tf.reshape에 [-1]만 전달한다.\n",
        "rank_3_tensor = tf.random.normal([3,2,5])\n",
        "print(rank_3_tensor)\n",
        "print(tf.reshape(rank_3_tensor, [-1])) # 메모리에 저장된 순서이기도 하며, 행 중심임."
      ],
      "metadata": {
        "colab": {
          "base_uri": "https://localhost:8080/"
        },
        "id": "Ebjp8_Y9hURs",
        "outputId": "14e805d4-80ba-4121-fbc4-d3aea168381c"
      },
      "execution_count": 20,
      "outputs": [
        {
          "output_type": "stream",
          "name": "stdout",
          "text": [
            "tf.Tensor(\n",
            "[[[-0.44237128  1.3793768   1.0837746  -1.1151327  -0.38771653]\n",
            "  [-0.69487476  1.3672839  -1.1325225  -0.57950747 -0.17905238]]\n",
            "\n",
            " [[ 0.14878753  2.1136944  -1.1047146   0.31051522  0.05260073]\n",
            "  [ 0.4250472  -2.152948    0.38287646 -0.01542268  0.01791849]]\n",
            "\n",
            " [[-0.18561594 -0.6626002  -0.4041343   2.0890377  -0.28437245]\n",
            "  [ 0.82391065 -1.2740731   0.44545695  1.2767645  -0.17577851]]], shape=(3, 2, 5), dtype=float32)\n",
            "tf.Tensor(\n",
            "[-0.44237128  1.3793768   1.0837746  -1.1151327  -0.38771653 -0.69487476\n",
            "  1.3672839  -1.1325225  -0.57950747 -0.17905238  0.14878753  2.1136944\n",
            " -1.1047146   0.31051522  0.05260073  0.4250472  -2.152948    0.38287646\n",
            " -0.01542268  0.01791849 -0.18561594 -0.6626002  -0.4041343   2.0890377\n",
            " -0.28437245  0.82391065 -1.2740731   0.44545695  1.2767645  -0.17577851], shape=(30,), dtype=float32)\n"
          ]
        }
      ]
    },
    {
      "cell_type": "code",
      "source": [
        "# reshape의 용도 : 인접한 축 결합 혹은 분할, 내지는 1을 제거하는 것\n",
        "print(tf.reshape(rank_3_tensor, [3*2, 5]))\n",
        "print(tf.reshape(rank_3_tensor, [3, -1]))"
      ],
      "metadata": {
        "colab": {
          "base_uri": "https://localhost:8080/"
        },
        "id": "-IxPgaSGhoyS",
        "outputId": "6d41a0eb-d1da-42ab-9dfd-123a8cce12e7"
      },
      "execution_count": 21,
      "outputs": [
        {
          "output_type": "stream",
          "name": "stdout",
          "text": [
            "tf.Tensor(\n",
            "[[-0.44237128  1.3793768   1.0837746  -1.1151327  -0.38771653]\n",
            " [-0.69487476  1.3672839  -1.1325225  -0.57950747 -0.17905238]\n",
            " [ 0.14878753  2.1136944  -1.1047146   0.31051522  0.05260073]\n",
            " [ 0.4250472  -2.152948    0.38287646 -0.01542268  0.01791849]\n",
            " [-0.18561594 -0.6626002  -0.4041343   2.0890377  -0.28437245]\n",
            " [ 0.82391065 -1.2740731   0.44545695  1.2767645  -0.17577851]], shape=(6, 5), dtype=float32)\n",
            "tf.Tensor(\n",
            "[[-0.44237128  1.3793768   1.0837746  -1.1151327  -0.38771653 -0.69487476\n",
            "   1.3672839  -1.1325225  -0.57950747 -0.17905238]\n",
            " [ 0.14878753  2.1136944  -1.1047146   0.31051522  0.05260073  0.4250472\n",
            "  -2.152948    0.38287646 -0.01542268  0.01791849]\n",
            " [-0.18561594 -0.6626002  -0.4041343   2.0890377  -0.28437245  0.82391065\n",
            "  -1.2740731   0.44545695  1.2767645  -0.17577851]], shape=(3, 10), dtype=float32)\n"
          ]
        }
      ]
    },
    {
      "cell_type": "markdown",
      "source": [
        "- 데이터타입 기본 : `tf.int32`, `tf.float32`\n",
        "- 브로드캐스팅도 된다\n",
        "- 텐서가 아닌 대부분의 Argument 들에 대해서는 자동으로 `convert_to_tensor`가 호출된다. ndarray, TensorShape, Python List, tf.Variable 등\n"
      ],
      "metadata": {
        "id": "Z2QvTgS8jAbz"
      }
    },
    {
      "cell_type": "markdown",
      "source": [
        "## 비정형 텐서\n",
        "- `tf.ragged.RaggedTensor`"
      ],
      "metadata": {
        "id": "Wsga_gImjdI2"
      }
    },
    {
      "cell_type": "code",
      "source": [
        "ragged_list = [[0, 1, 2, 3], [4, 5,], [6, 7, 8], [9]]\n",
        "try:\n",
        "  tensor = tf.constant(ragged_list) # 일반적인 텐서는 직사각형 구조만 받을 수 있다\n",
        "except Exception as e:\n",
        "  print(f\"Type(e).__name__ : {e}\")"
      ],
      "metadata": {
        "colab": {
          "base_uri": "https://localhost:8080/"
        },
        "id": "VmHLhdRBidgB",
        "outputId": "ae026e5a-70ea-41cd-90b1-f245a4164437"
      },
      "execution_count": 22,
      "outputs": [
        {
          "output_type": "stream",
          "name": "stdout",
          "text": [
            "Type(e).__name__ : Can't convert non-rectangular Python sequence to Tensor.\n"
          ]
        }
      ]
    },
    {
      "cell_type": "code",
      "source": [
        "# 위와 같은 경우 아래를 이용한다.\n",
        "ragged_tensor = tf.ragged.constant(ragged_list)\n",
        "print(ragged_tensor)"
      ],
      "metadata": {
        "colab": {
          "base_uri": "https://localhost:8080/"
        },
        "id": "wLldBeE3jso0",
        "outputId": "5110eb39-35ce-4f6f-bf8d-c234cc5cd6c1"
      },
      "execution_count": 23,
      "outputs": [
        {
          "output_type": "stream",
          "name": "stdout",
          "text": [
            "<tf.RaggedTensor [[0, 1, 2, 3], [4, 5], [6, 7, 8], [9]]>\n"
          ]
        }
      ]
    },
    {
      "cell_type": "markdown",
      "source": [
        "## 문자열String 텐서\n",
        "- 여기서의 String은 파이썬 String처럼 인덱싱할 수 없다.\n",
        "- 문자열의 길이는 텐서의 축이 아니며 `tf.strings` 를 참조할 것\n",
        "- `b'Gray Wolf'` 앞의 b는 byte string을 나타냄\n",
        "  - 유니코드를 처리하는 방법은 따로 있으며 유니코드 전달 시 UTF-8로 처리된다."
      ],
      "metadata": {
        "id": "wdw-cxd4kHzs"
      }
    },
    {
      "cell_type": "code",
      "source": [
        "scalar_string_tensor = tf.constant('Gray Wolf')\n",
        "print(scalar_string_tensor)"
      ],
      "metadata": {
        "colab": {
          "base_uri": "https://localhost:8080/"
        },
        "id": "U-3UTmNZj5G_",
        "outputId": "24a8f451-34e6-4b1a-edf6-6be4cc92ed32"
      },
      "execution_count": 27,
      "outputs": [
        {
          "output_type": "stream",
          "name": "stdout",
          "text": [
            "tf.Tensor(b'Gray Wolf', shape=(), dtype=string)\n"
          ]
        }
      ]
    },
    {
      "cell_type": "code",
      "source": [
        "# 문자열 분리하기\n",
        "print(tf.strings.split(scalar_string_tensor, sep=\" \"))\n",
        "\n",
        "# 문자열이 여러 개가 있다면 일단 각 문자열이 1개의 차원을 갖도록 분리됨"
      ],
      "metadata": {
        "colab": {
          "base_uri": "https://localhost:8080/"
        },
        "id": "JjsOg4UYkN2j",
        "outputId": "555b6795-5d2d-4ba2-a1f8-fc0bec1ade6c"
      },
      "execution_count": 29,
      "outputs": [
        {
          "output_type": "stream",
          "name": "stdout",
          "text": [
            "tf.Tensor([b'Gray' b'Wolf'], shape=(2,), dtype=string)\n"
          ]
        }
      ]
    },
    {
      "cell_type": "code",
      "source": [
        "# 분리하는 건 이런 것도 된다.\n",
        "text = tf.constant(\"1 10 100\")\n",
        "print(tf.strings.to_number(tf.strings.split(text, \" \")))"
      ],
      "metadata": {
        "colab": {
          "base_uri": "https://localhost:8080/"
        },
        "id": "AmtgVf9Xk1Tm",
        "outputId": "e0e3be8b-0923-40ee-93c4-dfb6d73a4fe9"
      },
      "execution_count": 31,
      "outputs": [
        {
          "output_type": "stream",
          "name": "stdout",
          "text": [
            "tf.Tensor([  1.  10. 100.], shape=(3,), dtype=float32)\n"
          ]
        }
      ]
    },
    {
      "cell_type": "markdown",
      "source": [
        "- tf.cast를 사용하여 문자열 텐서 -> 숫자는 불가능하지만, 바이트로 변환 후 숫자로 변환할 수는 있음"
      ],
      "metadata": {
        "id": "dqFjiVuLlKen"
      }
    },
    {
      "cell_type": "code",
      "source": [
        "byte_strings = tf.strings.bytes_split(tf.constant(\"Duck\"))\n",
        "byte_ints = tf.io.decode_raw(tf.constant(\"Duck\"), tf.uint8)\n",
        "print(byte_strings, byte_ints)"
      ],
      "metadata": {
        "colab": {
          "base_uri": "https://localhost:8080/"
        },
        "id": "14FuQ43MlGuw",
        "outputId": "f730370e-aecb-4afc-9157-39a4dbc36f1a"
      },
      "execution_count": 33,
      "outputs": [
        {
          "output_type": "stream",
          "name": "stdout",
          "text": [
            "tf.Tensor([b'D' b'u' b'c' b'k'], shape=(4,), dtype=string) tf.Tensor([ 68 117  99 107], shape=(4,), dtype=uint8)\n"
          ]
        }
      ]
    },
    {
      "cell_type": "markdown",
      "source": [
        "- `tf.io` 모듈에는 이미지 디코딩, csv 구문 분석 등 데이터 -> 바이트, 바이트 -> 데이터 변환 함수가 포함되어 있다"
      ],
      "metadata": {
        "id": "jyIgWchMlh7P"
      }
    },
    {
      "cell_type": "markdown",
      "source": [
        "## 희소 텐서(SparseTensor)\n",
        "- 희소행렬 같이, 구조는 엄청 큰데 대부분의 값이 0인 텐서를 데이터 공간을 작게 잡아서 저장할 수 있다."
      ],
      "metadata": {
        "id": "cbuZSLdqloEP"
      }
    },
    {
      "cell_type": "code",
      "source": [
        "sparse_tensor = tf.sparse.SparseTensor(indices = [[0, 0], [1, 2],],\n",
        "                                       values = [1, 2],\n",
        "                                       dense_shape = [3, 4]) \n",
        "print(sparse_tensor, '\\n') #희소 텐서는 2차원의 공간 4개를 잡아먹음"
      ],
      "metadata": {
        "colab": {
          "base_uri": "https://localhost:8080/"
        },
        "id": "yHbzHuQWlTqA",
        "outputId": "b4c85293-83ec-418c-a8cb-a5ce45553a5d"
      },
      "execution_count": 34,
      "outputs": [
        {
          "output_type": "stream",
          "name": "stdout",
          "text": [
            "SparseTensor(indices=tf.Tensor(\n",
            "[[0 0]\n",
            " [1 2]], shape=(2, 2), dtype=int64), values=tf.Tensor([1 2], shape=(2,), dtype=int32), dense_shape=tf.Tensor([3 4], shape=(2,), dtype=int64)) \n",
            "\n"
          ]
        }
      ]
    },
    {
      "cell_type": "code",
      "source": [
        "print(tf.sparse.to_dense(sparse_tensor)) # 이를 Dense 텐서로 바꾸면 공간 12개를 잡아먹음"
      ],
      "metadata": {
        "colab": {
          "base_uri": "https://localhost:8080/"
        },
        "id": "Xe0xFbT4l2kX",
        "outputId": "bfc0d29c-bee4-41a0-9439-4cf85a3236cb"
      },
      "execution_count": 36,
      "outputs": [
        {
          "output_type": "stream",
          "name": "stdout",
          "text": [
            "tf.Tensor(\n",
            "[[1 0 0 0]\n",
            " [0 0 2 0]\n",
            " [0 0 0 0]], shape=(3, 4), dtype=int32)\n"
          ]
        }
      ]
    },
    {
      "cell_type": "code",
      "source": [
        ""
      ],
      "metadata": {
        "id": "NOYKuFqOl48x"
      },
      "execution_count": null,
      "outputs": []
    }
  ]
}