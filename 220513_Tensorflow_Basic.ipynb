{
  "nbformat": 4,
  "nbformat_minor": 0,
  "metadata": {
    "colab": {
      "name": "220513_Tensorflow_Basic.ipynb",
      "provenance": [],
      "authorship_tag": "ABX9TyOraIHShVY1SB07lRFjdFS7",
      "include_colab_link": true
    },
    "kernelspec": {
      "name": "python3",
      "display_name": "Python 3"
    },
    "language_info": {
      "name": "python"
    },
    "accelerator": "GPU"
  },
  "cells": [
    {
      "cell_type": "markdown",
      "metadata": {
        "id": "view-in-github",
        "colab_type": "text"
      },
      "source": [
        "<a href=\"https://colab.research.google.com/github/dowrave/Tensorflow_Basic/blob/main/220513_Tensorflow_Basic.ipynb\" target=\"_parent\"><img src=\"https://colab.research.google.com/assets/colab-badge.svg\" alt=\"Open In Colab\"/></a>"
      ]
    },
    {
      "cell_type": "markdown",
      "source": [
        "# Eager Execution(즉시 실행)\n",
        "- 그래프를 생성하지 않고 함수를 바로 실행하는 명령형 프로그래밍 환경\n",
        "- 나중에 실행하기 위한 그래프를 생성하는 대신 계산값을 바로 알려주는 연산\n",
        "- 장점으로는\n",
        "  - 직관적인 인터페이스\n",
        "  - 손쉬운 디버깅\n",
        "  - 자연스러운 흐름 제어\n",
        "- 등이 있다."
      ],
      "metadata": {
        "id": "lDnuIsBkGtuX"
      }
    },
    {
      "cell_type": "code",
      "execution_count": 1,
      "metadata": {
        "id": "zdX-2Hu0GDvf"
      },
      "outputs": [],
      "source": [
        "import tensorflow as tf\n",
        "import cProfile"
      ]
    },
    {
      "cell_type": "code",
      "source": [
        "tf.executing_eagerly() # 즉시 실행 여부 : 기본 True"
      ],
      "metadata": {
        "colab": {
          "base_uri": "https://localhost:8080/"
        },
        "id": "V1BvUmLpHGn-",
        "outputId": "edc8e75e-44ad-4b1c-8a5c-9f7007596813"
      },
      "execution_count": 2,
      "outputs": [
        {
          "output_type": "execute_result",
          "data": {
            "text/plain": [
              "True"
            ]
          },
          "metadata": {},
          "execution_count": 2
        }
      ]
    },
    {
      "cell_type": "code",
      "source": [
        "x = [[2.]]\n",
        "m = tf.matmul(x, x)\n",
        "print(m) "
      ],
      "metadata": {
        "colab": {
          "base_uri": "https://localhost:8080/"
        },
        "id": "N4oP0fkIHI2k",
        "outputId": "1014bee5-7f17-450b-e3fb-7efcd1d680a4"
      },
      "execution_count": 3,
      "outputs": [
        {
          "output_type": "stream",
          "name": "stdout",
          "text": [
            "tf.Tensor([[4.]], shape=(1, 1), dtype=float32)\n"
          ]
        }
      ]
    },
    {
      "cell_type": "markdown",
      "source": [
        "- tf.Tensor 객체를 조회했을 때, '객체다'라고 알려주면서 동시에 그 내부 값도 같이 보여준다."
      ],
      "metadata": {
        "id": "gjFl0X8pHt8M"
      }
    },
    {
      "cell_type": "code",
      "source": [
        "a = tf.constant([[1, 2,],\n",
        "                 [3, 4]])\n",
        "print(a)"
      ],
      "metadata": {
        "colab": {
          "base_uri": "https://localhost:8080/"
        },
        "id": "s5Q2bxzQHVPg",
        "outputId": "9826ad6c-befa-4f0e-a370-275f81775b0a"
      },
      "execution_count": 4,
      "outputs": [
        {
          "output_type": "stream",
          "name": "stdout",
          "text": [
            "tf.Tensor(\n",
            "[[1 2]\n",
            " [3 4]], shape=(2, 2), dtype=int32)\n"
          ]
        }
      ]
    },
    {
      "cell_type": "code",
      "source": [
        "b = tf.add(a, 1) # broadcasting\n",
        "print(b)"
      ],
      "metadata": {
        "colab": {
          "base_uri": "https://localhost:8080/"
        },
        "id": "-3dbEEodHr75",
        "outputId": "75ee1642-c1c9-408d-8f6a-a5c6b1d1575d"
      },
      "execution_count": 5,
      "outputs": [
        {
          "output_type": "stream",
          "name": "stdout",
          "text": [
            "tf.Tensor(\n",
            "[[2 3]\n",
            " [4 5]], shape=(2, 2), dtype=int32)\n"
          ]
        }
      ]
    },
    {
      "cell_type": "code",
      "source": [
        "print(a*b) # elementwise"
      ],
      "metadata": {
        "colab": {
          "base_uri": "https://localhost:8080/"
        },
        "id": "u7AaUvXnIIij",
        "outputId": "f56a5428-5270-4630-9726-4c14ce54f11d"
      },
      "execution_count": 6,
      "outputs": [
        {
          "output_type": "stream",
          "name": "stdout",
          "text": [
            "tf.Tensor(\n",
            "[[ 2  6]\n",
            " [12 20]], shape=(2, 2), dtype=int32)\n"
          ]
        }
      ]
    },
    {
      "cell_type": "code",
      "source": [
        "import numpy as np\n",
        "\n",
        "c = np.multiply(a,b) # 텐서는 넘파이의 연산도 지원한다\n",
        "print(c)"
      ],
      "metadata": {
        "colab": {
          "base_uri": "https://localhost:8080/"
        },
        "id": "VqRzmdt_ILBi",
        "outputId": "c7ee6c48-fd24-46de-d9a6-55d8af5ad8d3"
      },
      "execution_count": 7,
      "outputs": [
        {
          "output_type": "stream",
          "name": "stdout",
          "text": [
            "[[ 2  6]\n",
            " [12 20]]\n"
          ]
        }
      ]
    },
    {
      "cell_type": "code",
      "source": [
        "print(a.numpy()) # 텐서에서 넘파이 값 얻기"
      ],
      "metadata": {
        "colab": {
          "base_uri": "https://localhost:8080/"
        },
        "id": "kQtjXgZ0IO0m",
        "outputId": "c24d8213-57bb-4e4e-c24b-be779398c1fc"
      },
      "execution_count": 8,
      "outputs": [
        {
          "output_type": "stream",
          "name": "stdout",
          "text": [
            "[[1 2]\n",
            " [3 4]]\n"
          ]
        }
      ]
    },
    {
      "cell_type": "markdown",
      "source": [
        "### 즉시 실행의 가장 큰 이점 : 모델 실행하면서 호스트 언어의 모든 기능을 활용할 수 있다"
      ],
      "metadata": {
        "id": "dOYJwLxdIdPz"
      }
    },
    {
      "cell_type": "code",
      "source": [
        "def fizzbuzz(max_num):\n",
        "  counter = tf.constant(0)\n",
        "  max_num = tf.convert_to_tensor(max_num) # 스칼라값 -> 텐서 변환 시 텐서는 0차원 + 스칼라값을 갖는다.\n",
        "  '''max_num = 20으로 하면 안되나? -> 된다.'''\n",
        "  # max_num = 20\n",
        "  for num in range(1, max_num.numpy() + 1): # max_num.numpy() : 20의 스칼라값, numpy값임\n",
        "    num = tf.constant(num)\n",
        "    if int(num % 3) == 0 and int (num % 5) == 0:\n",
        "      print(\"FizzBuzz\")\n",
        "    elif int(num % 3) == 0:\n",
        "      print(\"Fizz\")\n",
        "    elif int(num % 5) == 0:\n",
        "      print(\"Buzz\")\n",
        "    else:\n",
        "      print(num.numpy())\n",
        "    counter += 1"
      ],
      "metadata": {
        "id": "jlp2-BWSITmt"
      },
      "execution_count": 9,
      "outputs": []
    },
    {
      "cell_type": "code",
      "source": [
        "type(tf.convert_to_tensor(20).numpy())"
      ],
      "metadata": {
        "colab": {
          "base_uri": "https://localhost:8080/"
        },
        "id": "vLYMc2fEI9b7",
        "outputId": "dbfb1ed0-ea32-4a8e-e082-1be6069ec917"
      },
      "execution_count": 10,
      "outputs": [
        {
          "output_type": "execute_result",
          "data": {
            "text/plain": [
              "numpy.int32"
            ]
          },
          "metadata": {},
          "execution_count": 10
        }
      ]
    },
    {
      "cell_type": "code",
      "source": [
        "fizzbuzz(20)"
      ],
      "metadata": {
        "colab": {
          "base_uri": "https://localhost:8080/"
        },
        "id": "8l4COuh8I1d0",
        "outputId": "cd56c795-04eb-447c-a23f-c664fc0d334b"
      },
      "execution_count": 11,
      "outputs": [
        {
          "output_type": "stream",
          "name": "stdout",
          "text": [
            "1\n",
            "2\n",
            "Fizz\n",
            "4\n",
            "Buzz\n",
            "Fizz\n",
            "7\n",
            "8\n",
            "Fizz\n",
            "Buzz\n",
            "11\n",
            "Fizz\n",
            "13\n",
            "14\n",
            "FizzBuzz\n",
            "16\n",
            "17\n",
            "Fizz\n",
            "19\n",
            "Buzz\n"
          ]
        }
      ]
    },
    {
      "cell_type": "markdown",
      "source": [
        "## 즉시 훈련\n",
        "- 그래디언트 계산 추적 시 `tf.GradientTape`을 사용한다.\n",
        "  - 모든 정방향 연산은 `Tape`에 기록된다. 이 후 `Tape`를 거꾸로 돌려 그래디언트를 계산한 뒤, `Tape`를 폐기한다. \n",
        "  - 특정 `tf.GradientTape`는 오직 하나의 그래디언트만을 계산하고, 부가적인 호출은 런타임에러를 발생시킨다."
      ],
      "metadata": {
        "id": "2_3oIpMfJnx_"
      }
    },
    {
      "cell_type": "code",
      "source": [
        "w = tf.Variable([[1.0]])\n",
        "with tf.GradientTape() as tape:\n",
        "  loss = w * w\n",
        "\n",
        "grad = tape.gradient(loss, w)\n",
        "print(grad) # 왜 2일까?"
      ],
      "metadata": {
        "colab": {
          "base_uri": "https://localhost:8080/"
        },
        "id": "-aWmk_lOI5Sf",
        "outputId": "95f6664b-942e-417e-c908-cc7257cfe869"
      },
      "execution_count": 12,
      "outputs": [
        {
          "output_type": "stream",
          "name": "stdout",
          "text": [
            "tf.Tensor([[2.]], shape=(1, 1), dtype=float32)\n"
          ]
        }
      ]
    },
    {
      "cell_type": "markdown",
      "source": [
        "## 모델 훈련 : 표준 MNIST"
      ],
      "metadata": {
        "id": "6P7ijoW8LRyp"
      }
    },
    {
      "cell_type": "code",
      "source": [
        "(mnist_images, mnist_labels), _ = tf.keras.datasets.mnist.load_data()\n",
        "\n",
        "dataset = tf.data.Dataset.from_tensor_slices(\n",
        "    (tf.cast(mnist_images[..., tf.newaxis] / 255, tf.float32),\n",
        "     tf.cast(mnist_labels, tf.int64))\n",
        "    )\n",
        "dataset = dataset.shuffle(1000).batch(32)"
      ],
      "metadata": {
        "colab": {
          "base_uri": "https://localhost:8080/"
        },
        "id": "aHeaqF1KKADW",
        "outputId": "fb3660bf-6764-4462-de6c-c0222fdd5863"
      },
      "execution_count": 13,
      "outputs": [
        {
          "output_type": "stream",
          "name": "stdout",
          "text": [
            "Downloading data from https://storage.googleapis.com/tensorflow/tf-keras-datasets/mnist.npz\n",
            "11493376/11490434 [==============================] - 0s 0us/step\n",
            "11501568/11490434 [==============================] - 0s 0us/step\n"
          ]
        }
      ]
    },
    {
      "cell_type": "code",
      "source": [
        "mnist_model = tf.keras.Sequential([\n",
        "                                   tf.keras.layers.Conv2D(16, [3,3], activation = 'relu', input_shape = (None, None, 1),\n",
        "                                                        ),\n",
        "                                   tf.keras.layers.Conv2D(16, [3, 3], activation = 'relu',\n",
        "                                                          ),\n",
        "                                   tf.keras.layers.GlobalAveragePooling2D(),\n",
        "                                   tf.keras.layers.Dense(10)\n",
        "                                   \n",
        "])"
      ],
      "metadata": {
        "id": "GuaoT95ALiZQ"
      },
      "execution_count": 14,
      "outputs": []
    },
    {
      "cell_type": "code",
      "source": [
        "# 즉시 실행 : 훈련 없이 모델 사용 및 결과 점검 가능 - 근데 이게 의미가 있나?\n",
        "for images, labels in dataset.take(1):\n",
        "  print(mnist_model(images[0:1]).numpy())"
      ],
      "metadata": {
        "colab": {
          "base_uri": "https://localhost:8080/"
        },
        "id": "Lux7PxD8MLdX",
        "outputId": "c5343f86-342a-4d85-b5a5-a3431c783bbc"
      },
      "execution_count": 15,
      "outputs": [
        {
          "output_type": "stream",
          "name": "stdout",
          "text": [
            "[[ 0.0240368  -0.00173725  0.06099878  0.03962428  0.08952959 -0.17466584\n",
            "  -0.02516137  0.01781385  0.03090387 -0.02970311]]\n"
          ]
        }
      ]
    },
    {
      "cell_type": "code",
      "source": [
        "optimizer = tf.keras.optimizers.Adam()\n",
        "loss_object = tf.keras.losses.SparseCategoricalCrossentropy(from_logits = True)\n",
        "loss_history = []"
      ],
      "metadata": {
        "id": "_Od8oQ3rMV5w"
      },
      "execution_count": 16,
      "outputs": []
    },
    {
      "cell_type": "markdown",
      "source": [
        "#### 학습과정\n",
        "1. 순전파\n",
        "2. 오차함수(`SparseCategoricalCrossentropy`) 계산 -> `loss_value`에 담김\n",
        "3. `loss_value`의 평균을 `loss_history`에 추가. (기록용)\n",
        "4. `loss_value`의 값은 `gradient` 계산에 이용됨.\n",
        "  - `model.trainable_variables`는 가중치, 바이어스 값이겠죠?\n",
        "  - `tape.gradient(a, b)` : a : 손실함수 값, b : 학습가능한 파라미터 \n",
        "    - 사용법은 거의 고정되어 있을 듯?\n",
        "5. `optimizer.apply_gradients` : 앞의 grads 값은 위에서 계산된 값, 뒤의 trainable_variables는 원래 가중치 값 -> 여기서 최종 가중치 갱신이 일어남\n",
        "\n"
      ],
      "metadata": {
        "id": "MRR1ONIpNZeV"
      }
    },
    {
      "cell_type": "code",
      "source": [
        "def train_step(images, labels):\n",
        "  with tf.GradientTape() as tape:\n",
        "    logits = mnist_model(images, training = True)\n",
        "\n",
        "    tf.debugging.assert_equal(logits.shape, (32, 10))  # 이거 assert문으로 쓸 수도 있을 거임\n",
        "    loss_value = loss_object(labels, logits)\n",
        "\n",
        "  loss_history.append(loss_value.numpy().mean())\n",
        "  grads = tape.gradient(loss_value, mnist_model.trainable_variables)\n",
        "  optimizer.apply_gradients(zip(grads, mnist_model.trainable_variables))"
      ],
      "metadata": {
        "id": "gkYlp5tBMkP3"
      },
      "execution_count": 17,
      "outputs": []
    },
    {
      "cell_type": "code",
      "source": [
        "def train():\n",
        "  for epoch in range(3):\n",
        "    for (batcn, (image, labels)) in enumerate(dataset):\n",
        "      train_step(images, labels) # 위에서 정의한 함수\n",
        "    print(f\"에포크 {epoch} 종료\")"
      ],
      "metadata": {
        "id": "QLyI-J6WOYTb"
      },
      "execution_count": 18,
      "outputs": []
    },
    {
      "cell_type": "code",
      "source": [
        "train()"
      ],
      "metadata": {
        "colab": {
          "base_uri": "https://localhost:8080/"
        },
        "id": "sITqbsafOc1h",
        "outputId": "0842ae6a-d0d6-4bbb-b9e7-a1224b24f541"
      },
      "execution_count": 19,
      "outputs": [
        {
          "output_type": "stream",
          "name": "stdout",
          "text": [
            "에포크 0 종료\n",
            "에포크 1 종료\n",
            "에포크 2 종료\n"
          ]
        }
      ]
    },
    {
      "cell_type": "code",
      "source": [
        "import matplotlib.pyplot as plt\n",
        "\n",
        "plt.plot(loss_history)\n",
        "plt.xlabel('Batch #')\n",
        "plt.ylabel('loss [entropy')"
      ],
      "metadata": {
        "colab": {
          "base_uri": "https://localhost:8080/",
          "height": 297
        },
        "id": "d3Ht6JnxOilW",
        "outputId": "82bdef55-6cd6-497e-9d83-824a0d02b830"
      },
      "execution_count": 20,
      "outputs": [
        {
          "output_type": "execute_result",
          "data": {
            "text/plain": [
              "Text(0, 0.5, 'loss [entropy')"
            ]
          },
          "metadata": {},
          "execution_count": 20
        },
        {
          "output_type": "display_data",
          "data": {
            "text/plain": [
              "<Figure size 432x288 with 1 Axes>"
            ],
            "image/png": "[encoded data removed]"
          },
          "metadata": {
            "needs_background": "light"
          }
        }
      ]
    },
    {
      "cell_type": "markdown",
      "source": [
        "## 변수와 옵티마이저\n",
        "- `tf.Variable` 객체는 학습 동안 변경된 `tf.Tensor` 값을 저장한다. \n",
        "- 모델 파라미터는 클래스 인스턴스 변수로 캡슐화할 수 있다.\n",
        "- `tf.Variable`을 `tf.GradientTape`와 함께 저장한다"
      ],
      "metadata": {
        "id": "vXSW4jzYRAut"
      }
    },
    {
      "cell_type": "code",
      "source": [
        "class Model(tf.keras.Model):\n",
        "  def __init__(self):\n",
        "    super(Model, self).__init__()\n",
        "    self.W = tf.Variable(5., name='weight')\n",
        "    self.B = tf.Variable(10., name = 'bias')\n",
        "  \n",
        "  def call(self, inputs):\n",
        "    return inputs * self.W + self.B\n",
        "\n",
        "NUM_EXAMPLES = 2000\n",
        "training_inputs = tf.random.normal([NUM_EXAMPLES]) # (2000,) \n",
        "noise = tf.random.normal([NUM_EXAMPLES])\n",
        "training_outputs = training_inputs * 3 + 2 + noise \n",
        "\n",
        "# 최적화할 손실 함수\n",
        "def loss(model, inputs, targets):\n",
        "  error = model(inputs) - targets\n",
        "  return tf.reduce_mean(tf.square(error)) # tf.reduce_mean() : 텐서 전체의 값의 평균을 냄. (a,b) 형태로 ,b를 지정해 axis의 평균을 낼 수도 있음\n",
        "\n",
        "def grad(model, inputs, targets):\n",
        "  with tf.GradientTape() as tape:\n",
        "    loss_value = loss(model, inputs, targets) \n",
        "  return tape.gradient(loss_value, [model.W, model.B]) # tape와 variable 값을 함께 저장해둠"
      ],
      "metadata": {
        "id": "0V8cQdDMPYyR"
      },
      "execution_count": 26,
      "outputs": []
    },
    {
      "cell_type": "code",
      "source": [
        "# 모델 -> 손실함수 미분 -> 변수 업데이트\n",
        "model = Model()\n",
        "optimizer = tf.keras.optimizers.SGD(learning_rate = 0.01)\n",
        "\n",
        "print(\"Initial Loss : {:.3f}\".format(loss(model, training_inputs, training_outputs)))\n",
        "\n",
        "for i in range(300):\n",
        "  grads = grad(model, training_inputs, training_outputs)\n",
        "  optimizer.apply_gradients(zip(grads, [model.W, model.B]))\n",
        "  if i % 20 == 0:\n",
        "    print(\"스텝 {:03d}에서의 손실 : {:.3f}\".format(i, loss(model, training_inputs, training_outputs)))\n",
        "  \n",
        "print(\"최종 손실 : {:.3f}\".format(loss(model, training_inputs, training_outputs)))\n",
        "print(\"W = {}, B = {}\".format(model.W.numpy(), model.B.numpy()))"
      ],
      "metadata": {
        "colab": {
          "base_uri": "https://localhost:8080/"
        },
        "id": "BwM9oCqvSJ27",
        "outputId": "5a3cbb96-b5b0-40cb-ed2b-04abb4118ac6"
      },
      "execution_count": 30,
      "outputs": [
        {
          "output_type": "stream",
          "name": "stdout",
          "text": [
            "Initial Loss : 69.246\n",
            "스텝 000에서의 손실 : 66.524\n",
            "스텝 020에서의 손실 : 30.033\n",
            "스텝 040에서의 손실 : 13.866\n",
            "스텝 060에서의 손실 : 6.702\n",
            "스텝 080에서의 손실 : 3.527\n",
            "스텝 100에서의 손실 : 2.120\n",
            "스텝 120에서의 손실 : 1.497\n",
            "스텝 140에서의 손실 : 1.220\n",
            "스텝 160에서의 손실 : 1.098\n",
            "스텝 180에서의 손실 : 1.043\n",
            "스텝 200에서의 손실 : 1.019\n",
            "스텝 220에서의 손실 : 1.008\n",
            "스텝 240에서의 손실 : 1.004\n",
            "스텝 260에서의 손실 : 1.002\n",
            "스텝 280에서의 손실 : 1.001\n",
            "최종 손실 : 1.000\n",
            "W = 3.002971887588501, B = 2.0329818725585938\n"
          ]
        }
      ]
    },
    {
      "cell_type": "markdown",
      "source": [
        "## 즉시 실행에서 상태를 위한 객체 사용"
      ],
      "metadata": {
        "id": "eJph8vXUTiFz"
      }
    },
    {
      "cell_type": "code",
      "source": [
        "if tf.config.experimental.list_physical_devices(\"GPU\"):\n",
        "  with tf.device(\"gpu:0\"):\n",
        "    print(\"GPU Available\")\n",
        "    v = tf.Variable(tf.random.normal([1000, 1000]))\n",
        "    v = None"
      ],
      "metadata": {
        "colab": {
          "base_uri": "https://localhost:8080/"
        },
        "id": "QioGsYggS19m",
        "outputId": "82578104-ab19-4d9d-f91c-6d5cfa56ddaf"
      },
      "execution_count": 31,
      "outputs": [
        {
          "output_type": "stream",
          "name": "stdout",
          "text": [
            "GPU Available\n"
          ]
        }
      ]
    },
    {
      "cell_type": "markdown",
      "source": [
        "## 객체 기반의 저장\n",
        "- `tf.train.Checkpoint`는 `tf.Variable`을 체크포인트 파일로 저장 및 복구할 수 있음"
      ],
      "metadata": {
        "id": "-qqSohm6T26t"
      }
    },
    {
      "cell_type": "code",
      "source": [
        "x = tf.Variable(10.)\n",
        "checkpoint = tf.train.Checkpoint(x=x)"
      ],
      "metadata": {
        "id": "Tm-lXi_ST08Z"
      },
      "execution_count": 32,
      "outputs": []
    },
    {
      "cell_type": "code",
      "source": [
        "x.assign(2.) # x에 2라는 새로운 값 할당 및 저장\n",
        "checkpoint_path = './ckpt/'\n",
        "checkpoint.save('./ckpt/')"
      ],
      "metadata": {
        "colab": {
          "base_uri": "https://localhost:8080/",
          "height": 35
        },
        "id": "pqfwSEhST-xj",
        "outputId": "4d97cba9-2687-4c3d-e315-3d14751f3215"
      },
      "execution_count": 33,
      "outputs": [
        {
          "output_type": "execute_result",
          "data": {
            "text/plain": [
              "'./ckpt/-1'"
            ],
            "application/vnd.google.colaboratory.intrinsic+json": {
              "type": "string"
            }
          },
          "metadata": {},
          "execution_count": 33
        }
      ]
    },
    {
      "cell_type": "code",
      "source": [
        "x.assign(11.) # 저장한 뒤 값 변경\n",
        "\n",
        "checkpoint.restore(tf.train.latest_checkpoint(checkpoint_path))\n",
        "print(x) # numpy 값 2로 돌아온 걸 확인할 수 있음"
      ],
      "metadata": {
        "colab": {
          "base_uri": "https://localhost:8080/"
        },
        "id": "4CFK4EivUFmK",
        "outputId": "f59b2c2e-edd6-48a5-d376-b568d1d3b40e"
      },
      "execution_count": 34,
      "outputs": [
        {
          "output_type": "stream",
          "name": "stdout",
          "text": [
            "<tf.Variable 'Variable:0' shape=() dtype=float32, numpy=2.0>\n"
          ]
        }
      ]
    },
    {
      "cell_type": "markdown",
      "source": [
        "### 모델 저장 & 읽기 시에도 그냥 저장만 하면 됨"
      ],
      "metadata": {
        "id": "MnIGT2jaUT31"
      }
    },
    {
      "cell_type": "code",
      "source": [
        "import os\n",
        "\n",
        "model = tf.keras.Sequential([\n",
        "                             tf.keras.layers.Conv2D(16, [3,3], activation = 'relu'),\n",
        "                             tf.keras.layers.GlobalAveragePooling2D(),\n",
        "                             tf.keras.layers.Dense(10)\n",
        "])\n",
        "optimizer = tf.keras.optimizers.Adam(learning_rate = 1e-3)\n",
        "\n",
        "# Checkpoint 파일로 저장 및 불러오는 파트\n",
        "checkpoint_dir = 'path/to/model_dir'\n",
        "if not os.path.exists(checkpoint_dir):\n",
        "  os.makedirs(checkpoint_dir)\n",
        "checkpoint_prefix = os.path.join(checkpoint_dir, 'ckpt')\n",
        "root = tf.train.Checkpoint(optimizer = optimizer,  \n",
        "                           model = model) # Checkpoint는 optimizer와 model을 저장한다.\n",
        "\n",
        "root.save(checkpoint_prefix)\n",
        "root.restore(tf.train.latest_checkpoint(checkpoint_dir))"
      ],
      "metadata": {
        "colab": {
          "base_uri": "https://localhost:8080/"
        },
        "id": "w0eVG-PTUME4",
        "outputId": "77de535f-998f-4c4f-9d26-06c4bcb3d99d"
      },
      "execution_count": 36,
      "outputs": [
        {
          "output_type": "execute_result",
          "data": {
            "text/plain": [
              "<tensorflow.python.training.tracking.util.CheckpointLoadStatus at 0x7fd056cb7dd0>"
            ]
          },
          "metadata": {},
          "execution_count": 36
        }
      ]
    },
    {
      "cell_type": "markdown",
      "source": [
        "## 객체 지향형 지표\n",
        "`tf.keras.metrics`는 객체로 저장된다. 새로운 데이터를 이 객체에 전달해 지표를 수정하고 `tf.keras.metrics.result`를 이용해 그 결과를 얻는다."
      ],
      "metadata": {
        "id": "9yTwkL5LVH3V"
      }
    },
    {
      "cell_type": "code",
      "source": [
        "m = tf.keras.metrics.Mean(\"loss\")\n",
        "m(0) # numpy = 0\n",
        "m(5) # numpy = 2.5\n",
        "m.result()  # numpy = 2.5\n",
        "m([8, 9]) # numpy = 5.5\n",
        "m.result()\n",
        "# 근데 이 예제들에서 m이랑 m.result()랑 차이를 몰?루겠네요"
      ],
      "metadata": {
        "colab": {
          "base_uri": "https://localhost:8080/"
        },
        "id": "sX8erdmTU1An",
        "outputId": "c000675f-e13f-45e5-926c-68654f535af9"
      },
      "execution_count": 42,
      "outputs": [
        {
          "output_type": "execute_result",
          "data": {
            "text/plain": [
              "<tf.Tensor: shape=(), dtype=float32, numpy=5.5>"
            ]
          },
          "metadata": {},
          "execution_count": 42
        }
      ]
    },
    {
      "cell_type": "markdown",
      "source": [
        "## 서머리와 텐서보드\n",
        "- 텐서보드 : 훈련 과정에서 모델을 파악, 디버깅, 최적화하기 위해 사용하는 시각화 도구\n",
        "  - 텐서보드는 프로그램 실행 동안 작성된 서머리 이벤트를 사용한다.\n",
        "\n",
        "- 서머리 정보 기록을 위해 `tf.summary`를 이용한다."
      ],
      "metadata": {
        "id": "UP2S2JVbViCx"
      }
    },
    {
      "cell_type": "code",
      "source": [
        "logdir = \"./tb\"\n",
        "writer = tf.summary.create_file_writer(logdir)\n",
        "\n",
        "with writer.as_default(): # 또는 반복 전에 writer.set_as_default() 호출\n",
        "  for i in range(1000):\n",
        "    step = i + 1\n",
        "    loss = 1 - 0.001 * step \n",
        "    if step % 100 == 0: # 100번째 step 마다\n",
        "      tf.summary.scalar('손실', loss, step = step) # 손실을 기록한다 "
      ],
      "metadata": {
        "id": "Fe_tXp96VSmV"
      },
      "execution_count": 44,
      "outputs": []
    },
    {
      "cell_type": "code",
      "source": [
        "!ls tb/"
      ],
      "metadata": {
        "colab": {
          "base_uri": "https://localhost:8080/"
        },
        "id": "gqvYHGZiV3hS",
        "outputId": "91dac620-3a39-4497-8bf0-b7d2a8a5f49f"
      },
      "execution_count": 46,
      "outputs": [
        {
          "output_type": "stream",
          "name": "stdout",
          "text": [
            "events.out.tfevents.1652427299.4235d1ab24bb.75.0.v2\n"
          ]
        }
      ]
    },
    {
      "cell_type": "markdown",
      "source": [
        "## 자동 미분 - 고급편"
      ],
      "metadata": {
        "id": "aVhulPYDWIo3"
      }
    },
    {
      "cell_type": "markdown",
      "source": [
        "### 동적 모델\n",
        "- `tf.GradientTape`는 동적 모델에서도 사용가능하다"
      ],
      "metadata": {
        "id": "PH6s1w74WLDk"
      }
    },
    {
      "cell_type": "code",
      "source": [
        "def line_serach_step(fn, init_x, rate = 1.0):\n",
        "  with tf.GradientTape() as tape:\n",
        "    # 변수는 자동 기록되나, 텐서는 사용자가 스스로 확인해야 함\n",
        "    tape.watch(init_x)\n",
        "    value = fn(init_x)\n",
        "\n",
        "  grad = tape.gradient(value, init_x)\n",
        "  grad_norm= tf.reduce_sum(grad * grad)\n",
        "  init_value = value\n",
        "  while value > init_value - rate * grad_norm:\n",
        "    x = init_x - rate * grad\n",
        "    value = fn(x)\n",
        "    rate /= 2.0\n",
        "  return x, value"
      ],
      "metadata": {
        "id": "5VKW1MvqV_oP"
      },
      "execution_count": 47,
      "outputs": []
    },
    {
      "cell_type": "markdown",
      "source": [
        "### 사용자 정의 그래디언트\n",
        "- 그래디언트를 Override하는 가장 쉬운 방법\n",
        "- 다음 예제는 역전파 과정에서 Gradient의 Norm을 Clipping하는 가장 쉬운 방법\n",
        "\n",
        "#### Clip?\n",
        "- Gradient Exploding을 방지하는 방법.\n",
        "- 그래디언트 값이 임계치 값을 넘어가면 그 값을 (통상적으로 L2) Norm으로 나눠주는 방식이다."
      ],
      "metadata": {
        "id": "ROIoYbCwXFVk"
      }
    },
    {
      "cell_type": "code",
      "source": [
        "@tf.custom_gradient\n",
        "def clip_gradient_by_norm(x, norm):\n",
        "  y = tf.identity(x)\n",
        "  def grad_fn(dresult):\n",
        "    return [tf.clip_by_norm(dresult, norm), None]\n",
        "  return y, grad_fn"
      ],
      "metadata": {
        "id": "WSX1Q9kuW0Ls"
      },
      "execution_count": 48,
      "outputs": []
    },
    {
      "cell_type": "code",
      "source": [
        "# 사용자 정의 그래디언트는 수치적으로 안정된 그래디언트를 제공하기 위해 사용된다.\n",
        "def log1pexp(x):\n",
        "  return tf.math.log(1 + tf.exp(x))\n",
        "\n",
        "def grad_log1pexp(x):\n",
        "  with tf.GradientTape() as tape:\n",
        "    tape.watch(x)\n",
        "    value = log1pexp(x)\n",
        "\n",
        "  return tape.gradient(value, x)"
      ],
      "metadata": {
        "id": "DiOEcXeDXpFW"
      },
      "execution_count": 53,
      "outputs": []
    },
    {
      "cell_type": "code",
      "source": [
        "grad_log1pexp(tf.constant(0.)).numpy() #x=0에서 잘 동작"
      ],
      "metadata": {
        "colab": {
          "base_uri": "https://localhost:8080/"
        },
        "id": "W4Adb_CHX1df",
        "outputId": "80eaf89f-e38a-46fe-948a-73fd69decc9a"
      },
      "execution_count": 54,
      "outputs": [
        {
          "output_type": "execute_result",
          "data": {
            "text/plain": [
              "0.5"
            ]
          },
          "metadata": {},
          "execution_count": 54
        }
      ]
    },
    {
      "cell_type": "code",
      "source": [
        "grad_log1pexp(tf.constant(100.)).numpy() # x=100에서 수치적으로 불안정해서 실패"
      ],
      "metadata": {
        "colab": {
          "base_uri": "https://localhost:8080/"
        },
        "id": "yYnEG6vaX4Dr",
        "outputId": "5717428e-7023-4808-bb03-b4bda164b21d"
      },
      "execution_count": 56,
      "outputs": [
        {
          "output_type": "execute_result",
          "data": {
            "text/plain": [
              "nan"
            ]
          },
          "metadata": {},
          "execution_count": 56
        }
      ]
    },
    {
      "cell_type": "code",
      "source": [
        "@tf.custom_gradient\n",
        "def log1pexp(x):\n",
        "  e = tf.exp(x)\n",
        "  def grad(dy):\n",
        "    return dy * (1 - 1 / (1 + e))\n",
        "  return tf.math.log(1 + e), grad\n",
        "\n",
        "def grad_log1pexp(x):\n",
        "  with tf.GradientTape() as tape:\n",
        "    tape.watch(x)\n",
        "    value = log1pexp(x)\n",
        "  return tape.gradient(value, x)"
      ],
      "metadata": {
        "id": "iFNU5WTCYJgJ"
      },
      "execution_count": 63,
      "outputs": []
    },
    {
      "cell_type": "code",
      "source": [
        "grad_log1pexp(tf.constant(0.)).numpy()"
      ],
      "metadata": {
        "colab": {
          "base_uri": "https://localhost:8080/"
        },
        "id": "WHwdEWshYdjU",
        "outputId": "7260c04a-da28-406e-869c-52214ca7ec4e"
      },
      "execution_count": 64,
      "outputs": [
        {
          "output_type": "execute_result",
          "data": {
            "text/plain": [
              "0.5"
            ]
          },
          "metadata": {},
          "execution_count": 64
        }
      ]
    },
    {
      "cell_type": "code",
      "source": [
        "grad_log1pexp(tf.constant(100.)).numpy()"
      ],
      "metadata": {
        "colab": {
          "base_uri": "https://localhost:8080/"
        },
        "id": "Cp-qODqdYiFl",
        "outputId": "b0c5c67c-0492-4219-e491-eddf81ea66e2"
      },
      "execution_count": 65,
      "outputs": [
        {
          "output_type": "execute_result",
          "data": {
            "text/plain": [
              "1.0"
            ]
          },
          "metadata": {},
          "execution_count": 65
        }
      ]
    },
    {
      "cell_type": "markdown",
      "source": [
        "## 성능\n",
        "- 즉시 실행에서 계산은 자동으로 GPU로 분배됨.\n",
        "- 사용자가 제어하고 싶다면 해당 부분을 `tf.device('/gpu:0')`으로 감싸시오"
      ],
      "metadata": {
        "id": "AGmOeAwGY8j7"
      }
    },
    {
      "cell_type": "code",
      "source": [
        "import time\n",
        "\n",
        "def measure(x, steps):\n",
        "  tf.matmul(x,x)\n",
        "  start = time.time()\n",
        "  for i in range(steps):\n",
        "    x = tf.matmul(x, x) # 행렬 곱셈 완료 전에 결과를 반환할 수 있다.\n",
        "  _ = x.numpy() # 대기열에 추가된 모든 연산이 완료될 것임을 보장하는 호출\n",
        "                  # 이 결과는 호스트 메모리에 복사될 것이고, matmul 연산 시간보다 조금 더 연산 시간이 소요됨\n",
        "  end = time.time()\n",
        "  return end - start\n",
        "\n",
        "shape = (1000, 1000)\n",
        "steps = 200\n",
        "print(\"{} Size Matrix multiplied itself {} time\".format(shape, steps))\n",
        "\n",
        "\n",
        "# CPU 실행\n",
        "with tf.device(\"/cpu:0\"):\n",
        "  print(\"CPU : {} sec\".format(measure(tf.random.normal(shape), steps))) # 16.44sec\n",
        "\n",
        "# GPU\n",
        "if tf.config.experimental.list_physical_devices(\"GPU\"):\n",
        "  with tf.device(\"/gpu:0\"):\n",
        "    print(\"GPU : {} sec\".format(measure(tf.random.normal(shape), steps))) # 0.30 sec\n",
        "else:\n",
        "  print(\"NO GPU\")"
      ],
      "metadata": {
        "colab": {
          "base_uri": "https://localhost:8080/"
        },
        "id": "JPf-ptWgYvN1",
        "outputId": "b6d84853-f101-4b98-b30d-c7b3ca2edabd"
      },
      "execution_count": 71,
      "outputs": [
        {
          "output_type": "stream",
          "name": "stdout",
          "text": [
            "(1000, 1000) Size Matrix multiplied itself 200 time\n",
            "CPU : 16.440157651901245 sec\n",
            "GPU : 0.3024556636810303 sec\n"
          ]
        }
      ]
    },
    {
      "cell_type": "markdown",
      "source": [
        "`tf.tensor` 객체는 연산을 수행할 다른 디바이스로 복사 될 수 있다."
      ],
      "metadata": {
        "id": "8up03x-9a2ce"
      }
    },
    {
      "cell_type": "code",
      "source": [
        "if tf.config.experimental.list_physical_devices(\"GPU\"):\n",
        "  x = tf.random.normal([10, 10])\n",
        "\n",
        "  # 텐서 객체에 .gpu(), .cpu()메서드를 붙이는 것 만으로 수행할 장치를 정할 수 있음\n",
        "  x_gpu0 = x.gpu() \n",
        "  x_cpu = x.cpu()\n",
        "\n",
        "  _ = tf.matmul(x_cpu, x_cpu)\n",
        "  _ = tf.matmul(x_gpu0, x_gpu0)"
      ],
      "metadata": {
        "id": "oLhDqqYlZgee"
      },
      "execution_count": 73,
      "outputs": []
    },
    {
      "cell_type": "code",
      "source": [
        ""
      ],
      "metadata": {
        "id": "TlpJqNksZgCl"
      },
      "execution_count": null,
      "outputs": []
    }
  ]
}