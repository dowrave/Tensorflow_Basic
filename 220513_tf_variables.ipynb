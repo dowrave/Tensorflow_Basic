{
  "nbformat": 4,
  "nbformat_minor": 0,
  "metadata": {
    "colab": {
      "name": "220513_tf_variables.ipynb",
      "provenance": [],
      "authorship_tag": "ABX9TyMK3AcxkzYOK/fteNn7HYYU",
      "include_colab_link": true
    },
    "kernelspec": {
      "name": "python3",
      "display_name": "Python 3"
    },
    "language_info": {
      "name": "python"
    },
    "accelerator": "GPU"
  },
  "cells": [
    {
      "cell_type": "markdown",
      "metadata": {
        "id": "view-in-github",
        "colab_type": "text"
      },
      "source": [
        "<a href=\"https://colab.research.google.com/github/dowrave/Tensorflow_Basic/blob/main/220513_tf_variables.ipynb\" target=\"_parent\"><img src=\"https://colab.research.google.com/assets/colab-badge.svg\" alt=\"Open In Colab\"/></a>"
      ]
    },
    {
      "cell_type": "markdown",
      "source": [
        "## tf.Variable\n",
        "- 변수는 `tf.Variable` 클래스로 생성 및 추적된다.\n",
        "  - 변수 = ops를 실행하여 <b>값을 변경할 수 있는</b> 텐서\n",
        "  - `tf.keras`는 `tf.Variable`을 사용하여 모델 매개변수를 저장한다."
      ],
      "metadata": {
        "id": "ncAc8TEAm0qo"
      }
    },
    {
      "cell_type": "code",
      "execution_count": 2,
      "metadata": {
        "id": "OjdBfRl6mtMk"
      },
      "outputs": [],
      "source": [
        "import tensorflow as tf"
      ]
    },
    {
      "cell_type": "code",
      "source": [
        "my_tensor = tf.constant([[1.0, 2.0], [3.0, 4.0]])\n",
        "my_variable = tf.Variable(my_tensor) # constant -> variable\n",
        "\n",
        "bool_variable = tf.Variable([False, False, False, True])\n",
        "complex_variable = tf.Variable([5 + 4j, 6 + 1j])"
      ],
      "metadata": {
        "id": "CFe98NBZnDxo"
      },
      "execution_count": 4,
      "outputs": []
    },
    {
      "cell_type": "markdown",
      "source": [
        "- 변수는 텐서처럼 보이고 작동하며 실제로 `tf.Tensor`에서 지원되는 데이터 구조이다. `dtype`, `shape`를 가지며 `numpy`로 내보낼 수 있음"
      ],
      "metadata": {
        "id": "jIlLCybnnXOV"
      }
    },
    {
      "cell_type": "code",
      "source": [
        "my_variable.shape, my_variable.dtype, my_variable.numpy"
      ],
      "metadata": {
        "colab": {
          "base_uri": "https://localhost:8080/"
        },
        "id": "b4X2eou7nLne",
        "outputId": "31ea40d7-71af-4c90-c922-723d15850341"
      },
      "execution_count": 6,
      "outputs": [
        {
          "output_type": "execute_result",
          "data": {
            "text/plain": [
              "(TensorShape([2, 2]),\n",
              " tf.float32,\n",
              " <bound method BaseResourceVariable.numpy of <tf.Variable 'Variable:0' shape=(2, 2) dtype=float32, numpy=\n",
              " array([[1., 2.],\n",
              "        [3., 4.]], dtype=float32)>>)"
            ]
          },
          "metadata": {},
          "execution_count": 6
        }
      ]
    },
    {
      "cell_type": "code",
      "source": [
        "# 텐서 재할당 - 기존 텐서의 메모리가 재사용된다\n",
        "a = tf.Variable([2.0, 3.0])\n",
        "\n",
        "a.assign([1, 2]) # 값을 바꾸는 건 가능하지만\n",
        "\n",
        "try:\n",
        "  a.assign([1., 2., 3.]) # 구조를 바꾸는 건 불가능하다\n",
        "except Exception as e:\n",
        "  print(f\"{type(e).__name__}: {e}\")"
      ],
      "metadata": {
        "colab": {
          "base_uri": "https://localhost:8080/"
        },
        "id": "G-1h2BVdngQq",
        "outputId": "248ac8d7-726a-4540-ead6-0388795d6fa7"
      },
      "execution_count": 8,
      "outputs": [
        {
          "output_type": "stream",
          "name": "stdout",
          "text": [
            "ValueError: Cannot assign value to variable ' Variable:0': Shape mismatch.The variable shape (2,), and the assigned value shape (3,) are incompatible.\n"
          ]
        }
      ]
    },
    {
      "cell_type": "markdown",
      "source": [
        "## 텐서 복제\n",
        "- 텐서와 같은 변수를 사용하면, 지원 텐서가 복제된다. (같은 메모리를 쓰지 않는다)"
      ],
      "metadata": {
        "id": "sccd9g83n8w6"
      }
    },
    {
      "cell_type": "code",
      "source": [
        "a = tf.Variable([2.0, 3.0])\n",
        "b = tf.Variable(a) # tf.Variable로 할당하면 복제되지만 (= 다른 메모리 주소를 사용)\n",
        "c = a # 이거는 같은 메모리 주소를 참조하게 된다.\n",
        "\n",
        "a.assign([5, 6])\n",
        "\n",
        "print(a.numpy())\n",
        "print(b.numpy())\n",
        "print(c.numpy())\n",
        "\n",
        "print(a.assign_add([2, 3]).numpy())\n",
        "print(a.assign_sub([7, 9]).numpy())"
      ],
      "metadata": {
        "colab": {
          "base_uri": "https://localhost:8080/"
        },
        "id": "VNYeQ3hLnynR",
        "outputId": "1af363e8-39db-4161-b076-43297498aec1"
      },
      "execution_count": 9,
      "outputs": [
        {
          "output_type": "stream",
          "name": "stdout",
          "text": [
            "[5. 6.]\n",
            "[2. 3.]\n",
            "[5. 6.]\n",
            "[7. 9.]\n",
            "[0. 0.]\n"
          ]
        }
      ]
    },
    {
      "cell_type": "markdown",
      "source": [
        "## 수명 주기\n",
        "- `tf.Variable`은 다른 파이썬 객체와 똑같이, 변수에 대한 참조가 없으면 할당이 자동으로 해제된다.\n",
        "- 변수 추적 & 디버그 시 도움이 되는 변수의 이름을 지정할 수 있다. 두 변수에 같은 이름을 지정할 수도 있다.\n",
        "  - 변수의 이름은 보통 자동 지정되기 때문에 `name=`식으로 설정하는 경우는 잘 없음"
      ],
      "metadata": {
        "id": "eMgjyIFTog5Y"
      }
    },
    {
      "cell_type": "code",
      "source": [
        "a = tf.Variable(my_tensor, name = \"mark\")\n",
        "b = tf.Variable(my_tensor + 1, name = \"mark\")  # my_tensor이면 True임\n",
        "\n",
        "print(a==b) # 두 변수의 이름이 동일하지만, 다릅니다\n"
      ],
      "metadata": {
        "colab": {
          "base_uri": "https://localhost:8080/"
        },
        "id": "hUmBeZxDoQ8D",
        "outputId": "6a080175-7a65-4c3e-9ade-901e4fc70fd0"
      },
      "execution_count": 11,
      "outputs": [
        {
          "output_type": "stream",
          "name": "stdout",
          "text": [
            "tf.Tensor(\n",
            "[[ True  True]\n",
            " [ True  True]], shape=(2, 2), dtype=bool)\n"
          ]
        }
      ]
    },
    {
      "cell_type": "markdown",
      "source": [
        "- 한편 `trainable`을 관리할 필요는 있음. 그래디언트가 필요 없는 변수들이 있기 때문(ex : 훈련 카운터)"
      ],
      "metadata": {
        "id": "8A2cmc6ApDCm"
      }
    },
    {
      "cell_type": "code",
      "source": [
        "step_counter = tf.Variable(1, trainable = True)"
      ],
      "metadata": {
        "id": "BTkpMkJjozoF"
      },
      "execution_count": 12,
      "outputs": []
    },
    {
      "cell_type": "markdown",
      "source": [
        "## 변수와 텐서 배치하기\n",
        "- Tensorflow는 dtype이 호환되는 가장 빠른 기기에 텐서, 변수를 배치하려고 시도함\n",
        "  - 즉 대부분의 경우 GPU에 배치되려고 함\n",
        "  - 재정의할 수 있음\n",
        "- 수동 배치도 가능하지만, 분배 전략을 사용하면 계산 최적화에 더 편리하고 확장 가능한 방법이 될 수 있음"
      ],
      "metadata": {
        "id": "UHtSA5OSpRgS"
      }
    },
    {
      "cell_type": "code",
      "source": [
        "with tf.device('CPU:0'):\n",
        "\n",
        "  a = tf.Variable([[1., 2., 3.], [4.,  5. , 6.,]])\n",
        "  b = tf.constant([[1., 2.], [3., 4.], [5. ,6.]])\n",
        "  c = tf.matmul(a, b)\n",
        "\n",
        "print(c)"
      ],
      "metadata": {
        "colab": {
          "base_uri": "https://localhost:8080/"
        },
        "id": "DWloR2OBpP7z",
        "outputId": "9868a00e-a352-4134-8126-618a34f45314"
      },
      "execution_count": 14,
      "outputs": [
        {
          "output_type": "stream",
          "name": "stdout",
          "text": [
            "tf.Tensor(\n",
            "[[22. 28.]\n",
            " [49. 64.]], shape=(2, 2), dtype=float32)\n"
          ]
        }
      ]
    },
    {
      "cell_type": "code",
      "source": [
        "# Variable 할당은 CPU에서, 연산은 GPU에서 실행\n",
        "with tf.device(\"CPU:0\"):\n",
        "  a = tf.Variable([[1., 2., 3.], [4., 5., 6.]])\n",
        "  b = tf.Variable([[1., 2., 3.]])\n",
        "\n",
        "with tf.device(\"GPU:0\"):\n",
        "  k = a * b\n",
        "\n",
        "print(k)"
      ],
      "metadata": {
        "colab": {
          "base_uri": "https://localhost:8080/"
        },
        "id": "bRtwe8xqpr0k",
        "outputId": "454ab28f-afca-4f37-f255-fb7897e4e292"
      },
      "execution_count": 15,
      "outputs": [
        {
          "output_type": "stream",
          "name": "stdout",
          "text": [
            "tf.Tensor(\n",
            "[[ 1.  4.  9.]\n",
            " [ 4. 10. 18.]], shape=(2, 3), dtype=float32)\n"
          ]
        }
      ]
    },
    {
      "cell_type": "markdown",
      "source": [
        "- `tf.config.set_soft_device_placement`가 기본적으로 켜져 있어서, GPU가 없는 기기에서 이 코드를 실행한다면 아래의 GPU 연산은 CPU에서 실행된다."
      ],
      "metadata": {
        "id": "m645d5ALp_ah"
      }
    },
    {
      "cell_type": "code",
      "source": [
        ""
      ],
      "metadata": {
        "id": "9euhWYlXp4vX"
      },
      "execution_count": null,
      "outputs": []
    }
  ]
}