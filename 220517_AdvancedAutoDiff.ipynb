{
  "nbformat": 4,
  "nbformat_minor": 0,
  "metadata": {
    "colab": {
      "name": "220517_AdvancedAutoDiff.ipynb",
      "provenance": [],
      "authorship_tag": "ABX9TyNA4YJgcfTLHBuYyk1guT2H",
      "include_colab_link": true
    },
    "kernelspec": {
      "name": "python3",
      "display_name": "Python 3"
    },
    "language_info": {
      "name": "python"
    }
  },
  "cells": [
    {
      "cell_type": "markdown",
      "metadata": {
        "id": "view-in-github",
        "colab_type": "text"
      },
      "source": [
        "<a href=\"https://colab.research.google.com/github/dowrave/Tensorflow_Basic/blob/main/220517_AdvancedAutoDiff.ipynb\" target=\"_parent\"><img src=\"https://colab.research.google.com/assets/colab-badge.svg\" alt=\"Open In Colab\"/></a>"
      ]
    },
    {
      "cell_type": "code",
      "execution_count": 2,
      "metadata": {
        "id": "xn5ztUUFg-IQ"
      },
      "outputs": [],
      "source": [
        "import tensorflow as tf\n",
        "\n",
        "import matplotlib as mpl\n",
        "import matplotlib.pyplot as plt \n",
        "\n",
        "mpl.rcParams['figure.figsize'] = (8, 6)"
      ]
    },
    {
      "cell_type": "markdown",
      "source": [
        "## 그래디언트 기록 제어하기\n",
        "- 기록 중단하기 : `GradientTape.stop_recording()`\n",
        "  - 일시 중단이 오버헤드를 줄이는 데 유용할 수 있다."
      ],
      "metadata": {
        "id": "-YOkoqgbhRgX"
      }
    },
    {
      "cell_type": "code",
      "source": [
        "x = tf.Variable(2.)\n",
        "y = tf.Variable(3.)\n",
        "\n",
        "with tf.GradientTape() as tape:\n",
        "  x_sq = x * x\n",
        "  with tape.stop_recording():\n",
        "    y_sq = y * y\n",
        "  z = x_sq + y_sq\n",
        "\n",
        "grad = tape.gradient(z, {'x' : x, 'y' : y})\n",
        "\n",
        "print('dz/dx : ', grad['x']) # 2x = 4\n",
        "print('dz/dy : ', grad['y']) # 기록되었다면 2y = 6 이지만 None이 뜸"
      ],
      "metadata": {
        "colab": {
          "base_uri": "https://localhost:8080/"
        },
        "id": "RUMDa1u9hIMm",
        "outputId": "b7f73d5f-b1af-4d3c-bd53-b4dfff3856f1"
      },
      "execution_count": 4,
      "outputs": [
        {
          "output_type": "stream",
          "name": "stdout",
          "text": [
            "dz/dx :  tf.Tensor(4.0, shape=(), dtype=float32)\n",
            "dz/dy :  None\n"
          ]
        }
      ]
    },
    {
      "cell_type": "markdown",
      "source": [
        "- 재시작하기 : `reset()`\n",
        "- 테이프 블록 종료 후 재시작하는 것이 읽기 쉽지만 블록 종료가 어렵거나 불가능하다면 `reset`을 사용할 수 있다."
      ],
      "metadata": {
        "id": "sQrKqITJhyjv"
      }
    },
    {
      "cell_type": "code",
      "source": [
        "x = tf.Variable(2.)\n",
        "y = tf.Variable(3.)\n",
        "reset = True\n",
        "\n",
        "with tf.GradientTape() as tape: # reset에 의해 y_sq 값이 기록되지 않았음을 볼 수 있음\n",
        "  y_sq = y * y\n",
        "  if reset:\n",
        "    tape.reset()\n",
        "  z = x * x + y_sq # 즉 z = x*x + None이 된 것\n",
        "\n",
        "grad = tape.gradient(z, {'x' : x, 'y' : y})\n",
        "\n",
        "print('dz/dx : ', grad['x']) # 2x = 4\n",
        "print('dz/dy : ', grad['y']) # 기록되었다면 2y = 6 이지만 None이 뜸"
      ],
      "metadata": {
        "colab": {
          "base_uri": "https://localhost:8080/"
        },
        "id": "KND2KEBwhwYw",
        "outputId": "5f391a04-ac27-4193-c9d6-166023b50505"
      },
      "execution_count": 5,
      "outputs": [
        {
          "output_type": "stream",
          "name": "stdout",
          "text": [
            "dz/dx :  tf.Tensor(4.0, shape=(), dtype=float32)\n",
            "dz/dy :  None\n"
          ]
        }
      ]
    },
    {
      "cell_type": "markdown",
      "source": [
        "## 그래디언트 중지\n",
        "- `tf.stop_gradient` - 특정 경로를 따라 그래디언트가 흐르는 것을 막을 수 있다."
      ],
      "metadata": {
        "id": "67-EGmYziU2L"
      }
    },
    {
      "cell_type": "code",
      "source": [
        "x = tf.Variable(2.)\n",
        "y = tf.Variable(3.)\n",
        "\n",
        "with tf.GradientTape() as tape:\n",
        "  y_sq = y ** 2\n",
        "  z = x ** 2 + tf.stop_gradient(y_sq)\n",
        "\n",
        "grad = tape.gradient(z, {'x' : x, 'y' : y})\n",
        "\n",
        "# 2x에 대해서만 반응, y_sq는 반응 x\n",
        "print('dz/dx : ', grad['x'])  \n",
        "print('dz/dy : ', grad['y']) "
      ],
      "metadata": {
        "colab": {
          "base_uri": "https://localhost:8080/"
        },
        "id": "39cI6ohUiEPA",
        "outputId": "579e6e6c-50c2-4232-9dfc-4ef7eb0b7c89"
      },
      "execution_count": 6,
      "outputs": [
        {
          "output_type": "stream",
          "name": "stdout",
          "text": [
            "dz/dx :  tf.Tensor(4.0, shape=(), dtype=float32)\n",
            "dz/dy :  None\n"
          ]
        }
      ]
    },
    {
      "cell_type": "markdown",
      "source": [
        "## 사용자 정의 그래디언트\n",
        "- 사용하는 경우는 이런 것들이 있겠다.\n",
        "1. 작성 중인 op에 대해 정의된 그래디언트가 없다.\n",
        "2. 기본 계산이 수치적으로 불안정하다.\n",
        "3. 정방향 패스에서 값비싼 계산을 캐시하려 한다\n",
        "4. 그래디언트를 수정하지 않고 값(`tf.clip_by_value, tf.math_round`)을 수정하려 한다.\n",
        "\n",
        "- 새로운 op를 작성하려면 `tf.RegisterGradient`를 사용할 수 있다.\n",
        "- 2~4의 경우는 `tf.custom_gradient`를 사용할 수 있다.\n"
      ],
      "metadata": {
        "id": "vhKbv_OcilAA"
      }
    },
    {
      "cell_type": "code",
      "source": [
        "@tf.custom_gradient\n",
        "def clip_gradients(y):\n",
        "  def backward(dy):\n",
        "    return tf.clip_by_norm(dy, 0.5)\n",
        "  return y, backward\n",
        "\n",
        "v = tf.Variable(2.)\n",
        "with tf.GradientTape() as tape:\n",
        "  output = clip_gradients(v * v)\n",
        "print(tape.gradient(output, v)) "
      ],
      "metadata": {
        "colab": {
          "base_uri": "https://localhost:8080/"
        },
        "id": "R_p36_rJie-N",
        "outputId": "db0e42a5-5bce-4944-b21d-b72e70ef30b5"
      },
      "execution_count": 7,
      "outputs": [
        {
          "output_type": "stream",
          "name": "stdout",
          "text": [
            "tf.Tensor(2.0, shape=(), dtype=float32)\n"
          ]
        }
      ]
    },
    {
      "cell_type": "markdown",
      "source": [
        "`tf.clip_by_norm` : `tensor * clip_norm / L2norm(tensor)`"
      ],
      "metadata": {
        "id": "6vu0xuCHkNWC"
      }
    },
    {
      "cell_type": "markdown",
      "source": [
        "## 여러 테이프의 상호작용"
      ],
      "metadata": {
        "id": "sY_NxSyBklvH"
      }
    },
    {
      "cell_type": "code",
      "source": [
        "x0 = tf.constant(0.)\n",
        "x1 = tf.constant(0.)\n",
        "\n",
        "with tf.GradientTape() as tape0, tf.GradientTape() as tape1:\n",
        "  tape0.watch(x0)\n",
        "  tape1.watch(x1)\n",
        "\n",
        "  y0 = tf.math.sin(x0)\n",
        "  y1 = tf.nn.sigmoid(x1)\n",
        "\n",
        "  y = y0 + y1\n",
        "\n",
        "  ys = tf.reduce_sum(y)"
      ],
      "metadata": {
        "id": "AXvxYqfDkUdp"
      },
      "execution_count": 13,
      "outputs": []
    },
    {
      "cell_type": "code",
      "source": [
        "print(tape0.gradient(ys, x0).numpy()) # cos(x) = 1.\n",
        "print(tape1.gradient(ys, x1).numpy())"
      ],
      "metadata": {
        "colab": {
          "base_uri": "https://localhost:8080/"
        },
        "id": "dFeKc_Hwkxld",
        "outputId": "1f818f70-2405-4f32-8e3d-7316ddf50d16"
      },
      "execution_count": 14,
      "outputs": [
        {
          "output_type": "stream",
          "name": "stdout",
          "text": [
            "1.0\n",
            "0.25\n"
          ]
        }
      ]
    },
    {
      "cell_type": "markdown",
      "source": [
        "- 고계도(2번, 3번, 4번 미분..) 그래디언트에도 똑같이 작동한다."
      ],
      "metadata": {
        "id": "SPP7CcCblMFF"
      }
    },
    {
      "cell_type": "code",
      "source": [
        "x = tf.Variable(1.)\n",
        "\n",
        "with tf.GradientTape() as t2:\n",
        "  with tf.GradientTape() as t1:\n",
        "    y = x * x * x\n",
        "\n",
        "  dy_dx = t1.gradient(y, x)\n",
        "d2y_dx2 = t2.gradient(dy_dx, x)\n",
        "\n",
        "print(dy_dx.numpy())  # 3x^2 = 3\n",
        "print(d2y_dx2.numpy()) # 6x = 6"
      ],
      "metadata": {
        "colab": {
          "base_uri": "https://localhost:8080/"
        },
        "id": "EH1_uxnek5Pa",
        "outputId": "3e3a4fbd-dbef-41cc-bd8d-8f83f5106794"
      },
      "execution_count": 16,
      "outputs": [
        {
          "output_type": "stream",
          "name": "stdout",
          "text": [
            "3.0\n",
            "6.0\n"
          ]
        }
      ]
    },
    {
      "cell_type": "markdown",
      "source": [
        "# 적대적 예시에 대응하기\n",
        "- 대응 : 입력 그래디언트 정규화 -> 입력 그래디언트의 크기를 최소화하려고 함\n",
        "- 구현\n",
        "1. 내부 테이프로 입력에 대한 출력 그래디언트를 계산.\n",
        "2. 해당 입력 그래디언트의 크기 계산\n",
        "3. 모델에 대한 해당 크기의 그래디언트 계산"
      ],
      "metadata": {
        "id": "54TeAUmblwJg"
      }
    },
    {
      "cell_type": "code",
      "source": [
        "x = tf.random.normal([7, 5])\n",
        "layer = tf.keras.layers.Dense(10, activation = tf.nn.relu) "
      ],
      "metadata": {
        "id": "7pAVx62FlkWy"
      },
      "execution_count": 17,
      "outputs": []
    },
    {
      "cell_type": "code",
      "source": [
        "with tf.GradientTape() as t2:\n",
        "  # 내부 테이프는 input에 대한 그래디언트만을 취함 : Variable은 해당 없음\n",
        "  with tf.GradientTape(watch_accessed_variables = False) as t1:\n",
        "    t1.watch(x)\n",
        "    y = layer(x)\n",
        "    out = tf.reduce_sum(layer(x) ** 2)\n",
        "  # 1. input gradient 계산\n",
        "  g1 = t1.gradient(out, x)\n",
        "\n",
        "  # 2. input gradient의 크기(magnitude) 계산 - 이 부분이 근본적으로 다름 : 원래는 g1을 가중치 각각에 반영하는 식으로 진행됨\n",
        "  g1_mag = tf.norm(g1) # 기본 : 유클리디언\n",
        "\n",
        "# 3. 모델에 대해 그래디언트 크기 계산\n",
        "dg1_mag = t2.gradient(g1_mag, layer.trainable_variables) # 모든 Varaible에 대한 그래디언트 값이 계산됨"
      ],
      "metadata": {
        "id": "8n4Q5Ny6mD1o"
      },
      "execution_count": 18,
      "outputs": []
    },
    {
      "cell_type": "code",
      "source": [
        "[var.shape for var in dg1_mag]"
      ],
      "metadata": {
        "colab": {
          "base_uri": "https://localhost:8080/"
        },
        "id": "RkrL42KtmiZ5",
        "outputId": "13c6b411-75c4-478f-e4d9-74412edf593f"
      },
      "execution_count": 19,
      "outputs": [
        {
          "output_type": "execute_result",
          "data": {
            "text/plain": [
              "[TensorShape([5, 10]), TensorShape([10])]"
            ]
          },
          "metadata": {},
          "execution_count": 19
        }
      ]
    },
    {
      "cell_type": "markdown",
      "source": [
        "# Jacobian\n",
        "- 이전 예제들은 소스 텐서에 대해 스칼라의 그래디언트\n",
        "- 여기부터는 <b>벡터값 함수의 그래디언트</b>\n",
        "- `GradientTape.jacobian` 메소드로 자코비안 행렬식을 효율적으로 계산할 수 있다.\n",
        "- 참고\n",
        "  - `gradient` 처럼 `source` 인수는 텐서나 텐서의 컨테이너가 될 수 있다.\n",
        "  - `gradient`와 달리 `target` 텐서는 단일 텐서\n"
      ],
      "metadata": {
        "id": "8Uo3Aqg_nTEh"
      }
    },
    {
      "cell_type": "code",
      "source": [
        "# 1. 스칼라 소스\n",
        "x = tf.linspace(-10., 10., 200 + 1)\n",
        "delta = tf.Variable(0.)\n",
        "\n",
        "with tf.GradientTape() as tape:\n",
        "  y = tf.nn.sigmoid(x + delta)\n",
        "\n",
        "dy_dx = tape.jacobian(y, delta)"
      ],
      "metadata": {
        "id": "6RjSFQJomlWZ"
      },
      "execution_count": 20,
      "outputs": []
    },
    {
      "cell_type": "code",
      "source": [
        "print(y.shape)\n",
        "print(dy_dx.shape)"
      ],
      "metadata": {
        "colab": {
          "base_uri": "https://localhost:8080/"
        },
        "id": "hdfsu299nxd-",
        "outputId": "2654dd19-8ee7-46fe-cd47-5632743d4989"
      },
      "execution_count": 21,
      "outputs": [
        {
          "output_type": "stream",
          "name": "stdout",
          "text": [
            "(201,)\n",
            "(201,)\n"
          ]
        }
      ]
    },
    {
      "cell_type": "code",
      "source": [
        "plt.plot(x.numpy(), y, label = 'y')\n",
        "plt.plot(x.numpy(), dy_dx, label = 'dy/dx')\n",
        "plt.legend()\n",
        "plt.xlabel('x')"
      ],
      "metadata": {
        "colab": {
          "base_uri": "https://localhost:8080/",
          "height": 406
        },
        "id": "QtZiDSYonyqc",
        "outputId": "547b23c5-d4c6-4e7f-df7e-839b3ef6bee2"
      },
      "execution_count": 22,
      "outputs": [
        {
          "output_type": "execute_result",
          "data": {
            "text/plain": [
              "Text(0.5, 0, 'x')"
            ]
          },
          "metadata": {},
          "execution_count": 22
        },
        {
          "output_type": "display_data",
          "data": {
            "text/plain": [
              "<Figure size 576x432 with 1 Axes>"
            ],
            "image/png": "[encoded data removed]"
          },
          "metadata": {
            "needs_background": "light"
          }
        }
      ]
    },
    {
      "cell_type": "code",
      "source": [
        "# 2. 텐서 소스 - 결과 shape는 항상 input의 shape를 따른다.\n",
        "x = tf.random.normal([7, 5])\n",
        "layer = tf.keras.layers.Dense(10, activation = 'relu')\n",
        "\n",
        "with tf.GradientTape(persistent = True) as tape:\n",
        "  y = layer(x)\n",
        "\n",
        "y.shape"
      ],
      "metadata": {
        "colab": {
          "base_uri": "https://localhost:8080/"
        },
        "id": "uCq_Pr4on75k",
        "outputId": "8ab690bc-2504-4a57-a172-6c08d1e63737"
      },
      "execution_count": 23,
      "outputs": [
        {
          "output_type": "execute_result",
          "data": {
            "text/plain": [
              "TensorShape([7, 10])"
            ]
          },
          "metadata": {},
          "execution_count": 23
        }
      ]
    },
    {
      "cell_type": "code",
      "source": [
        "layer.kernel.shape # kernel = weight matrix"
      ],
      "metadata": {
        "colab": {
          "base_uri": "https://localhost:8080/"
        },
        "id": "--Rqb0UHoGCs",
        "outputId": "01ab196b-0616-4af7-f7b4-24c8d9f38c3c"
      },
      "execution_count": 24,
      "outputs": [
        {
          "output_type": "execute_result",
          "data": {
            "text/plain": [
              "TensorShape([5, 10])"
            ]
          },
          "metadata": {},
          "execution_count": 24
        }
      ]
    },
    {
      "cell_type": "code",
      "source": [
        "# 커널에 대한 출력의 Jacobian Shape는 서로 연결된 2가지 형상이다.\n",
        "j = tape.jacobian(y, layer.kernel)\n",
        "j.shape"
      ],
      "metadata": {
        "colab": {
          "base_uri": "https://localhost:8080/"
        },
        "id": "iijObjf2oMwk",
        "outputId": "70e8cf55-ecd7-4176-b9f9-eecb685c9954"
      },
      "execution_count": 25,
      "outputs": [
        {
          "output_type": "execute_result",
          "data": {
            "text/plain": [
              "TensorShape([7, 10, 5, 10])"
            ]
          },
          "metadata": {},
          "execution_count": 25
        }
      ]
    },
    {
      "cell_type": "code",
      "source": [
        "# 차원을 합치면 GradientTape.gradient에서 계산한 합계 그래디언트가 남는다.\n",
        "g = tape.gradient(y, layer.kernel)\n",
        "print('g.shape : ', g.shape)\n",
        "\n",
        "j_sum = tf.reduce_sum(j, axis = [0, 1])\n",
        "delta = tf.reduce_max(abs(g - j_sum)).numpy()\n",
        "assert delta < 1e-3\n",
        "print('delta : ', delta)"
      ],
      "metadata": {
        "colab": {
          "base_uri": "https://localhost:8080/"
        },
        "id": "U9OS3QwXotFE",
        "outputId": "1eef943f-809b-409d-d4e9-9e2165046ff5"
      },
      "execution_count": 27,
      "outputs": [
        {
          "output_type": "stream",
          "name": "stdout",
          "text": [
            "g.shape :  (5, 10)\n",
            "delta :  2.3841858e-07\n"
          ]
        }
      ]
    },
    {
      "cell_type": "markdown",
      "source": [
        "### Hessian\n",
        "- `tf.GradientTape`에서 Hessian 행렬 구성하는 방법을 제공하지는 않지만, `GradientTape.jacobian` 메서드로 빌드할 수 있다.\n",
        "- `N**2` 매개변수를 포함하며, 여러 이유로 인해 실용적이지 않다. 다음 예제는 그냥 설명 차원의 개념이며 최적화를 보증하지 않음. 중첩 테이프로 효율적으로 계산할 수 있다고 함."
      ],
      "metadata": {
        "id": "7FLMW0dPptk3"
      }
    },
    {
      "cell_type": "code",
      "source": [
        "x = tf.random.normal([7, 5])\n",
        "layer1 = tf.keras.layers.Dense(8, activation = tf.nn.relu)\n",
        "layer2 = tf.keras.layers.Dense(6, activation = tf.nn.relu)\n",
        "\n",
        "with tf.GradientTape() as t2:\n",
        "  with tf.GradientTape() as t1:\n",
        "    x = layer1(x)\n",
        "    x = layer2(x)\n",
        "    loss = tf.reduce_mean(x**2)\n",
        "\n",
        "  g = t1.gradient(loss, layer1.kernel)\n",
        "\n",
        "h = t2.jacobian(g, layer1.kernel)\n"
      ],
      "metadata": {
        "id": "q0ZUAGTeo58G"
      },
      "execution_count": 28,
      "outputs": []
    },
    {
      "cell_type": "code",
      "source": [
        "print(f\"Layer.kernel.shape : {layer1.kernel.shape}\")\n",
        "print(f\"h.shape : {h.shape}\")"
      ],
      "metadata": {
        "colab": {
          "base_uri": "https://localhost:8080/"
        },
        "id": "4Z4Cf0alqSBI",
        "outputId": "1f73a45f-90f4-4ced-fd5a-25391db12491"
      },
      "execution_count": 29,
      "outputs": [
        {
          "output_type": "stream",
          "name": "stdout",
          "text": [
            "Layer.kernel.shape : (5, 8)\n",
            "h.shape : (5, 8, 5, 8)\n"
          ]
        }
      ]
    },
    {
      "cell_type": "code",
      "source": [
        "# ? 뭐하는 건지 모르겠는데 그냥 따라가봄\n",
        "n_params = tf.reduce_prod(layer1.kernel.shape)\n",
        "\n",
        "g_vec = tf.reshape(g, [n_params, 1])\n",
        "h_mat = tf.reshape(h, [n_params, n_params])"
      ],
      "metadata": {
        "id": "69jLhvuXqW-j"
      },
      "execution_count": 31,
      "outputs": []
    },
    {
      "cell_type": "code",
      "source": [
        "# Hessian 행렬은 대칭이어야 함\n",
        "def imshow_zero_center(image, **kwargs):\n",
        "  lim = tf.reduce_max(abs(image))\n",
        "  plt.imshow(image, vmin = -lim, vmax = lim, cmap = 'seismic', **kwargs)\n",
        "  plt.colorbar()\n"
      ],
      "metadata": {
        "id": "atBe51lMqiCS"
      },
      "execution_count": 32,
      "outputs": []
    },
    {
      "cell_type": "code",
      "source": [
        "imshow_zero_center(h_mat)"
      ],
      "metadata": {
        "colab": {
          "base_uri": "https://localhost:8080/",
          "height": 374
        },
        "id": "rWYpSMdUqtwf",
        "outputId": "44bddb47-6367-4577-bf4a-8f0b4a0cd6c9"
      },
      "execution_count": 33,
      "outputs": [
        {
          "output_type": "display_data",
          "data": {
            "text/plain": [
              "<Figure size 576x432 with 2 Axes>"
            ],
            "image/png": "[encoded data removed]"
          },
          "metadata": {
            "needs_background": "light"
          }
        }
      ]
    },
    {
      "cell_type": "code",
      "source": [
        "# 뉴턴 업데이트\n",
        "eps = 1e-3\n",
        "eye_Eps = tf.eye(h_mat.shape[0]) * eps # tf.eye : build identity Matrix"
      ],
      "metadata": {
        "id": "wHKyioSaqvLl"
      },
      "execution_count": 34,
      "outputs": []
    },
    {
      "cell_type": "code",
      "source": [
        "update = tf.linalg.solve(h_mat + eye_Eps, g_vec) # tf.linalg : 선형식에 대한 모듈\n",
        "\n",
        "_ = layer1.kernel.assign_sub(tf.reshape(update, layer1.kernel.shape))"
      ],
      "metadata": {
        "id": "TMSua0NMracO"
      },
      "execution_count": 35,
      "outputs": []
    },
    {
      "cell_type": "markdown",
      "source": [
        "## Batch Jacobian"
      ],
      "metadata": {
        "id": "DpNowwJYrymo"
      }
    },
    {
      "cell_type": "code",
      "source": [
        "x = tf.random.normal([7, 5]) # (batch, ins)\n",
        "\n",
        "layer1 = tf.keras.layers.Dense(8, activation = tf.nn.relu)\n",
        "layer2 = tf.keras.layers.Dense(6, activation = tf.nn.relu)\n",
        "\n",
        "with tf.GradientTape(persistent = True, watch_accessed_variables = False) as tape:\n",
        "  tape.watch(x)\n",
        "  y = layer1(x)\n",
        "  y = layer2(y) # (batch, outs)\n",
        "\n",
        "y.shape"
      ],
      "metadata": {
        "colab": {
          "base_uri": "https://localhost:8080/"
        },
        "id": "bsJZfGA0rhtB",
        "outputId": "d1977904-7686-45d0-bae1-20854442faa0"
      },
      "execution_count": 37,
      "outputs": [
        {
          "output_type": "execute_result",
          "data": {
            "text/plain": [
              "TensorShape([7, 6])"
            ]
          },
          "metadata": {},
          "execution_count": 37
        }
      ]
    },
    {
      "cell_type": "code",
      "source": [
        "# x에 대한 y의 전체 야고비안은 (batch, ins, outs)만 원하는 경우에도 (batch, ins, batch, outs)의 shape를 가짐\n",
        "j = tape.jacobian(y,x)\n",
        "j.shape"
      ],
      "metadata": {
        "colab": {
          "base_uri": "https://localhost:8080/"
        },
        "id": "tA6aEfiFsA0L",
        "outputId": "d08ff223-c5ca-4058-c49a-f98526f63fd6"
      },
      "execution_count": 38,
      "outputs": [
        {
          "output_type": "execute_result",
          "data": {
            "text/plain": [
              "TensorShape([7, 6, 7, 5])"
            ]
          },
          "metadata": {},
          "execution_count": 38
        }
      ]
    },
    {
      "cell_type": "code",
      "source": [
        "# 스택의 각 항목의 그래디언트가 독립적이라면 모든 (batch, batch) 슬라이스는 독립적이다\n",
        "imshow_zero_center(j[:, 0, :, 0])\n",
        "_ = plt.title('A (batch, batch) slice')"
      ],
      "metadata": {
        "colab": {
          "base_uri": "https://localhost:8080/",
          "height": 390
        },
        "id": "Gr7JWyWosQev",
        "outputId": "5aa6028d-6aa9-47fe-84b9-62f8fdfbf144"
      },
      "execution_count": 39,
      "outputs": [
        {
          "output_type": "display_data",
          "data": {
            "text/plain": [
              "<Figure size 576x432 with 2 Axes>"
            ],
            "image/png": "[encoded data removed]"
          },
          "metadata": {
            "needs_background": "light"
          }
        }
      ]
    },
    {
      "cell_type": "code",
      "source": [
        "def plot_as_patches(j):\n",
        "  j = tf.transpose(j, [1, 0, 3, 2])\n",
        "  lim = tf.reduce_max(abs(j))\n",
        "  j = tf.pad(j, [[0,0], [1,1], [0,0], [1,1]], constant_values = -lim)\n",
        "\n",
        "  s = j.shape\n",
        "  j = tf.reshape(j, [s[0]* s[1], s[2] * s[3]])\n",
        "  imshow_zero_center(j, extent=[-0.5, s[2]-0.5, s[0]-0.5, -0.5])\n",
        "\n",
        "plot_as_patches(j)\n",
        "_ = plt.title('All (batch, batch) slices are diagonal')"
      ],
      "metadata": {
        "colab": {
          "base_uri": "https://localhost:8080/",
          "height": 390
        },
        "id": "g2FXcbXssZag",
        "outputId": "ab5afb13-69f0-49bb-e776-2a94a710ce52"
      },
      "execution_count": 41,
      "outputs": [
        {
          "output_type": "display_data",
          "data": {
            "text/plain": [
              "<Figure size 576x432 with 2 Axes>"
            ],
            "image/png": "[encoded data removed]"
          },
          "metadata": {
            "needs_background": "light"
          }
        }
      ]
    },
    {
      "cell_type": "code",
      "source": [
        "# 원하는 결과를 얻으려면 중복 batch 차원을 합산하거나 tf.einsum을 사용해 대각선을 선택할 수 있다.\n",
        "j_sum = tf.reduce_sum(j, axis = 2)\n",
        "print(j_sum.shape)\n",
        "j_select = tf.einsum('bxby->bxy', j)\n",
        "print(j_select.shape)"
      ],
      "metadata": {
        "colab": {
          "base_uri": "https://localhost:8080/"
        },
        "id": "MKQlc554s2Rn",
        "outputId": "614d1b5d-bd4c-465b-d2cf-6af6a27e27b1"
      },
      "execution_count": 42,
      "outputs": [
        {
          "output_type": "stream",
          "name": "stdout",
          "text": [
            "(7, 6, 5)\n",
            "(7, 6, 5)\n"
          ]
        }
      ]
    },
    {
      "cell_type": "code",
      "source": [
        "# 처음부터 추가 차원 없이 계싼 수행하는 게 더 효율적이다 : `GradientTape.batch_jacobian` 메소드\n",
        "jb = tape.batch_jacobian(y, x)\n",
        "jb.shape"
      ],
      "metadata": {
        "colab": {
          "base_uri": "https://localhost:8080/"
        },
        "id": "MaTd_V0PtHa3",
        "outputId": "6f038670-71cc-474a-aa08-7a73de71c361"
      },
      "execution_count": 43,
      "outputs": [
        {
          "output_type": "stream",
          "name": "stdout",
          "text": [
            "WARNING:tensorflow:5 out of the last 5 calls to <function pfor.<locals>.f at 0x7f7ea28f5560> triggered tf.function retracing. Tracing is expensive and the excessive number of tracings could be due to (1) creating @tf.function repeatedly in a loop, (2) passing tensors with different shapes, (3) passing Python objects instead of tensors. For (1), please define your @tf.function outside of the loop. For (2), @tf.function has experimental_relax_shapes=True option that relaxes argument shapes that can avoid unnecessary retracing. For (3), please refer to https://www.tensorflow.org/guide/function#controlling_retracing and https://www.tensorflow.org/api_docs/python/tf/function for  more details.\n"
          ]
        },
        {
          "output_type": "execute_result",
          "data": {
            "text/plain": [
              "TensorShape([7, 6, 5])"
            ]
          },
          "metadata": {},
          "execution_count": 43
        }
      ]
    },
    {
      "cell_type": "code",
      "source": [
        "# GradientTape.batch_jacobian은 1번째 차원만 일치하는지 확인하고 그래디언트가 실제로 독립인지 확인하지 않는다.\n",
        "# 언제 쓸 것인가는 사용자에게 달려 있음\n",
        "# 예를 들어 layers.BatchNormalization을 추가하면 정규화되므로 독립성이 없어짐\n",
        "x = tf.random.normal([7, 5])\n",
        "\n",
        "layer1 = tf.keras.layers.Dense(8, activation = tf.nn.elu)\n",
        "bn = tf.keras.layers.BatchNormalization()\n",
        "layer2 = tf.keras.layers.Dense(6, activation = tf.nn.elu)\n",
        "\n",
        "with tf.GradientTape(persistent = True, watch_accessed_variables = False) as tape:\n",
        "  tape.watch(x)\n",
        "  y = layer1(x)\n",
        "  y = bn(y, training = True)\n",
        "  y = layer2(y)\n",
        "\n",
        "j = tape.jacobian(y, x)\n",
        "print(f'j.shape : {j.shape}')"
      ],
      "metadata": {
        "colab": {
          "base_uri": "https://localhost:8080/"
        },
        "id": "9FMJIzJ5tO2l",
        "outputId": "04e824a2-7334-4003-c6e0-e299ccc3ad15"
      },
      "execution_count": 44,
      "outputs": [
        {
          "output_type": "stream",
          "name": "stdout",
          "text": [
            "WARNING:tensorflow:6 out of the last 6 calls to <function pfor.<locals>.f at 0x7f7ea2242c20> triggered tf.function retracing. Tracing is expensive and the excessive number of tracings could be due to (1) creating @tf.function repeatedly in a loop, (2) passing tensors with different shapes, (3) passing Python objects instead of tensors. For (1), please define your @tf.function outside of the loop. For (2), @tf.function has experimental_relax_shapes=True option that relaxes argument shapes that can avoid unnecessary retracing. For (3), please refer to https://www.tensorflow.org/guide/function#controlling_retracing and https://www.tensorflow.org/api_docs/python/tf/function for  more details.\n",
            "j.shape : (7, 6, 7, 5)\n"
          ]
        }
      ]
    },
    {
      "cell_type": "code",
      "source": [
        "plot_as_patches(j) # Diagonal 행렬이 아니죠? 그러나 batch_jacobian은 여전히 실행되는 걸 볼 수 있음"
      ],
      "metadata": {
        "colab": {
          "base_uri": "https://localhost:8080/",
          "height": 374
        },
        "id": "YvLyf29TtrhS",
        "outputId": "ee6c3917-e064-4c6a-805e-fe31e5333631"
      },
      "execution_count": 45,
      "outputs": [
        {
          "output_type": "display_data",
          "data": {
            "text/plain": [
              "<Figure size 576x432 with 2 Axes>"
            ],
            "image/png": "[encoded data removed]"
          },
          "metadata": {
            "needs_background": "light"
          }
        }
      ]
    },
    {
      "cell_type": "code",
      "source": [
        "jb = tape.batch_jacobian(y, x)\n",
        "print(f\"jb.shape : {jb.shape}\")"
      ],
      "metadata": {
        "colab": {
          "base_uri": "https://localhost:8080/"
        },
        "id": "FAufwHM-tt5U",
        "outputId": "90986964-782e-431a-df22-efefb1304ae0"
      },
      "execution_count": 46,
      "outputs": [
        {
          "output_type": "stream",
          "name": "stdout",
          "text": [
            "jb.shape : (7, 6, 5)\n"
          ]
        }
      ]
    },
    {
      "cell_type": "code",
      "source": [
        ""
      ],
      "metadata": {
        "id": "15roRaWqt7Nl"
      },
      "execution_count": null,
      "outputs": []
    }
  ]
}