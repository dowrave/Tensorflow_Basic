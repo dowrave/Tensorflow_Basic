{
  "nbformat": 4,
  "nbformat_minor": 0,
  "metadata": {
    "colab": {
      "name": "220517_RaggedTensor.ipynb",
      "provenance": [],
      "authorship_tag": "ABX9TyMp/Ki9Fj1yk0YaPL2Pbbcy",
      "include_colab_link": true
    },
    "kernelspec": {
      "name": "python3",
      "display_name": "Python 3"
    },
    "language_info": {
      "name": "python"
    }
  },
  "cells": [
    {
      "cell_type": "markdown",
      "metadata": {
        "id": "view-in-github",
        "colab_type": "text"
      },
      "source": [
        "<a href=\"https://colab.research.google.com/github/dowrave/Tensorflow_Basic/blob/main/220517_RaggedTensor.ipynb\" target=\"_parent\"><img src=\"https://colab.research.google.com/assets/colab-badge.svg\" alt=\"Open In Colab\"/></a>"
      ]
    },
    {
      "cell_type": "code",
      "execution_count": 1,
      "metadata": {
        "id": "v44DF6NfuUOL"
      },
      "outputs": [],
      "source": [
        "import math\n",
        "import tensorflow as tf"
      ]
    },
    {
      "cell_type": "markdown",
      "source": [
        "# 비정형 텐서\n",
        "- 중첩 가변 길이 목록에 해당하는 텐서\n",
        "- 균일하지 않은 모양으로 데이터를 쉽게 저장하고 처리할 수 있다.\n",
        "  1. 영화 배우의 이름 같은 가변 길이\n",
        "  2. 문장 ,비디오 클립 등 가변 길이 시퀀스의 배치\n",
        "  3. 텍스트 문서 같은 계층적 입력\n",
        "  4. 프로토콜 버퍼와 같은 구조화된 입력의 개별 필드 (???)\n"
      ],
      "metadata": {
        "id": "V0B2Q6hnulRD"
      }
    },
    {
      "cell_type": "markdown",
      "source": [
        "## 비정형 텐서로 할 수 있는 일\n",
        "- 수학 연산(`tf.add`, `tf.reduce_mean`), 배열 연산(`tf.concat`, `tf.tile`), 문자열 조작 작업(`tf.substr`을 포함한 수백 가지 이상의 텐서플로우 연산이 지원된다."
      ],
      "metadata": {
        "id": "h1NI7NXAux8S"
      }
    },
    {
      "cell_type": "code",
      "source": [
        "digits = tf.ragged.constant([[3, 1, 4, 1], [], [5, 9, 2], [6], []])\n",
        "words = tf.ragged.constant([[\"so\", \"long\"], [\"Thanks\", \"for\", \"all\", \"the\", \"fish\"]])\n",
        "print(tf.add(digits, 3))\n",
        "print(tf.reduce_mean(digits, axis = 1)) # 2차원 행렬의 axis = 1 이니까 가장 낮은 차원들 평균냄\n",
        "print(tf.concat([digits, [[5, 3]]], axis = 0)) \n",
        "print(tf.tile(digits, [1, 2])) # tile : 복제하는 건가봄?\n",
        "print(tf.strings.substr(words, 0, 2) ) # 각 string의 0, 1번째 글자만 보여줌"
      ],
      "metadata": {
        "colab": {
          "base_uri": "https://localhost:8080/"
        },
        "id": "6cB1Jyayuj7y",
        "outputId": "2f128db5-44e0-47b5-cfa5-5d565c37ba29"
      },
      "execution_count": 5,
      "outputs": [
        {
          "output_type": "stream",
          "name": "stdout",
          "text": [
            "<tf.RaggedTensor [[6, 4, 7, 4], [], [8, 12, 5], [9], []]>\n",
            "tf.Tensor([2.25              nan 5.33333333 6.                nan], shape=(5,), dtype=float64)\n",
            "<tf.RaggedTensor [[3, 1, 4, 1], [], [5, 9, 2], [6], [], [5, 3]]>\n",
            "<tf.RaggedTensor [[3, 1, 4, 1, 3, 1, 4, 1], [], [5, 9, 2, 5, 9, 2], [6, 6], []]>\n",
            "<tf.RaggedTensor [[b'so', b'lo'], [b'Th', b'fo', b'al', b'th', b'fi']]>\n"
          ]
        }
      ]
    },
    {
      "cell_type": "code",
      "source": [
        "# 인덱싱 슬라이싱 비슷함\n",
        "print(digits[0])\n",
        "print(digits[:, :2]) # 각 행의 처음 두 값\n",
        "print(digits[:, -2:]) # 각 행의 마지막 두 값\n",
        "\n",
        "# 오버로드\n",
        "print(digits + 3)\n",
        "\n",
        "# 이건 shape 맞춰야 할 듯\n",
        "print(digits + tf.ragged.constant([[1,2,3,4], [], [5,6,7], [8], []]))"
      ],
      "metadata": {
        "colab": {
          "base_uri": "https://localhost:8080/"
        },
        "id": "mJIx3vZuvNyj",
        "outputId": "41e8ae5b-3432-4364-ea4f-7079840ecd9f"
      },
      "execution_count": 8,
      "outputs": [
        {
          "output_type": "stream",
          "name": "stdout",
          "text": [
            "tf.Tensor([3 1 4 1], shape=(4,), dtype=int32)\n",
            "<tf.RaggedTensor [[3, 1], [], [5, 9], [6], []]>\n",
            "<tf.RaggedTensor [[4, 1], [], [9, 2], [6], []]>\n",
            "<tf.RaggedTensor [[6, 4, 7, 4], [], [8, 12, 5], [9], []]>\n",
            "<tf.RaggedTensor [[4, 3, 7, 5], [], [10, 15, 9], [14], []]>\n"
          ]
        }
      ]
    },
    {
      "cell_type": "code",
      "source": [
        "# 요소별 반환 수행\n",
        "times_two_plus_one = lambda x : x * 2 + 1\n",
        "print(tf.ragged.map_flat_values(times_two_plus_one, digits))"
      ],
      "metadata": {
        "colab": {
          "base_uri": "https://localhost:8080/"
        },
        "id": "di0N16TZv-id",
        "outputId": "33cfd05f-2bae-4c4c-e06a-0a5eba98c266"
      },
      "execution_count": 9,
      "outputs": [
        {
          "output_type": "stream",
          "name": "stdout",
          "text": [
            "<tf.RaggedTensor [[7, 3, 9, 3], [], [11, 19, 5], [13], []]>\n"
          ]
        }
      ]
    },
    {
      "cell_type": "markdown",
      "source": [
        "## 비정형 텐서 생성하기\n",
        "- `tf.ragged.constant`"
      ],
      "metadata": {
        "id": "FMjHXuglwb3c"
      }
    },
    {
      "cell_type": "code",
      "source": [
        "sentences = tf.ragged.constant([\n",
        "                                [\"Let's\", \"build\", \"some\", \"ragged\", \"tensors\", \"!\"],\n",
        "                                ['We', \"can\", \"use\", 'tf.ragged.constant', \".\", 'a', 'b', 'c']\n",
        "])\n",
        "print(sentences)"
      ],
      "metadata": {
        "colab": {
          "base_uri": "https://localhost:8080/"
        },
        "id": "BE_hDVMNwaHg",
        "outputId": "b0bca4f0-edb9-4651-a88b-cb20136b63cc"
      },
      "execution_count": 11,
      "outputs": [
        {
          "output_type": "stream",
          "name": "stdout",
          "text": [
            "<tf.RaggedTensor [[b\"Let's\", b'build', b'some', b'ragged', b'tensors', b'!'],\n",
            " [b'We', b'can', b'use', b'tf.ragged.constant', b'.', b'a', b'b', b'c']]>\n"
          ]
        }
      ]
    },
    {
      "cell_type": "markdown",
      "source": [
        "`tf.RaggedTensor.from_value_rowids`, `tf.RaggedTensor.from_row_lengths` 및 `tf.RaggedTensor.from_row_splits`, `tf.RaggedTeosnr.from_row_splits` 와 같은 `팩토리 클래스 메서드`를 사용, 플랫 values 텐서와 행 분할 텐서 쌍을 지어 해당 값을 행으로 분할하는 방법을 표시하는 방식으로 만들 수도 있다"
      ],
      "metadata": {
        "id": "E2ETAye1w5a-"
      }
    },
    {
      "cell_type": "code",
      "source": [
        "# 1. .from_value_rowids : 각 값이 속하는 row의 id와 매칭시킴\n",
        "print(tf.RaggedTensor.from_value_rowids(\n",
        "    values = [3, 1, 4, 1, 5, 9, 2, 6],\n",
        "    value_rowids = [0, 0, 0, 0, 2, 2, 2, 3]\n",
        "))\n",
        "# 행 0 : 3, 1, 4, 1,\n",
        "# 행 1 : []\n",
        "# 행 2 : 5, 9, 2\n",
        "# 행 3 : 3"
      ],
      "metadata": {
        "colab": {
          "base_uri": "https://localhost:8080/"
        },
        "id": "Cg58yhe1wpsG",
        "outputId": "942e73a9-b94f-44a5-e9e2-6a802e22effa"
      },
      "execution_count": 12,
      "outputs": [
        {
          "output_type": "stream",
          "name": "stdout",
          "text": [
            "<tf.RaggedTensor [[3, 1, 4, 1], [], [5, 9, 2], [6]]>\n"
          ]
        }
      ]
    },
    {
      "cell_type": "code",
      "source": [
        "# 2. .from_row_lengths : 각 행의 길이를 알고 있으면 사용 가능\n",
        "print(tf.RaggedTensor.from_row_lengths(\n",
        "                                       values = [3, 1, 4, 1, 5, 9, 2, 6],\n",
        "                                       row_lengths = [4, 0, 3, 1] # values를 4개 / 0개 / 3개 / 1개로 끊음\n",
        "))"
      ],
      "metadata": {
        "colab": {
          "base_uri": "https://localhost:8080/"
        },
        "id": "kJEGG__0xUbw",
        "outputId": "184b30e9-1ea6-4f44-e682-01b58494dc97"
      },
      "execution_count": 15,
      "outputs": [
        {
          "output_type": "stream",
          "name": "stdout",
          "text": [
            "<tf.RaggedTensor [[3, 1, 4, 1], [], [5, 9, 2], [6]]>\n"
          ]
        }
      ]
    },
    {
      "cell_type": "code",
      "source": [
        "# 3. .from_row_splits : 각 행의 시작과 끝 인덱스로 분할\n",
        "print(tf.RaggedTensor.from_row_splits(\n",
        "    values = [3, 1, 4, 1, 5, 9, 2, 6],\n",
        "    row_splits = [0, 4, 4, 7, 8] # 1행의 시작 인덱스 : 0 ~ 끝 인덱스 : 3 / 2행 : x / 3행 : 4 ~ 6 / 4행 : 7\n",
        "))"
      ],
      "metadata": {
        "colab": {
          "base_uri": "https://localhost:8080/"
        },
        "id": "XBXSNlSXxjWO",
        "outputId": "3825102a-a30d-4a36-feb1-da8878bc2bce"
      },
      "execution_count": 16,
      "outputs": [
        {
          "output_type": "stream",
          "name": "stdout",
          "text": [
            "<tf.RaggedTensor [[3, 1, 4, 1], [], [5, 9, 2], [6]]>\n"
          ]
        }
      ]
    },
    {
      "cell_type": "markdown",
      "source": [
        "### 비정형 텐서에 저장할 수 있는 것\n",
        "- 모든 데이터는 같은 자료형이어야 함(string과 int를 동시에 가질 수 없음)\n",
        "- 모든 데이터는 같은 rank 깊이에 있어야 함 - 이건 예제로 보자"
      ],
      "metadata": {
        "id": "MYyCVDhQyOnS"
      }
    },
    {
      "cell_type": "code",
      "source": [
        "try:\n",
        "  tf.ragged.constant(['A', ['B', 'C']]) # A는 랭크 1의 깊이에, B,C는 랭크 2의 깊이에 있음 -> 이거 안됨!\n",
        "except ValueError as e:\n",
        "  print(e)"
      ],
      "metadata": {
        "colab": {
          "base_uri": "https://localhost:8080/"
        },
        "id": "t1OoJSLkx_ke",
        "outputId": "761dd8c5-54c6-4610-f186-9bfc05babc34"
      },
      "execution_count": 17,
      "outputs": [
        {
          "output_type": "stream",
          "name": "stdout",
          "text": [
            "all scalar values must have the same nesting depth\n"
          ]
        }
      ]
    },
    {
      "cell_type": "markdown",
      "source": [
        "## 사용 예시\n",
        "- 문장의 시작, 끝에 특수 마커를 사용하여 가변 길이 쿼리 배치에 대한 유니그램 & 바이그램 임베딩을 생성하고 결합하는 방법임"
      ],
      "metadata": {
        "id": "4dEA0OeZyve3"
      }
    },
    {
      "cell_type": "code",
      "source": [
        "queries = tf.ragged.constant([['Who', 'is', 'Dan', 'Smith'],\n",
        "                              ['Pause'],\n",
        "                              ['Will', 'it', 'rain', 'later', 'today']])\n",
        "\n",
        "# 임베딩 테이블\n",
        "num_buckets = 1024\n",
        "embedding_size = 4\n",
        "embedding_table = tf.Variable(\n",
        "    tf.random.truncated_normal([num_buckets, embedding_size],\n",
        "                              stddev = 1. / math.sqrt(embedding_size))\n",
        ")\n",
        "\n",
        "# 각 단어의 임베딩 찾기\n",
        "word_buckets = tf.strings.to_hash_bucket_fast(queries, num_buckets)\n",
        "word_embeddings = tf.ragged.map_flat_values(\n",
        "    tf.nn.embedding_lookup, embedding_table, word_buckets\n",
        ")\n",
        "\n",
        "# 문장의 시작 & 끝에 마커 추가하기\n",
        "marker = tf.fill([queries.nrows(), 1], '#')\n",
        "padded = tf.concat([marker, queries, marker], axis = 1)\n",
        "\n",
        "# 바이그램 빌드 & 임베딩 찾기\n",
        "bigrams = tf.strings.join([padded[:, :-1], \n",
        "                           padded[:, 1:]],\n",
        "                          separator = '+')\n",
        "bigram_buckets = tf.strings.to_hash_bucket_fast(bigrams, num_buckets)\n",
        "bigram_embeddings = tf.ragged.map_flat_values(\n",
        "    tf.nn.embedding_lookup, embedding_table, bigram_buckets\n",
        ")\n",
        "\n",
        "# 각 문장의 평균 임베딩 찾기\n",
        "all_embeddings = tf.concat([word_embeddings, bigram_embeddings], axis = 1)\n",
        "avg_embedding = tf.reduce_mean(all_embeddings, axis = 1)\n",
        "print(avg_embedding)"
      ],
      "metadata": {
        "colab": {
          "base_uri": "https://localhost:8080/"
        },
        "id": "dkUi798RykdC",
        "outputId": "43249ce7-fb56-4022-8664-f9e8a23f37ff"
      },
      "execution_count": 22,
      "outputs": [
        {
          "output_type": "stream",
          "name": "stdout",
          "text": [
            "tf.Tensor(\n",
            "[[ 0.00877267 -0.3072497  -0.13669692 -0.06224914]\n",
            " [-0.0439583   0.35983837 -0.32927927 -0.11899059]\n",
            " [ 0.18094099  0.04968625 -0.1974644  -0.05830651]], shape=(3, 4), dtype=float32)\n"
          ]
        }
      ]
    },
    {
      "cell_type": "markdown",
      "source": [
        "# 비정형 텐서 : 정의\n",
        "- 슬라이스의 길이가 다를 수 있는 하나 이상의 빕정형 크기를 갖는 텐서.\n",
        "- `정형차원` : 부분의 길이가 모두 같은 차원\n",
        "- 가장 바깥쪽 차원은 단일 슬라이스 -> 슬라이스의 길이는 항상 균일함\n",
        "- `[num_sentences, (num_words), embdding_size]` 형태의 비정형 텐서로 각 단어에 대한 단어 임베딩을 일련의 문장으로 저장할 수 있다.\n",
        "\n",
        "## 형태 제한\n",
        "- 비정형 텐서의 형태는\n",
        "1. 단일 정형 차원\n",
        "2. 하나 이상의 비정형 차원\n",
        "3. 0 이상의 정형 차원\n",
        "  - 요 3가지로 제한됨\n",
        "\n",
        "## 랭크\n",
        "- 비정형 텐서의 총 차원수 = 랭크 / 비정형 차원 수를 비정형 랭크라고 한다."
      ],
      "metadata": {
        "id": "joMvLCYkz6aw"
      }
    },
    {
      "cell_type": "markdown",
      "source": [
        "- RaggedTensor.shape는 비정형 텐서에 대해 크기가 없는 비정형 차원인 tf.TensorShape를 반환한다."
      ],
      "metadata": {
        "id": "Wmp7GIuI0kYE"
      }
    },
    {
      "cell_type": "code",
      "source": [
        "tf.ragged.constant([['Hi'], [\"How\", \"are\", \"you\"]]).shape"
      ],
      "metadata": {
        "colab": {
          "base_uri": "https://localhost:8080/"
        },
        "id": "hFalP0x-zrub",
        "outputId": "99dabcaf-aa43-4c93-eeda-35bb0054ccbd"
      },
      "execution_count": 23,
      "outputs": [
        {
          "output_type": "execute_result",
          "data": {
            "text/plain": [
              "TensorShape([2, None])"
            ]
          },
          "metadata": {},
          "execution_count": 23
        }
      ]
    },
    {
      "cell_type": "markdown",
      "source": [
        "`tf.RaggedTensor.bouding_shape` 메소드로 모든 경계를 반환할 수 있음"
      ],
      "metadata": {
        "id": "sbD-7yF_0xRn"
      }
    },
    {
      "cell_type": "code",
      "source": [
        "print(tf.ragged.constant([[\"Hi\"], [\"How\", \"Are\", \"You\"]]).bounding_shape())"
      ],
      "metadata": {
        "colab": {
          "base_uri": "https://localhost:8080/"
        },
        "id": "NQ_n6iR70hj1",
        "outputId": "42980f84-149d-4d24-dd72-eab6518233eb"
      },
      "execution_count": 24,
      "outputs": [
        {
          "output_type": "stream",
          "name": "stdout",
          "text": [
            "tf.Tensor([2 3], shape=(2,), dtype=int64)\n"
          ]
        }
      ]
    },
    {
      "cell_type": "code",
      "source": [
        ""
      ],
      "metadata": {
        "id": "O3bANbpZ0wjO"
      },
      "execution_count": null,
      "outputs": []
    }
  ]
}