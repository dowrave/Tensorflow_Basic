{
  "nbformat": 4,
  "nbformat_minor": 0,
  "metadata": {
    "colab": {
      "name": "220517_Training_Loop.ipynb",
      "provenance": [],
      "authorship_tag": "ABX9TyPMR+VrRPMohassgV8uJhOI",
      "include_colab_link": true
    },
    "kernelspec": {
      "name": "python3",
      "display_name": "Python 3"
    },
    "language_info": {
      "name": "python"
    }
  },
  "cells": [
    {
      "cell_type": "markdown",
      "metadata": {
        "id": "view-in-github",
        "colab_type": "text"
      },
      "source": [
        "<a href=\"https://colab.research.google.com/github/dowrave/Tensorflow_Basic/blob/main/220517_Training_Loop.ipynb\" target=\"_parent\"><img src=\"https://colab.research.google.com/assets/colab-badge.svg\" alt=\"Open In Colab\"/></a>"
      ]
    },
    {
      "cell_type": "markdown",
      "source": [
        "# 기본 훈련 루프\n",
        "- 머신러닝 문제의 해결 과정\n",
        "1. 훈련 데이터 얻기\n",
        "2. 모델 정의하기 \n",
        "3. 손실함수 정의하기\n",
        "4. 훈련데이터 실행, 이상적인 값에서 손실 계산\n",
        "5. 손실에 대한 기울기 계산 & 최적화하여 데이터에 맞게 변수 조정\n",
        "6. 결과 평가\n",
        "\n",
        "- 이번 예제는 f(x) = x*W + b 를 다룸"
      ],
      "metadata": {
        "id": "j3nl9VSca7-c"
      }
    },
    {
      "cell_type": "code",
      "source": [
        "import tensorflow as tf"
      ],
      "metadata": {
        "id": "CFM59jR4becJ"
      },
      "execution_count": 1,
      "outputs": []
    },
    {
      "cell_type": "markdown",
      "source": [
        "## 데이터\n",
        "- 입력(X)와 출력(y, 가끔 레이블)\n",
        "- tf에서 데이터의 각 입력은 거의 항상 텐서로 표현되며 벡터임. 출력값도 마찬가지\n"
      ],
      "metadata": {
        "id": "1SZoHHWObP1q"
      }
    },
    {
      "cell_type": "code",
      "execution_count": 4,
      "metadata": {
        "id": "GtyZlxcJaskO"
      },
      "outputs": [],
      "source": [
        "TRUE_W = 3.0\n",
        "TRUE_B = 2.0\n",
        "\n",
        "NUM_EXAMPLES = 1000\n",
        "\n",
        "x = tf.random.normal(shape = [NUM_EXAMPLES])\n",
        "noise = tf.random.normal(shape = [NUM_EXAMPLES])\n",
        "\n",
        "y = x * TRUE_W + noise"
      ]
    },
    {
      "cell_type": "code",
      "source": [
        "import matplotlib.pyplot as plt\n",
        "\n",
        "plt.scatter(x, y, c= 'b')\n",
        "plt.plot()"
      ],
      "metadata": {
        "colab": {
          "base_uri": "https://localhost:8080/",
          "height": 283
        },
        "id": "LSGuu0wkblKK",
        "outputId": "a9cf6c31-dea3-4b5a-bf6f-78979909b64d"
      },
      "execution_count": 5,
      "outputs": [
        {
          "output_type": "execute_result",
          "data": {
            "text/plain": [
              "[]"
            ]
          },
          "metadata": {},
          "execution_count": 5
        },
        {
          "output_type": "display_data",
          "data": {
            "text/plain": [
              "<Figure size 432x288 with 1 Axes>"
            ],
            "image/png": "[encoded data removed]"
          },
          "metadata": {
            "needs_background": "light"
          }
        }
      ]
    },
    {
      "cell_type": "markdown",
      "source": [
        "- 텐서는 일반적으로 batch 또는 입, 출력이 함께 쌓인 그룹의 형태로 수집된다.\n",
        "- 일괄 처리는 몇 가지 훈련 이점이 있으며 가속기 또는 벡터화된 계산에서 잘 동작한다.\n",
        "- 데이터세트가 충분히 작다면 전체 데이터 세트를 단일 배치로 처리할 수 있다."
      ],
      "metadata": {
        "id": "FjJEehiYbxno"
      }
    },
    {
      "cell_type": "markdown",
      "source": [
        "## 모델 정의\n",
        "- `tf.Variable`을 통해 모델의 모든 가중치를 나타낼 수 있다. 필요에 따라 텐서 형식도 제공함.\n",
        "- `tf.Module`을 통해 변수, 계산을 캡슐화한다. "
      ],
      "metadata": {
        "id": "Ef4RL5mEb7CK"
      }
    },
    {
      "cell_type": "code",
      "source": [
        "# w, b를 변수로 저장함\n",
        "class MyModel(tf.Module):\n",
        "  def __init__(self, **kwargs):\n",
        "    super().__init__(**kwargs)\n",
        "    # 초기값 지정 - 케라스에서는 여러 초기화 함수를 제공하고 있음\n",
        "    self.w = tf.Variable(5.)\n",
        "    self.b = tf.Variable(0.)\n",
        "\n",
        "  def __call__(self, x):\n",
        "    return self.w * x + self.b\n",
        "\n",
        "model = MyModel()\n",
        "\n",
        "print(\"Variables  : \", model.variables)\n",
        "\n",
        "assert model(3.).numpy() == 15."
      ],
      "metadata": {
        "colab": {
          "base_uri": "https://localhost:8080/"
        },
        "id": "SuM6V4kFbpZK",
        "outputId": "34233c9a-89f4-49e7-82c4-b400fdce00d8"
      },
      "execution_count": 6,
      "outputs": [
        {
          "output_type": "stream",
          "name": "stdout",
          "text": [
            "Variables  :  (<tf.Variable 'Variable:0' shape=() dtype=float32, numpy=0.0>, <tf.Variable 'Variable:0' shape=() dtype=float32, numpy=5.0>)\n"
          ]
        }
      ]
    },
    {
      "cell_type": "markdown",
      "source": [
        "## 손실 함수 정의\n",
        "- 여기선 평균 제곱 오류  = `L2 NORM`을 정의함"
      ],
      "metadata": {
        "id": "oY4pqqdcckms"
      }
    },
    {
      "cell_type": "code",
      "source": [
        "def loss(target_y, predicted_y):\n",
        "  return tf.reduce_mean(tf.square(target_y - predicted_y))\n",
        "  "
      ],
      "metadata": {
        "id": "U9ePDgCQcZHr"
      },
      "execution_count": 7,
      "outputs": []
    },
    {
      "cell_type": "code",
      "source": [
        "plt.scatter(x, y, c= 'b') # 파란 선 : 훈련 데이터\n",
        "plt.scatter(x, model(x), c= 'r') # 붉은 선 : 모델의 예측\n",
        "plt.show()"
      ],
      "metadata": {
        "colab": {
          "base_uri": "https://localhost:8080/",
          "height": 265
        },
        "id": "4ZJOmG1FcwEX",
        "outputId": "7c1cbeea-f3f9-40f0-d9c7-178f65dde963"
      },
      "execution_count": 8,
      "outputs": [
        {
          "output_type": "display_data",
          "data": {
            "text/plain": [
              "<Figure size 432x288 with 1 Axes>"
            ],
            "image/png": "[encoded data removed]"
          },
          "metadata": {
            "needs_background": "light"
          }
        }
      ]
    },
    {
      "cell_type": "code",
      "source": [
        "print(\"Currrent Loss : %1.6f\" % loss(y, model(x)).numpy())"
      ],
      "metadata": {
        "colab": {
          "base_uri": "https://localhost:8080/"
        },
        "id": "ZBF40AyMcyrE",
        "outputId": "8f69023d-4818-4e8d-87f4-3e33ae27d385"
      },
      "execution_count": 9,
      "outputs": [
        {
          "output_type": "stream",
          "name": "stdout",
          "text": [
            "Currrent Loss : 5.057818\n"
          ]
        }
      ]
    },
    {
      "cell_type": "markdown",
      "source": [
        "## 훈련 루프 정의\n",
        "- 3가지 작업을 반복해서 수행한다.\n",
        "  1. 모델을 통해 입력 배치 전송 & 출력 생성\n",
        "  2. 출력을 출력(or 레이블)과 비교하여 손실 계산\n",
        "  3. 그래디언트 테이프로 그래디언트 찾기\n",
        "  4. 해당 그래디언트로 변수 최적화\n",
        "- 예제에서는 경사 하강법을 이용함\n",
        "- `tf.keras.optimizers`의 경사 하강법 체계에는 다양한 변형이 있다. 그러나 기본적인 수학을 직접 구현할 것이며, `tf.GradientTape`와 `tf.assign_sub`(`tf.assign` 및 `tf.sub`의 결합)을 이용한다."
      ],
      "metadata": {
        "id": "V7maVV_Ic-dO"
      }
    },
    {
      "cell_type": "code",
      "source": [
        "def train(model, x, y ,learning_rate):\n",
        "  with tf.GradientTape() as tape:\n",
        "    current_loss = loss(y, model(x))\n",
        "\n",
        "  dw, db = tape.gradient(current_loss, [model.w, model.b])\n",
        "\n",
        "  model.w.assign_sub(learning_rate * dw)\n",
        "  model.b.assign_sub(learning_rate * db)\n"
      ],
      "metadata": {
        "id": "4udlYHuFc834"
      },
      "execution_count": 11,
      "outputs": []
    },
    {
      "cell_type": "code",
      "source": [
        "# 훈련 \n",
        "model = MyModel()\n",
        "\n",
        "Ws, bs = [], []\n",
        "epochs = range(10)\n",
        "\n",
        "def training_loop(model, x, y):\n",
        "  for epoch in epochs:\n",
        "    train(model, x, y, learning_rate = 0.1)\n",
        "\n",
        "    Ws.append(model.w.numpy())\n",
        "    bs.append(model.b.numpy())\n",
        "    current_loss = loss(y, model(x))\n",
        "\n",
        "    print(\"Epoch %2d: W = %1.2f b = %1.2f, loss = %2.5f\"%(epoch, Ws[-1], bs[-1], current_loss))\n"
      ],
      "metadata": {
        "id": "1MflROsPd3IQ"
      },
      "execution_count": 15,
      "outputs": []
    },
    {
      "cell_type": "code",
      "source": [
        "print(\"Starting : W = %1.2f, b = %1.2f, loss = %2.5f\"%(model.w, model.b, loss(y, model(x))))\n",
        "\n",
        "training_loop(model, x, y)\n",
        "\n",
        "plt.plot(epochs, Ws, \"r\", epochs, bs, 'b') # 이런 문법이 되네?\n",
        "\n",
        "plt.plot([TRUE_W] * len(epochs), 'r--', [TRUE_B] * len(epochs), 'b--')\n",
        "\n",
        "plt.show()"
      ],
      "metadata": {
        "colab": {
          "base_uri": "https://localhost:8080/",
          "height": 464
        },
        "id": "DdAxYQEweSei",
        "outputId": "4c0ae617-5fd4-4457-c776-3ba3072d5615"
      },
      "execution_count": 17,
      "outputs": [
        {
          "output_type": "stream",
          "name": "stdout",
          "text": [
            "Starting : W = 5.00, b = 0.00, loss = 5.05782\n",
            "Epoch  0: W = 4.59 b = 0.00, loss = 3.54661\n",
            "Epoch  1: W = 4.26 b = 0.00, loss = 2.58928\n",
            "Epoch  2: W = 4.00 b = 0.00, loss = 1.98283\n",
            "Epoch  3: W = 3.80 b = 0.00, loss = 1.59865\n",
            "Epoch  4: W = 3.63 b = 0.00, loss = 1.35528\n",
            "Epoch  5: W = 3.50 b = -0.00, loss = 1.20110\n",
            "Epoch  6: W = 3.40 b = -0.00, loss = 1.10343\n",
            "Epoch  7: W = 3.31 b = -0.00, loss = 1.04155\n",
            "Epoch  8: W = 3.25 b = -0.00, loss = 1.00236\n",
            "Epoch  9: W = 3.19 b = -0.00, loss = 0.97753\n"
          ]
        },
        {
          "output_type": "display_data",
          "data": {
            "text/plain": [
              "<Figure size 432x288 with 1 Axes>"
            ],
            "image/png": "[encoded data removed]"
          },
          "metadata": {
            "needs_background": "light"
          }
        }
      ]
    },
    {
      "cell_type": "code",
      "source": [
        "plt.scatter(x, y, c='b')\n",
        "plt.scatter(x, model(x), c='r')\n",
        "plt.show()"
      ],
      "metadata": {
        "colab": {
          "base_uri": "https://localhost:8080/",
          "height": 265
        },
        "id": "XFPDG3zQemFa",
        "outputId": "15a01812-9b83-4430-a370-c68598383bc8"
      },
      "execution_count": 18,
      "outputs": [
        {
          "output_type": "display_data",
          "data": {
            "text/plain": [
              "<Figure size 432x288 with 1 Axes>"
            ],
            "image/png": "[encoded data removed]"
          },
          "metadata": {
            "needs_background": "light"
          }
        }
      ]
    },
    {
      "cell_type": "markdown",
      "source": [
        "# 같은 코드를 케라스로 구현"
      ],
      "metadata": {
        "id": "8AtW69Q_fIhL"
      }
    },
    {
      "cell_type": "code",
      "source": [
        "class MyModelKeras(tf.keras.Model):\n",
        "  def __init__(self, **kwargs):\n",
        "    super().__init__(**kwargs)\n",
        "    self.w = tf.Variable(5.)\n",
        "    self.b = tf.Variable(0.)\n",
        "\n",
        "  def call(self, x):\n",
        "    return self.w * x + self.b\n",
        "\n",
        "keras_model = MyModelKeras()\n",
        "\n",
        "training_loop(keras_model, x, y)\n",
        "\n",
        "# 케라스 빌트인 서포트로 checkpoint도 있다.\n",
        "keras_model.save_weights(\"my_checkpoint\")"
      ],
      "metadata": {
        "colab": {
          "base_uri": "https://localhost:8080/"
        },
        "id": "aX9vo5EcfGFB",
        "outputId": "5c412bc5-ff6e-4ca6-ba1b-59e8e0330cbe"
      },
      "execution_count": 21,
      "outputs": [
        {
          "output_type": "stream",
          "name": "stdout",
          "text": [
            "Epoch  0: W = 4.59 b = 0.00, loss = 3.54661\n",
            "Epoch  1: W = 4.26 b = 0.00, loss = 2.58928\n",
            "Epoch  2: W = 4.00 b = 0.00, loss = 1.98283\n",
            "Epoch  3: W = 3.80 b = 0.00, loss = 1.59865\n",
            "Epoch  4: W = 3.63 b = 0.00, loss = 1.35528\n",
            "Epoch  5: W = 3.50 b = -0.00, loss = 1.20110\n",
            "Epoch  6: W = 3.40 b = -0.00, loss = 1.10343\n",
            "Epoch  7: W = 3.31 b = -0.00, loss = 1.04155\n",
            "Epoch  8: W = 3.25 b = -0.00, loss = 1.00236\n",
            "Epoch  9: W = 3.19 b = -0.00, loss = 0.97753\n"
          ]
        }
      ]
    },
    {
      "cell_type": "markdown",
      "source": [
        "- 파라미터를 사용하려면 `model.compile()`을 이용하여 매개변수를 설정, `model.fit()`을 사용하여 훈련할 수 있다."
      ],
      "metadata": {
        "id": "X3s4rTRefrQe"
      }
    },
    {
      "cell_type": "code",
      "source": [
        "keras_model = MyModelKeras()\n",
        "\n",
        "keras_model.compile(\n",
        "    # 기본 설정 : fit()은 tf.function()을 이용한다. 디버깅을 위해선 이를 끄는 게 좋음 - 근데 지금은 켬\n",
        "    run_eagerly = False, # 즉 그래프 실행을 하겠다\n",
        "\n",
        "    optimizer = tf.keras.optimizers.SGD(learning_rate = 0.1),\n",
        "\n",
        "    # 이거 말고 위에서 정의한 손실함수를 써도 된다.\n",
        "    loss = tf.keras.losses.mean_squared_error\n",
        ")"
      ],
      "metadata": {
        "id": "ua6_i3tVfecp"
      },
      "execution_count": 23,
      "outputs": []
    },
    {
      "cell_type": "code",
      "source": [
        "print(x.shape[0])\n",
        "keras_model.fit(x, y, epochs = 10, \n",
        "                batch_size = 1000) # 기본 배치는 32, 위의 텐서플로우 예제와 동일하게 하기 위해 1000으로 진행"
      ],
      "metadata": {
        "colab": {
          "base_uri": "https://localhost:8080/"
        },
        "id": "TOgC-dtFgNLo",
        "outputId": "2f7d5257-226a-41fc-a721-3ad2c3a2fe03"
      },
      "execution_count": 24,
      "outputs": [
        {
          "output_type": "stream",
          "name": "stdout",
          "text": [
            "1000\n",
            "Epoch 1/10\n",
            "1/1 [==============================] - 0s 308ms/step - loss: 5.0578\n",
            "Epoch 2/10\n",
            "1/1 [==============================] - 0s 7ms/step - loss: 3.5466\n",
            "Epoch 3/10\n",
            "1/1 [==============================] - 0s 6ms/step - loss: 2.5893\n",
            "Epoch 4/10\n",
            "1/1 [==============================] - 0s 6ms/step - loss: 1.9828\n",
            "Epoch 5/10\n",
            "1/1 [==============================] - 0s 6ms/step - loss: 1.5987\n",
            "Epoch 6/10\n",
            "1/1 [==============================] - 0s 6ms/step - loss: 1.3553\n",
            "Epoch 7/10\n",
            "1/1 [==============================] - 0s 8ms/step - loss: 1.2011\n",
            "Epoch 8/10\n",
            "1/1 [==============================] - 0s 5ms/step - loss: 1.1034\n",
            "Epoch 9/10\n",
            "1/1 [==============================] - 0s 5ms/step - loss: 1.0416\n",
            "Epoch 10/10\n",
            "1/1 [==============================] - 0s 5ms/step - loss: 1.0024\n"
          ]
        },
        {
          "output_type": "execute_result",
          "data": {
            "text/plain": [
              "<keras.callbacks.History at 0x7ff6eeb03b90>"
            ]
          },
          "metadata": {},
          "execution_count": 24
        }
      ]
    },
    {
      "cell_type": "markdown",
      "source": [
        "- 케라스의 loss는 기본적으로 훈련 후 손실을 보여주기 때문에 1번째 손실이 더 낮게 출력된다. "
      ],
      "metadata": {
        "id": "HNZwLVzDgxjX"
      }
    },
    {
      "cell_type": "code",
      "source": [
        ""
      ],
      "metadata": {
        "id": "xt0gWg6tgfHd"
      },
      "execution_count": null,
      "outputs": []
    }
  ]
}