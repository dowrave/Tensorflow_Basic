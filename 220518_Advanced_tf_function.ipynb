{
  "nbformat": 4,
  "nbformat_minor": 0,
  "metadata": {
    "colab": {
      "name": "220518_Advanced_tf_function.ipynb",
      "provenance": [],
      "authorship_tag": "ABX9TyPv7NR0dd8ztltueS0CsxQ1",
      "include_colab_link": true
    },
    "kernelspec": {
      "name": "python3",
      "display_name": "Python 3"
    },
    "language_info": {
      "name": "python"
    },
    "accelerator": "GPU"
  },
  "cells": [
    {
      "cell_type": "markdown",
      "metadata": {
        "id": "view-in-github",
        "colab_type": "text"
      },
      "source": [
        "<a href=\"https://colab.research.google.com/github/dowrave/Tensorflow_Basic/blob/main/220518_Advanced_tf_function.ipynb\" target=\"_parent\"><img src=\"https://colab.research.google.com/assets/colab-badge.svg\" alt=\"Open In Colab\"/></a>"
      ]
    },
    {
      "cell_type": "code",
      "execution_count": 1,
      "metadata": {
        "id": "TEltb_lMJw5a"
      },
      "outputs": [],
      "source": [
        "import tensorflow as tf"
      ]
    },
    {
      "cell_type": "markdown",
      "source": [
        "# tf.function으로 성능 향상하기\n",
        "- 즉시 실행 : 직관적이고 유용하지만 성능, 배포에 비용이 더 든다 (단일 연산은 훨씬 간단하고 빠르다)\n",
        "- 성능, 이식성을 생각한다면 `tf.function`을 써야 한다. 근데 이게 만병통치약은 아님.\n",
        "\n",
        "## 여기서 배울 내용은 다음과 같다.\n",
        "  - 즉시 실행 모드에서 디버깅 & `@tf.function`으로 데코리이팅\n",
        "  - 객체 변경, 리스트 요소 추가 같은 파이썬 부수효과에 의존하는 것을 방지\n",
        "  - `tf.function`은 텐서플로우 연산에 가장 잘 동작한다. 넘파이, 파이썬 호출은 `Constant`로 바뀜."
      ],
      "metadata": {
        "id": "zwgTIb0AJ3mD"
      }
    },
    {
      "cell_type": "code",
      "source": [
        "# 에러 출력을 위한 헬퍼 함수 정의\n",
        "import traceback\n",
        "import contextlib\n",
        "\n",
        "@contextlib.contextmanager\n",
        "def assert_raises(error_class):\n",
        "  try:\n",
        "    yield\n",
        "  except error_class as e:\n",
        "    print(\"예상된 예외 발생 \\n : {}:\".format(error_class))\n",
        "    traceback.print_exc(limit = 2)\n",
        "  except Exception as e:\n",
        "    raise e\n",
        "  else:\n",
        "    raise Exception(\"{}를 기대했지만 에러 발생 없었음\".format(error_class))"
      ],
      "metadata": {
        "id": "XsicSsQoJ3PY"
      },
      "execution_count": 2,
      "outputs": []
    },
    {
      "cell_type": "markdown",
      "source": [
        "## 기초\n",
        "- 기본 텐서플로우 연산과 동일함 (즉시 실행 모드 가능, 그래디언트 연산도 가능)\n",
        "- `tf.function`은 즉시 실행보다 빠르다 : 특히 작은 연산이 많을 때 그러하며, 계산량이 많은 연산 몇 개로 이루어졌다면 속도 향상이 크지 않다(ex : Convolution)"
      ],
      "metadata": {
        "id": "gDoNEL9tKvvy"
      }
    },
    {
      "cell_type": "code",
      "source": [
        "import timeit\n",
        "conv_layer = tf.keras.layers.Conv2D(100, 3)\n",
        "\n",
        "@tf.function\n",
        "def conv_fn(image):\n",
        "  return conv_layer(image)\n",
        "\n",
        "image = tf.zeros([1, 200, 200, 100])\n",
        "\n",
        "# 워밍업 - 큰 차이 없음\n",
        "conv_layer(image); conv_fn(image) \n",
        "print(\"즉시 실행 합성곱:\", timeit.timeit(lambda: conv_layer(image), number=10)) # naive : 2.19 / GPU : 0.005\n",
        "print(\"tf.function 합성곱:\", timeit.timeit(lambda: conv_fn(image), number=10)) # naive : 2.38 /  GPU : 0.006"
      ],
      "metadata": {
        "colab": {
          "base_uri": "https://localhost:8080/"
        },
        "id": "8xrol8ltKuqZ",
        "outputId": "1b718fa1-29c3-4204-8838-b64c5bd173f0"
      },
      "execution_count": 3,
      "outputs": [
        {
          "output_type": "stream",
          "name": "stdout",
          "text": [
            "즉시 실행 합성곱: 0.005606202999999255\n",
            "tf.function 합성곱: 0.006700272999992762\n"
          ]
        }
      ]
    },
    {
      "cell_type": "markdown",
      "source": [
        "## 디버깅\n",
        "- 즉시 실행모드가 디버깅하기 쉬움. 즉 즉시 실행을 하고 `tf.function`으로 데코리이팅할 것.\n",
        "- 혹은 `tf.config.run_functions_eagerly(True)`로 전체 `tf.function`을 비활성화할 수도 있음.\n",
        "<br>\n",
        "[유의할 것]\n",
        "<br>\n",
        "\n",
        "  1. 파이썬 `print`는 트레이싱하는 동안에만 호출됨 -> 함수가 재트레이싱될 때 추적하는 데에 도움이 된다.\n",
        "  2. `tf.print`는 언제나 실행됨 - 실행하는 동안 중간값 추적에 도움이 됨\n",
        "  3. `tf.debugging.enable_check_numerics`은 쉽게 NaN과 Inf가 발생되는 곳을 추적할 수 있음\n",
        "  4. `pdb`는 트레이싱이 일어나는 방식에 대한 도움을 줌 (`pdb`는 오토그래프가 변환한 소스코드를 보여줌)"
      ],
      "metadata": {
        "id": "nBLjLRtwLb_x"
      }
    },
    {
      "cell_type": "markdown",
      "source": [
        "## 트레이싱과 다형성\n",
        "- 파이썬은 여러 종류의 매개변수 타입을 사용해 함수를 호출할 수 있고, 각기 다르게 수행함\n",
        "- 텐서플로우 그래프는 `dtype`과 `shape`가 필요함. `tf.function`은 올바른 그래프를 생성하기 위해 필요하면 리트레이싱을 하는데, 여기서 대부분의 문제점이 옴\n",
        "  - 리트레이싱 : (내 뇌피셜임) 다른 주소에 할당을 하는 게 아니라 같은 주소에 있는 정보를 갱신하는 방식\n",
        "- 트레이싱이 중요한 이유 : 비싼 작업이라 그럼"
      ],
      "metadata": {
        "id": "Wd9LydQaL_RU"
      }
    },
    {
      "cell_type": "code",
      "source": [
        "# 함수와 다형성\n",
        "\n",
        "@tf.function\n",
        "def double(a):\n",
        "  print(\"Tracing : \", a)\n",
        "  return a + a\n",
        "\n",
        "print(id(double(tf.constant(1)))) # int\n",
        "print(double(tf.constant(1))) # int\n",
        "print()\n",
        "print(id(double(tf.constant(1.1)))) # float\n",
        "print(double(tf.constant(1.1))) # float\n",
        "print()\n",
        "print(id(double(tf.constant('a')))) # string\n",
        "print(double(tf.constant('a'))) # string\n",
        "print()"
      ],
      "metadata": {
        "colab": {
          "base_uri": "https://localhost:8080/"
        },
        "id": "1cq0uZ-OLK3K",
        "outputId": "0e0d77eb-00ce-4802-f894-f69a4e9a58d1"
      },
      "execution_count": 12,
      "outputs": [
        {
          "output_type": "stream",
          "name": "stdout",
          "text": [
            "Tracing :  Tensor(\"a:0\", shape=(), dtype=int32)\n",
            "139697042517648\n",
            "tf.Tensor(2, shape=(), dtype=int32)\n",
            "\n",
            "Tracing :  Tensor(\"a:0\", shape=(), dtype=float32)\n",
            "139697042517648\n",
            "tf.Tensor(2.2, shape=(), dtype=float32)\n",
            "\n",
            "Tracing :  Tensor(\"a:0\", shape=(), dtype=string)\n",
            "139697042517648\n",
            "tf.Tensor(b'aa', shape=(), dtype=string)\n",
            "\n"
          ]
        }
      ]
    },
    {
      "cell_type": "markdown",
      "source": [
        "- 위의 id를 보면 모두 같은 주소임"
      ],
      "metadata": {
        "id": "E5W094e-OMf6"
      }
    },
    {
      "cell_type": "markdown",
      "source": [
        "### 트레이싱 제어하기\n",
        "- 새로운 `tf.function`을 만드는 방식."
      ],
      "metadata": {
        "id": "jWFf1LufMz8J"
      }
    },
    {
      "cell_type": "code",
      "source": [
        "def double(a):\n",
        "  print(\"Tracing : \", a)\n",
        "  return a + a\n",
        "\n",
        "\n",
        "print(id(tf.function(double)(tf.constant(1)))) \n",
        "print(id(tf.function(double)(tf.constant(1.1))))\n",
        "print(id(tf.function(double)(tf.constant(\"a\"))))\n",
        "# tf.function을 다르게 했더니 위의 모든 객체는 트레이싱이 따로 발생했음"
      ],
      "metadata": {
        "colab": {
          "base_uri": "https://localhost:8080/"
        },
        "id": "ZWF-XBo-MZ-c",
        "outputId": "bc60b210-25b9-4c1a-afdd-d331fecaee2a"
      },
      "execution_count": 14,
      "outputs": [
        {
          "output_type": "stream",
          "name": "stdout",
          "text": [
            "Tracing :  Tensor(\"a:0\", shape=(), dtype=int32)\n",
            "139697022769872\n",
            "Tracing :  Tensor(\"a:0\", shape=(), dtype=float32)\n",
            "139697022769680\n",
            "Tracing :  Tensor(\"a:0\", shape=(), dtype=string)\n",
            "WARNING:tensorflow:5 out of the last 5 calls to <function double at 0x7f0dbf702c20> triggered tf.function retracing. Tracing is expensive and the excessive number of tracings could be due to (1) creating @tf.function repeatedly in a loop, (2) passing tensors with different shapes, (3) passing Python objects instead of tensors. For (1), please define your @tf.function outside of the loop. For (2), @tf.function has experimental_relax_shapes=True option that relaxes argument shapes that can avoid unnecessary retracing. For (3), please refer to https://www.tensorflow.org/guide/function#controlling_retracing and https://www.tensorflow.org/api_docs/python/tf/function for  more details.\n",
            "139697022769872\n"
          ]
        }
      ]
    },
    {
      "cell_type": "markdown",
      "source": [
        "`get_concrete_function` 메소드 : 트레이싱된 특정 함수를 얻을 수 있다."
      ],
      "metadata": {
        "id": "3qHvvtrkOrdd"
      }
    },
    {
      "cell_type": "code",
      "source": [
        "@tf.function\n",
        "def double(a):\n",
        "  print(\"Tracing : \", a)\n",
        "  return a + a\n",
        "\n",
        "# 콘크리트 함수 얻기\n",
        "double_strings = double.get_concrete_function(tf.TensorSpec(shape = None, dtype = tf.string))\n",
        "\n",
        "# 트레이싱 함수 실행\n",
        "print(double_strings(tf.constant(\"a\")))\n",
        "print(double_strings(a = tf.constant(\"b\")))\n",
        "\n",
        "# 콘크리트 함수에 다른 타입을 사용하면 예외 발생\n",
        "with assert_raises(tf.errors.InvalidArgumentError):\n",
        "  double_strings(tf.constant(1))"
      ],
      "metadata": {
        "colab": {
          "base_uri": "https://localhost:8080/"
        },
        "id": "x9oCaX6mNFBz",
        "outputId": "cab4c3df-e421-4b5e-93b9-e57cbed2a037"
      },
      "execution_count": 16,
      "outputs": [
        {
          "output_type": "stream",
          "name": "stdout",
          "text": [
            "Tracing :  Tensor(\"a:0\", dtype=string)\n",
            "tf.Tensor(b'aa', shape=(), dtype=string)\n",
            "tf.Tensor(b'bb', shape=(), dtype=string)\n",
            "예상된 예외 발생 \n",
            " : <class 'tensorflow.python.framework.errors_impl.InvalidArgumentError'>:\n"
          ]
        },
        {
          "output_type": "stream",
          "name": "stderr",
          "text": [
            "Traceback (most recent call last):\n",
            "  File \"<ipython-input-2-5c8f6a317bb4>\", line 8, in assert_raises\n",
            "    yield\n",
            "  File \"<ipython-input-16-02f6023c4c8e>\", line 16, in <module>\n",
            "    double_strings(tf.constant(1))\n",
            "tensorflow.python.framework.errors_impl.InvalidArgumentError: cannot compute __inference_double_261 as input #0(zero-based) was expected to be a string tensor but is a int32 tensor [Op:__inference_double_261]\n"
          ]
        }
      ]
    },
    {
      "cell_type": "markdown",
      "source": [
        "`tf.function`에 `input_signature`를 지정해 트레이싱을 제한할 수 있다."
      ],
      "metadata": {
        "id": "ZvaxAjpaPV1X"
      }
    },
    {
      "cell_type": "code",
      "source": [
        "@tf.function(input_signature = (tf.TensorSpec(shape = [None], dtype = tf.int32),)) # 1차원의 int 데이터만 올 수 있게 제한한 듯?\n",
        "def next_collatz(x):\n",
        "  print(\"Tracing\", x)\n",
        "  return tf.where(x % 2 == 0, x // 2, 3  * x + 1)\n",
        "\n",
        "print(next_collatz(tf.constant([1, 2])))\n",
        "\n",
        "# input-signature에 1D Tensor를 지정했기 때문에 다음은 실패함\n",
        "with assert_raises(ValueError):\n",
        "  next_collatz(tf.constant([[1, 2], [3, 4]]))"
      ],
      "metadata": {
        "colab": {
          "base_uri": "https://localhost:8080/"
        },
        "id": "nRb8YOYrPBr2",
        "outputId": "f2e03408-0c65-42f0-a507-5b13b92b3d85"
      },
      "execution_count": 19,
      "outputs": [
        {
          "output_type": "stream",
          "name": "stdout",
          "text": [
            "Tracing Tensor(\"x:0\", shape=(None,), dtype=int32)\n",
            "tf.Tensor([4 1], shape=(2,), dtype=int32)\n",
            "예상된 예외 발생 \n",
            " : <class 'ValueError'>:\n"
          ]
        },
        {
          "output_type": "stream",
          "name": "stderr",
          "text": [
            "Traceback (most recent call last):\n",
            "  File \"<ipython-input-2-5c8f6a317bb4>\", line 8, in assert_raises\n",
            "    yield\n",
            "  File \"<ipython-input-19-df7ade06db09>\", line 10, in <module>\n",
            "    next_collatz(tf.constant([[1, 2], [3, 4]]))\n",
            "ValueError: Python inputs incompatible with input_signature:\n",
            "  inputs: (\n",
            "    tf.Tensor(\n",
            "[[1 2]\n",
            " [3 4]], shape=(2, 2), dtype=int32))\n",
            "  input_signature: (\n",
            "    TensorSpec(shape=(None,), dtype=tf.int32, name=None)).\n"
          ]
        }
      ]
    },
    {
      "cell_type": "markdown",
      "source": [
        "## 리트레이싱이 언제 되나요?\n",
        "- `tf.function`은 트레이싱으로 생성된 콘크리트 함수를 캐싱함\n",
        "  - 캐시의 키는 함수의 위치 매개변수`arg`와 키워드 매개변수`kwargs`에서 생성된 키의 튜플이다.\n",
        "  - `tf.Tensor` 매개변수를 위해 생성된 키는 차원 개수, 타입이 된다.\n",
        "  - 파이썬 기본 자료형으로 생성된 키는 해당 변수의 값이 되며, 그 외의 타입에서 키는 `id()`를 기반으로 한다. 클래스 메소드는 인스턴스마다 독립적으로 트레이싱한다.\n",
        "- 더 자세한 건 콘크리트 함수를 보세요"
      ],
      "metadata": {
        "id": "IXbfEJnYP-g0"
      }
    },
    {
      "cell_type": "markdown",
      "source": [
        "## 파이썬 매개변수 vs 텐서 매개변수\n",
        "- 파이썬 매개변수 예시 : `num_layer = 10`, `training = True`, `nonlinearity = 'relu'` 등\n",
        "- 파이썬 매개변수가 그래프에 사용되지 않는 경우가 있고, 이런 경우 파이썬 값이 변하면 불필요한 리트레이싱이 발생함.\n",
        "<br>\n",
        "- 다음 예제는 오토그래프가 동적으로 펼치는 반복 루프이다. 다중 트레이싱이지만 생성된 그래프는 실제로 동일해서 비효율적임"
      ],
      "metadata": {
        "id": "BOhuVpSJQUM8"
      }
    },
    {
      "cell_type": "code",
      "source": [
        "import time"
      ],
      "metadata": {
        "id": "ny48NMKpTWqV"
      },
      "execution_count": 22,
      "outputs": []
    },
    {
      "cell_type": "code",
      "source": [
        "def train_one_step():\n",
        "  pass\n",
        "\n",
        "@tf.function\n",
        "def train(num_steps):\n",
        "  print(\"트레이싱 num_steps = {}\".format(num_steps))\n",
        "\n",
        "  for _ in tf.range(num_steps):\n",
        "    train_one_step()\n",
        "start = time.time()\n",
        "train(num_steps = 10)\n",
        "train(num_steps = 20)\n",
        "print(time.time() - start)"
      ],
      "metadata": {
        "colab": {
          "base_uri": "https://localhost:8080/"
        },
        "id": "TnQxOdCjPuO8",
        "outputId": "7e69b772-ffe0-4b0a-a2aa-ee44637453cc"
      },
      "execution_count": 25,
      "outputs": [
        {
          "output_type": "stream",
          "name": "stdout",
          "text": [
            "트레이싱 num_steps = 10\n",
            "트레이싱 num_steps = 20\n",
            "WARNING:tensorflow:5 out of the last 6 calls to <function train at 0x7f0dbf5c9e60> triggered tf.function retracing. Tracing is expensive and the excessive number of tracings could be due to (1) creating @tf.function repeatedly in a loop, (2) passing tensors with different shapes, (3) passing Python objects instead of tensors. For (1), please define your @tf.function outside of the loop. For (2), @tf.function has experimental_relax_shapes=True option that relaxes argument shapes that can avoid unnecessary retracing. For (3), please refer to https://www.tensorflow.org/guide/function#controlling_retracing and https://www.tensorflow.org/api_docs/python/tf/function for  more details.\n",
            "0.1270909309387207\n"
          ]
        }
      ]
    },
    {
      "cell_type": "markdown",
      "source": [
        "- 위의 리트레이싱을 해결하는 간단한 방법은 매개변수를 `Tensor`로 바꾸는 것이다. (속도에 관한 차이는 별로 보이지 않음)"
      ],
      "metadata": {
        "id": "xLtrZIKVQzcb"
      }
    },
    {
      "cell_type": "code",
      "source": [
        "train(num_steps = tf.constant(10))\n",
        "train(num_steps = tf.constant(20))"
      ],
      "metadata": {
        "colab": {
          "base_uri": "https://localhost:8080/"
        },
        "id": "j6uo9yXkQxM0",
        "outputId": "f5449461-c3ec-4e9b-b35b-40fcecd23a94"
      },
      "execution_count": 26,
      "outputs": [
        {
          "output_type": "stream",
          "name": "stdout",
          "text": [
            "트레이싱 num_steps = Tensor(\"num_steps:0\", shape=(), dtype=int32)\n",
            "0.11896872520446777\n"
          ]
        }
      ]
    },
    {
      "cell_type": "markdown",
      "source": [
        "## tf.function의 부수 효과\n",
        "- 파이썬 부수 효과만을 이용해 트레이싱을 디버깅한다. \n",
        "- 기본 : 파이썬 코드는 호출횟수와 실행횟수가 동일하지 않음. 트레이싱 때만 실행됨"
      ],
      "metadata": {
        "id": "DywP76eWTufO"
      }
    },
    {
      "cell_type": "code",
      "source": [
        "@tf.function\n",
        "def f(x):\n",
        "  print(\"트레이싱\", x) \n",
        "  tf.print(\"실행\", x)\n",
        "\n",
        "f(1)\n",
        "f(1)\n",
        "f(2)"
      ],
      "metadata": {
        "colab": {
          "base_uri": "https://localhost:8080/"
        },
        "id": "OrkKg1nFTjZo",
        "outputId": "c3644f4c-1b09-474d-ff44-e9ea68179db5"
      },
      "execution_count": 27,
      "outputs": [
        {
          "output_type": "stream",
          "name": "stdout",
          "text": [
            "트레이싱 1\n",
            "실행 1\n",
            "실행 1\n",
            "트레이싱 2\n",
            "실행 2\n"
          ]
        }
      ]
    },
    {
      "cell_type": "markdown",
      "source": [
        "`tf.function`을 호출할 때마다 파이썬 코드를 실행하려면 `tf.py_function`을 써야 한다.\n",
        "- 단점 : 이식성, 성능이 좋지 않고 분산환경에서 잘 동작하지 않는다.\n",
        "  - 또한 `tf.py_function`은 미분가능하도록 그래프를 만들기 때문에 모든 입출력을 텐서로 전환함"
      ],
      "metadata": {
        "id": "MgcVPNmoUEwQ"
      }
    },
    {
      "cell_type": "code",
      "source": [
        "external_list = []\n",
        "\n",
        "def side_effect(x):\n",
        "  print(\"파이썬 부수 효과\")\n",
        "  external_list.append(x)\n",
        "\n",
        "@tf.function\n",
        "def f(x):\n",
        "  tf.py_function(side_effect, inp = [x], Tout = [])\n",
        "\n",
        "f(1)\n",
        "f(1)\n",
        "f(1)\n",
        "assert len(external_list) == 3\n",
        "\n",
        "# py_function이 1을 tf.constant(1)로 바꾸므로 .numpy()를 호출한다.\n",
        "assert external_list[0].numpy() == 1"
      ],
      "metadata": {
        "colab": {
          "base_uri": "https://localhost:8080/"
        },
        "id": "qaMrIlP9T3g0",
        "outputId": "d73c3bab-7a05-489e-a9a6-11c485f84582"
      },
      "execution_count": 28,
      "outputs": [
        {
          "output_type": "stream",
          "name": "stdout",
          "text": [
            "파이썬 부수 효과\n",
            "파이썬 부수 효과\n",
            "파이썬 부수 효과\n"
          ]
        }
      ]
    },
    {
      "cell_type": "markdown",
      "source": [
        "## 파이썬 상태 주의하기\n",
        "- 제너레이터, 반복자 같은 파이썬의 기능은 파이썬 런타임에 의존한다.\n",
        "- 일반적으로 즉시 실행에선 동일하게 동작하지만 `tf.function` 안에서는 예상 밖의 일이 일어날 수 있다."
      ],
      "metadata": {
        "id": "zv62MWLyUyU3"
      }
    },
    {
      "cell_type": "code",
      "source": [
        "external_var = tf.Variable(0)\n",
        "\n",
        "@tf.function\n",
        "def gr_buggy_consume_next(iterator):\n",
        "  external_var.assign_add(next(iterator))\n",
        "  tf.print(\"external_var의 값 : \", external_var)\n",
        "\n",
        "def py_buggy_consume_next(iterator):\n",
        "  external_var.assign_add(next(iterator))\n",
        "  tf.print(\"external_var의 값 : \", external_var)\n",
        "\n",
        "iterator = iter([0, 1, 2, 3])\n",
        "# 다음 반복자를 얻는 건 파이썬의 효과임 - 트레이싱에서만 진행됨\n",
        "gr_buggy_consume_next(iterator)\n",
        "gr_buggy_consume_next(iterator)\n",
        "gr_buggy_consume_next(iterator)\n",
        "\n",
        "# 파이썬 작업이므로 계속 실행됨\n",
        "py_buggy_consume_next(iterator)\n",
        "py_buggy_consume_next(iterator)\n",
        "py_buggy_consume_next(iterator)"
      ],
      "metadata": {
        "colab": {
          "base_uri": "https://localhost:8080/"
        },
        "id": "R_ugGpSZUwTW",
        "outputId": "d4a164d6-c89f-483c-9c2f-e4985b7aec65"
      },
      "execution_count": 30,
      "outputs": [
        {
          "output_type": "stream",
          "name": "stdout",
          "text": [
            "external_var의 값 :  0\n",
            "external_var의 값 :  0\n",
            "external_var의 값 :  0\n",
            "external_var의 값 :  1\n",
            "external_var의 값 :  3\n",
            "external_var의 값 :  6\n"
          ]
        }
      ]
    },
    {
      "cell_type": "markdown",
      "source": [
        "## 변수\n",
        "- 변수는 즉시 실행 모드와 그래프 모드에서 서로 다르게 동작하는 코드를 만들 수 있다.\n",
        "- 특히 호출마다 새로운 변수를 만들 때 일어남. \n",
        "  - `tf.function`은 호출마다 같은 변수를 재사용한다. \n",
        "  - 즉시 실행 모드에서는 호출마다 새로운 변수가 생성됨.\n",
        "  - 함수 내에 `tf.Variable`을 만들면 `Variable`을 위 2개 중 어느 것으로 할 지 모호하기 때문에 에러를 반환한다.\n",
        "    - `@tf.function`을 씌우든 아니든 둘 모두 에러가 발생하는 거 확인했음"
      ],
      "metadata": {
        "id": "8eJPShvkV0dk"
      }
    },
    {
      "cell_type": "code",
      "source": [
        "@tf.function\n",
        "def f(x):\n",
        "  v = tf.Variable(1.)\n",
        "  v.assign_add(x)\n",
        "  return v\n",
        "\n",
        "with assert_raises(ValueError):\n",
        "  f(1.)"
      ],
      "metadata": {
        "colab": {
          "base_uri": "https://localhost:8080/"
        },
        "id": "ef9IfBoRVVOu",
        "outputId": "09568ebc-f703-42e0-8a95-437ad6e3772a"
      },
      "execution_count": 35,
      "outputs": [
        {
          "output_type": "stream",
          "name": "stdout",
          "text": [
            "예상된 예외 발생 \n",
            " : <class 'ValueError'>:\n"
          ]
        },
        {
          "output_type": "stream",
          "name": "stderr",
          "text": [
            "Traceback (most recent call last):\n",
            "  File \"<ipython-input-2-5c8f6a317bb4>\", line 8, in assert_raises\n",
            "    yield\n",
            "  File \"<ipython-input-35-e5c35e03649a>\", line 8, in <module>\n",
            "    f(1.)\n",
            "ValueError: in user code:\n",
            "\n",
            "    File \"<ipython-input-35-e5c35e03649a>\", line 3, in f  *\n",
            "        v = tf.Variable(1.)\n",
            "\n",
            "    ValueError: tf.function only supports singleton tf.Variables created on the first call. Make sure the tf.Variable is only created once or created outside tf.function. See https://www.tensorflow.org/guide/function#creating_tfvariables for more information.\n",
            "\n"
          ]
        }
      ]
    },
    {
      "cell_type": "markdown",
      "source": [
        "- 아래 코드는 모호하지 않아서 잘 작동함. (함수 밖에서 변수가 선언되었음)"
      ],
      "metadata": {
        "id": "yldfz52qWuhA"
      }
    },
    {
      "cell_type": "code",
      "source": [
        "v = tf.Variable(1.)\n",
        "\n",
        "@tf.function\n",
        "def f(x):\n",
        "  return v.assign_add(x)\n",
        "\n",
        "print(f(1.))\n",
        "print(f(2.))"
      ],
      "metadata": {
        "colab": {
          "base_uri": "https://localhost:8080/"
        },
        "id": "HQn1kVCDWJAz",
        "outputId": "b532324e-5cb5-4dd7-a57b-defc82be581b"
      },
      "execution_count": 32,
      "outputs": [
        {
          "output_type": "stream",
          "name": "stdout",
          "text": [
            "tf.Tensor(2.0, shape=(), dtype=float32)\n",
            "tf.Tensor(4.0, shape=(), dtype=float32)\n"
          ]
        }
      ]
    },
    {
      "cell_type": "markdown",
      "source": [
        "- 혹은 함수가 처음 호출될 때만 변수가 생성되도록 설정하는 방법도 있음"
      ],
      "metadata": {
        "id": "RsdPuNDRXO_C"
      }
    },
    {
      "cell_type": "code",
      "source": [
        "class C:\n",
        "  pass\n",
        "\n",
        "obj = C()\n",
        "obj.v = None\n",
        "\n",
        "@tf.function\n",
        "def g(x):\n",
        "  if obj.v is None:\n",
        "    obj.v = tf.Variable(1.)\n",
        "  return obj.v.assign_add(x)\n",
        "\n",
        "print(g(1.))\n",
        "print(g(2.))"
      ],
      "metadata": {
        "colab": {
          "base_uri": "https://localhost:8080/"
        },
        "id": "PaLBo1YVWnLV",
        "outputId": "67209b7f-b8f5-44f8-fc4a-eab2e4f4e5b1"
      },
      "execution_count": 36,
      "outputs": [
        {
          "output_type": "stream",
          "name": "stdout",
          "text": [
            "tf.Tensor(2.0, shape=(), dtype=float32)\n",
            "tf.Tensor(4.0, shape=(), dtype=float32)\n"
          ]
        }
      ]
    },
    {
      "cell_type": "markdown",
      "source": [
        "- 변수 초기화가 함수 매개변수와 다른 변수 값에 의존할 수 있음. 올바른 초기화 순서를 찾기 위해 제어 의존성을 생성하는 메소드를 쓸 수도 있다.\n"
      ],
      "metadata": {
        "id": "FZevQmnEXdBR"
      }
    },
    {
      "cell_type": "code",
      "source": [
        "state = []\n",
        "\n",
        "@tf.function\n",
        "def fn(x):\n",
        "  if not state:\n",
        "    state.append(tf.Variable(2. * x))\n",
        "    state.append(tf.Variable(state[0] * 3.))\n",
        "\n",
        "  return state[0] * x + state [1]\n",
        "\n",
        "print(fn(tf.constant(1.)))\n",
        "print(fn(tf.constant(3.)))\n"
      ],
      "metadata": {
        "colab": {
          "base_uri": "https://localhost:8080/"
        },
        "id": "EvESErKBXado",
        "outputId": "1fab287b-6da2-43ae-b708-9a17df4f8f51"
      },
      "execution_count": 37,
      "outputs": [
        {
          "output_type": "stream",
          "name": "stdout",
          "text": [
            "tf.Tensor(8.0, shape=(), dtype=float32)\n",
            "tf.Tensor(12.0, shape=(), dtype=float32)\n"
          ]
        }
      ]
    },
    {
      "cell_type": "markdown",
      "source": [
        "## 오토그래프 변환\n",
        "- `tf.function` 내에 기본으로 활성화 되어 있음.\n",
        "- 파이썬의 즉시 실행 코들르 그래프 호환 텐서플로우로 변환함\n",
        "  - 여기에는 `if`, `for`, `while`문이 포함됨.\n",
        "- `tf.cond`와 `tf.while_loop` 등이 사용가능하지만 제어 흐름은 파이썬으로 작성하는 게 만들기도 이해하기도 쉽다."
      ],
      "metadata": {
        "id": "n7330YDuX1Rh"
      }
    },
    {
      "cell_type": "code",
      "source": [
        "@tf.function\n",
        "def f(x):\n",
        "  while tf.reduce_sum(x) > 1:\n",
        "    tf.print(x)\n",
        "    x = tf.tanh(x)\n",
        "  return x\n",
        "\n",
        "f(tf.random.uniform([5]))"
      ],
      "metadata": {
        "colab": {
          "base_uri": "https://localhost:8080/"
        },
        "id": "Lu-4pwE3Xt6y",
        "outputId": "5b455d41-29b1-4c98-f73c-46e7b7d5ace6"
      },
      "execution_count": 38,
      "outputs": [
        {
          "output_type": "stream",
          "name": "stdout",
          "text": [
            "[0.519893527 0.782256484 0.780321121 0.809718251 0.249633908]\n",
            "[0.47761786 0.654 0.65289104 0.669434845 0.244574472]\n",
            "[0.444333792 0.574356616 0.573613 0.584608078 0.239811838]\n",
            "[0.417230278 0.518551648 0.518007696 0.526006639 0.235317975]\n",
            "[0.394594491 0.476581395 0.476160854 0.482322633 0.231068507]\n",
            "[0.375314265 0.443501592 0.443163663 0.448101848 0.227042019]\n",
            "[0.358631283 0.416542679 0.416263342 0.420337498 0.223219618]\n",
            "[0.34400785 0.394013852 0.393777817 0.397214711 0.219584569]\n",
            "[0.331050694 0.374815315 0.374612451 0.377563238 0.216122046]\n",
            "[0.319464535 0.358196408 0.35801959 0.360589385 0.212818801]\n",
            "[0.309022635 0.343624383 0.343468428 0.345733076 0.209662974]\n",
            "[0.299547672 0.330709249 0.33057031 0.332586 0.206643879]\n",
            "[0.290898591 0.319157928 0.319033086 0.320842475 0.203751892]\n",
            "[0.282961667 0.308745295 0.308632344 0.310268492 0.200978354]\n",
            "[0.275643915 0.299295187 0.299192369 0.300681293 0.198315352]\n",
            "[0.268868625 0.290667474 0.290573299 0.291935921 0.195755735]\n",
            "[0.262571782 0.282749027 0.282662362 0.283915609 0.19329299]\n",
            "[0.256699413 0.275447428 0.27536732 0.27652514 0.190921113]\n",
            "[0.251205772 0.268686324 0.268612027 0.269685954 0.188634694]\n",
            "[0.246051773 0.262402028 0.262332827 0.263332576 0.186428666]\n",
            "[0.241203696 0.256540835 0.256476164 0.25740993 0.184298456]\n",
            "[0.236632362 0.251057208 0.25099659 0.251871347 0.182239801]\n",
            "[0.232312366 0.245912179 0.245855242 0.246676952 0.180248737]\n",
            "[0.228221402 0.241072193 0.241018593 0.241792396 0.178321674]\n",
            "[0.224339917 0.236508206 0.236457601 0.237188011 0.176455274]\n",
            "[0.220650598 0.232194871 0.232147008 0.232837945 0.174646378]\n",
            "[0.217138052 0.22811003 0.228064671 0.228719547 0.172892109]\n",
            "[0.213788569 0.224234164 0.22419107 0.22481297 0.17118977]\n",
            "[0.210589916 0.220549986 0.220509 0.221100554 0.169536844]\n",
            "[0.207531095 0.217042178 0.217003122 0.217566743 0.167930976]\n",
            "[0.204602137 0.213697091 0.213659793 0.214197636 0.16636996]\n"
          ]
        },
        {
          "output_type": "execute_result",
          "data": {
            "text/plain": [
              "<tf.Tensor: shape=(5,), dtype=float32, numpy=\n",
              "array([0.20179412, 0.21050249, 0.21046686, 0.2109808 , 0.16485177],\n",
              "      dtype=float32)>"
            ]
          },
          "metadata": {},
          "execution_count": 38
        }
      ]
    },
    {
      "cell_type": "markdown",
      "source": [
        "### 오토그래프가 생성한 코드 확인"
      ],
      "metadata": {
        "id": "UnOnXzcTYP3a"
      }
    },
    {
      "cell_type": "code",
      "source": [
        "print(tf.autograph.to_code(f.python_function))"
      ],
      "metadata": {
        "colab": {
          "base_uri": "https://localhost:8080/"
        },
        "id": "Z3uiYmWtYLjP",
        "outputId": "b2ad923a-0b2f-4616-9abc-5e4bdffc4fc7"
      },
      "execution_count": 39,
      "outputs": [
        {
          "output_type": "stream",
          "name": "stdout",
          "text": [
            "def tf__f(x):\n",
            "    with ag__.FunctionScope('f', 'fscope', ag__.ConversionOptions(recursive=True, user_requested=True, optional_features=(), internal_convert_user_code=True)) as fscope:\n",
            "        do_return = False\n",
            "        retval_ = ag__.UndefinedReturnValue()\n",
            "\n",
            "        def get_state():\n",
            "            return (x,)\n",
            "\n",
            "        def set_state(vars_):\n",
            "            nonlocal x\n",
            "            (x,) = vars_\n",
            "\n",
            "        def loop_body():\n",
            "            nonlocal x\n",
            "            ag__.converted_call(ag__.ld(tf).print, (ag__.ld(x),), None, fscope)\n",
            "            x = ag__.converted_call(ag__.ld(tf).tanh, (ag__.ld(x),), None, fscope)\n",
            "\n",
            "        def loop_test():\n",
            "            return (ag__.converted_call(ag__.ld(tf).reduce_sum, (ag__.ld(x),), None, fscope) > 1)\n",
            "        ag__.while_stmt(loop_test, loop_body, get_state, set_state, ('x',), {})\n",
            "        try:\n",
            "            do_return = True\n",
            "            retval_ = ag__.ld(x)\n",
            "        except:\n",
            "            do_return = False\n",
            "            raise\n",
            "        return fscope.ret(retval_, do_return)\n",
            "\n"
          ]
        }
      ]
    },
    {
      "cell_type": "markdown",
      "source": [
        "### 조건문\n",
        "- `if <condition>` 문장을 `tf.cond` 호출로 변경한다. `<condition>`이 텐서일 때 수행되며 아니라면 `if` 문은 파이썬 조건문으로 실행됨.\n",
        "- 트레이싱하는 동안 파이썬 조건문을 실행하므로 정확히 하나의 조건 분기만 그래프에 추가되며, 오토그래프가 없다면 트레이싱된 그래프는 제어흐름을 바꿀 수 없다.\n",
        "- `tf.cond`는 조건 분기를 트레이싱하고 그래프에 추가, 실행 시 동적으로 분기를 선택한다."
      ],
      "metadata": {
        "id": "aXaSbRgSYWI6"
      }
    },
    {
      "cell_type": "code",
      "source": [
        "@tf.function\n",
        "def fizzbuzz(n):\n",
        "  for i in tf.range(1, n + 1):\n",
        "    print('루프 트레이싱')\n",
        "    if i % 15 == 0:\n",
        "      print('fizzbuzz 브랜치 트레이싱')\n",
        "      tf.print('fizzbuzz')\n",
        "    elif i % 3 == 0:\n",
        "      print('fizz 브랜치 트레이싱')\n",
        "      tf.print('fizz')\n",
        "    elif i % 5 == 0:\n",
        "      print('buzz 브랜치 트레이싱')\n",
        "      tf.print('buzz')\n",
        "    else:\n",
        "      print('디폴트 브랜치 트레이싱')\n",
        "      tf.print(i)\n",
        "\n",
        "fizzbuzz(tf.constant(5))\n",
        "tf.print()\n",
        "fizzbuzz(tf.constant(20))"
      ],
      "metadata": {
        "colab": {
          "base_uri": "https://localhost:8080/"
        },
        "id": "pDF2zpCpYPDU",
        "outputId": "72f392b6-9230-4df4-ba12-7fe28a56a917"
      },
      "execution_count": 41,
      "outputs": [
        {
          "output_type": "stream",
          "name": "stdout",
          "text": [
            "루프 트레이싱\n",
            "fizzbuzz 브랜치 트레이싱\n",
            "fizz 브랜치 트레이싱\n",
            "buzz 브랜치 트레이싱\n",
            "디폴트 브랜치 트레이싱\n",
            "1\n",
            "2\n",
            "fizz\n",
            "4\n",
            "buzz\n",
            "\n",
            "1\n",
            "2\n",
            "fizz\n",
            "4\n",
            "buzz\n",
            "fizz\n",
            "7\n",
            "8\n",
            "fizz\n",
            "buzz\n",
            "11\n",
            "fizz\n",
            "13\n",
            "14\n",
            "fizzbuzz\n",
            "16\n",
            "17\n",
            "fizz\n",
            "19\n",
            "buzz\n"
          ]
        }
      ]
    },
    {
      "cell_type": "markdown",
      "source": [
        "- 트레이싱을 한번 쫙 하고 실행되는 걸 볼 수 있다."
      ],
      "metadata": {
        "id": "K4TKY9h9Y3dK"
      }
    },
    {
      "cell_type": "markdown",
      "source": [
        "### 반복문\n",
        "- 일부 `for`, `while`문을 `tf.while_loop`와 같은 동등한 텐서플로우 반복 연산으로 바꾼다. 바뀌지 않는다면 파이썬으로 실행됨.\n",
        "  - `for x in y` - y가 텐서면 `tf.while_loop`로 변환된다. y가 `tf.data.Dataset`이라면 `tf.data.Dataset` 연산의 조합이 생성된다.\n",
        "  - `while <condition>` : `<condition>`이 텐서면 `tf.while_loop`로 변환된다.\n",
        "- 텐서플로우는 반복문 블럭을 트레이싱해 반복의 수행을 동적으로 선택한다. 반복문 블럭은 `tf.Graph`에 1번만 포함된다.\n",
        "\n",
        "#### 파이썬 데이터로 반복하기\n",
        "- 흔한 실수 : `tf.function` 안에서 파이썬, 넘파이 데이터로 반복하는 것 -> 트레이싱 과정에서 반복이 추가되므로 `tf.Graph`에 복사된 모델이 추가되어 버린다.\n",
        "- `tf.function`으로 반복을 감싸고 싶다면 데이터를 `tf.data.Dataset`으로 감싸는 것이다. - 오토그래프가 동적으로 훈련 반복을 펼친다."
      ],
      "metadata": {
        "id": "bpssyC-zZAfl"
      }
    },
    {
      "cell_type": "markdown",
      "source": [
        "#### from_generator와 from_tensors의 차이\n",
        "- 전자 : 파이썬에서 데이터 유지, `tf.py_function`으로 데이터를 가져옴 -> 성능에 영향이 감\n",
        "- 후자 : 그래프에 하나의 큰 `tf.constant()` 노드로 데이터를 복사하므로 메모리에 영향이 감\n",
        "\n",
        "### 가장 효율적인 데이터 소비 방법\n",
        "`TFRecordDataset`, `CsvDataset` 등으로 파일에서 데이터를 읽는 것이 가장 효율적이다. 파이썬을 거치지 않고 비동기적으로 데이터를 적재하고 프리페칭할 수 있기 때문이다. tf.data 가이드를 참고할 것.\n"
      ],
      "metadata": {
        "id": "rFIDLfZRZruu"
      }
    },
    {
      "cell_type": "code",
      "source": [
        ""
      ],
      "metadata": {
        "id": "DXFR_5eJYs3E"
      },
      "execution_count": null,
      "outputs": []
    }
  ]
}