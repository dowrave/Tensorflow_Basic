{
  "nbformat": 4,
  "nbformat_minor": 0,
  "metadata": {
    "colab": {
      "name": "220518_Random.ipynb",
      "provenance": [],
      "authorship_tag": "ABX9TyOEib8LLTUNx+ucJnkkGzAg",
      "include_colab_link": true
    },
    "kernelspec": {
      "name": "python3",
      "display_name": "Python 3"
    },
    "language_info": {
      "name": "python"
    }
  },
  "cells": [
    {
      "cell_type": "markdown",
      "metadata": {
        "id": "view-in-github",
        "colab_type": "text"
      },
      "source": [
        "<a href=\"https://colab.research.google.com/github/dowrave/Tensorflow_Basic/blob/main/220518_Random.ipynb\" target=\"_parent\"><img src=\"https://colab.research.google.com/assets/colab-badge.svg\" alt=\"Open In Colab\"/></a>"
      ]
    },
    {
      "cell_type": "markdown",
      "source": [
        "# 텐서플로우의 유사 난수 생성기(pseudo random number generator : pRNG)\n",
        "- 2가지 방식이 있음.\n",
        "1. `tf.random.Generator` : 각 객체는 상태를 `tf.Variable` 내부에 유지함. 이 상태는 매 숫자 생성마다 변함.\n",
        "2. `tf.random.stateless_uniform` : 같은 디바이스에서 동일한 인수를 통해 호출하면 항상 같은 결과가 출력됨.\n",
        "- `tf.random.uniform`, `tf.random.normal` 등의 구버전 RNG 등은 여전히 있지만  사용을 권장하지 않음\n",
        "- 랜덤 함수는 텐서플로우 버전에 따라 동일함을 보장하지 않음"
      ],
      "metadata": {
        "id": "RyMwHCb3D2HB"
      }
    },
    {
      "cell_type": "code",
      "execution_count": 1,
      "metadata": {
        "id": "fNmbzoYvDYSL"
      },
      "outputs": [],
      "source": [
        "import tensorflow as tf\n",
        "\n",
        "physical_devices = tf.config.experimental.list_physical_devices('CPU')\n",
        "tf.config.experimental.set_virtual_device_configuration(\n",
        "    physical_devices[0], [\n",
        "                          tf.config.experimental.VirtualDeviceConfiguration(),\n",
        "                          tf.config.experimental.VirtualDeviceConfiguration()\n",
        "    ]\n",
        ")"
      ]
    },
    {
      "cell_type": "markdown",
      "source": [
        "## tf.random.Generator\n",
        "- 각 RNG 호출마다 다른 결과를 생성하고 싶다면 `tf.random.Generator`를 이용한다. 이는 내부 상태를 유지함(`tf.Variable` 객체가 관리)\n",
        "  - 체크포인팅이 쉽고, 컨트롤 종속이 자동이며 쓰레드 안전성 등이 있음"
      ],
      "metadata": {
        "id": "aTgCHYxgEh30"
      }
    },
    {
      "cell_type": "code",
      "source": [
        "g1 = tf.random.Generator.from_seed(1)\n",
        "print(g1.normal(shape = [2, 3]))\n",
        "\n",
        "g2 = tf.random.get_global_generator()\n",
        "print(g2.normal(shape=[2, 3]))"
      ],
      "metadata": {
        "colab": {
          "base_uri": "https://localhost:8080/"
        },
        "id": "-Jua4V9CEf4w",
        "outputId": "4a9f740f-d8b5-4a77-8825-0f0b5c462ca7"
      },
      "execution_count": 2,
      "outputs": [
        {
          "output_type": "stream",
          "name": "stdout",
          "text": [
            "tf.Tensor(\n",
            "[[ 0.43842274 -0.53439844 -0.07710262]\n",
            " [ 1.5658046  -0.1012345  -0.2744976 ]], shape=(2, 3), dtype=float32)\n",
            "tf.Tensor(\n",
            "[[-1.7683436  -0.69603586  0.52069145]\n",
            " [-1.2614379   0.6529792  -0.87771136]], shape=(2, 3), dtype=float32)\n"
          ]
        }
      ]
    },
    {
      "cell_type": "code",
      "source": [
        "# from_seed 메소드는 alg를 받을 수 있다 : alg는 난수를 생성하는 알고리즘\n",
        "g1 = tf.random.Generator.from_seed(1, alg='philox')\n",
        "print(g1.normal(shape=[2,3]))"
      ],
      "metadata": {
        "colab": {
          "base_uri": "https://localhost:8080/"
        },
        "id": "fh8Vz2vxE5YM",
        "outputId": "db3b5c57-b6f7-4474-ec23-77e5fdd4cc64"
      },
      "execution_count": 3,
      "outputs": [
        {
          "output_type": "stream",
          "name": "stdout",
          "text": [
            "tf.Tensor(\n",
            "[[ 0.43842274 -0.53439844 -0.07710262]\n",
            " [ 1.5658046  -0.1012345  -0.2744976 ]], shape=(2, 3), dtype=float32)\n"
          ]
        }
      ]
    },
    {
      "cell_type": "code",
      "source": [
        "# 다른 생성 방법 - from_non_determninistic_state() : 비결정 상태에서 시작 : 시간과 OS에 영향을 받음\n",
        "g = tf.random.Generator.from_non_deterministic_state()\n",
        "print(g.normal(shape = [2, 3]))"
      ],
      "metadata": {
        "colab": {
          "base_uri": "https://localhost:8080/"
        },
        "id": "HbqKD7rMFEtC",
        "outputId": "7f57d23d-8fd2-49cf-9b69-f5214c7cce40"
      },
      "execution_count": 4,
      "outputs": [
        {
          "output_type": "stream",
          "name": "stdout",
          "text": [
            "tf.Tensor(\n",
            "[[ 0.16942908 -0.5898391  -0.6764218 ]\n",
            " [-0.6949313  -1.0842681   0.17320336]], shape=(2, 3), dtype=float32)\n"
          ]
        }
      ]
    },
    {
      "cell_type": "markdown",
      "source": [
        "### `tf.random.get_global_generator`에 관해\n",
        "- 생성되는 디바이스에 주의해주자 : gpu에서 호출했다면 전역 생성기는 GPU에 할당되고, CPU에서 쓰인다면 복사 과정이 한번 들어감\n",
        "- `tf.random.set_global_generator` : 생성기를 다른 객체로 변경함\n",
        "  - `tf.function`이 이전 생성기를 사용하고 있을 수 있고 이를 변경하면 가비지 콜렉션을 발생시켜 `tf.function`에 문제를 유발할 수 있다.\n",
        "\n",
        "- 전역 생성기 재설정은 `Generator.reset_from_seed` 를 사용하여 새로운 생성기를 생성하지 않는 리셋 함수를 사용하는 것을 추천함."
      ],
      "metadata": {
        "id": "U8l_4BkVFTJQ"
      }
    },
    {
      "cell_type": "code",
      "source": [
        "g = tf.random.Generator.from_seed(1)\n",
        "print(g.normal([])) # 시드 1에 관한 결과\n",
        "print(g.normal([])) # 호출마다 다른 결과가 생성됨\n",
        "g.reset_from_seed(1)\n",
        "print(g.normal([])) "
      ],
      "metadata": {
        "colab": {
          "base_uri": "https://localhost:8080/"
        },
        "id": "WihMpzmtFLcs",
        "outputId": "d4d5f9da-a7b6-4fbe-8c45-c74fe06ff894"
      },
      "execution_count": 5,
      "outputs": [
        {
          "output_type": "stream",
          "name": "stdout",
          "text": [
            "tf.Tensor(0.43842274, shape=(), dtype=float32)\n",
            "tf.Tensor(1.6272374, shape=(), dtype=float32)\n",
            "tf.Tensor(0.43842274, shape=(), dtype=float32)\n"
          ]
        }
      ]
    },
    {
      "cell_type": "markdown",
      "source": [
        "### 독립적인 난수 스트림\n",
        "- `Generator.split` : 독립이 보장된 여러 생성기를 만듦"
      ],
      "metadata": {
        "id": "at6z-VR8F_HX"
      }
    },
    {
      "cell_type": "code",
      "source": [
        "g = tf.random.Generator.from_seed(1)\n",
        "print(g.normal([]))\n",
        "\n",
        "new_gs = g.split(3)\n",
        "for new_g in new_gs:\n",
        "  print(new_g.normal([]))\n",
        "\n",
        "\n",
        "print(g.normal([]))"
      ],
      "metadata": {
        "colab": {
          "base_uri": "https://localhost:8080/"
        },
        "id": "xwl5RTp1F1Hb",
        "outputId": "95ea3765-300d-4caf-940c-c6fbb7573251"
      },
      "execution_count": 7,
      "outputs": [
        {
          "output_type": "stream",
          "name": "stdout",
          "text": [
            "tf.Tensor(0.43842274, shape=(), dtype=float32)\n",
            "tf.Tensor(2.536413, shape=(), dtype=float32)\n",
            "tf.Tensor(0.33186463, shape=(), dtype=float32)\n",
            "tf.Tensor(-0.07144657, shape=(), dtype=float32)\n",
            "tf.Tensor(-0.79253083, shape=(), dtype=float32)\n"
          ]
        }
      ]
    },
    {
      "cell_type": "markdown",
      "source": [
        "\n",
        "- `split`은 `normal`과 같이 생성기의 상태를 변경함. 새로운 생성기`new_gs`는 이전 생성기와 독립임\n",
        "- 새로운 생성기를 만드는 건 디바이스 간 복제의 오버헤드를 피하기 위해, 사용하고 있는 생성기가 서로 다른 연산에서 동일한 디바이스에 있음을 확실히 하고 싶을 때 유용하다."
      ],
      "metadata": {
        "id": "cS-Px4yOGWLU"
      }
    },
    {
      "cell_type": "code",
      "source": [
        "with tf.device('cpu'): # cpu를 쓰겠다\n",
        "  g = tf.random.get_global_generator().split(1)[0] \n",
        "  print(g.normal([])) # 전역 생성기와 달리, g를 쓰는 건 디바이스 간 복제를 발생하지 않는다."
      ],
      "metadata": {
        "colab": {
          "base_uri": "https://localhost:8080/"
        },
        "id": "CG9y5cNEGK3h",
        "outputId": "83364a1b-5f51-4e45-e9b6-5cd82f17bf94"
      },
      "execution_count": 9,
      "outputs": [
        {
          "output_type": "stream",
          "name": "stdout",
          "text": [
            "tf.Tensor(-0.14443287, shape=(), dtype=float32)\n"
          ]
        }
      ]
    },
    {
      "cell_type": "markdown",
      "source": [
        "- `split` 대신 `from_seed` 생성자를 사용할 수 있다. 그러나 새로운 생성기가 전역 생성기에 독립임을 보장하지 않는다. 시드가 동일하거나 생성 스트림이 겹치는 시드를 생성하는 등의 위험이 있다. 그냥 `split` 쓰셈"
      ],
      "metadata": {
        "id": "AogchVnPGwlR"
      }
    },
    {
      "cell_type": "markdown",
      "source": [
        "### tf.function과의 상호작용"
      ],
      "metadata": {
        "id": "3UWrCwuwGwgF"
      }
    },
    {
      "cell_type": "markdown",
      "source": [
        "1. tf.function 밖에서 생성기를 생성하기\n",
        "- `tf.function`은 생성기를 사용가능함"
      ],
      "metadata": {
        "id": "RGjU9QBOG-_u"
      }
    },
    {
      "cell_type": "code",
      "source": [
        "g= tf.random.Generator.from_seed(1)\n",
        "\n",
        "@tf.function\n",
        "def foo():\n",
        "  return g.normal([]\n",
        "print(foo())"
      ],
      "metadata": {
        "colab": {
          "base_uri": "https://localhost:8080/"
        },
        "id": "iQEG6yR5Go8j",
        "outputId": "654fd2e9-cd0f-4c2c-c4bc-2d48e086b644"
      },
      "execution_count": 10,
      "outputs": [
        {
          "output_type": "stream",
          "name": "stdout",
          "text": [
            "tf.Tensor(0.43842274, shape=(), dtype=float32)\n"
          ]
        }
      ]
    },
    {
      "cell_type": "markdown",
      "source": [
        "2. tf.function 안에서 생성기 생성\n",
        "- 함수의 1번째 호출에서만 생성기가 생성됨"
      ],
      "metadata": {
        "id": "jeN_L5ALHRB6"
      }
    },
    {
      "cell_type": "code",
      "source": [
        "g = None\n",
        "\n",
        "@tf.function\n",
        "def foo():\n",
        "  global g\n",
        "  if g is None:\n",
        "    g = tf.random.Generator.from_seed(1)\n",
        "  return g.normal([])\n",
        "\n",
        "print(foo())\n",
        "print(foo())"
      ],
      "metadata": {
        "colab": {
          "base_uri": "https://localhost:8080/"
        },
        "id": "K2woNdRlHHJL",
        "outputId": "8fbbdbea-79b8-423e-9076-11f022ec2c86"
      },
      "execution_count": 11,
      "outputs": [
        {
          "output_type": "stream",
          "name": "stdout",
          "text": [
            "tf.Tensor(0.43842274, shape=(), dtype=float32)\n",
            "tf.Tensor(1.6272374, shape=(), dtype=float32)\n"
          ]
        }
      ]
    },
    {
      "cell_type": "markdown",
      "source": [
        "3. 생성기를 tf.function의 파라미터로 보내기\n",
        "- 동일한 상태 크기를 가진 서로 다른 생성기 객체는 `tf.function`을 재추적하지 않음(리트레이싱 안한다!)\n",
        "- 한편 상태 크기가 다르다면 동작한다"
      ],
      "metadata": {
        "id": "kzpFohMQHqID"
      }
    },
    {
      "cell_type": "code",
      "source": [
        "num_traces = 0\n",
        "@tf.function\n",
        "def foo(g):\n",
        "\n",
        "  global num_traces\n",
        "\n",
        "  num_traces += 1\n",
        "  return g.normal([])\n",
        "\n",
        "foo(tf.random.Generator.from_seed(1))\n",
        "foo(tf.random.Generator.from_seed(1))\n",
        "\n",
        "# ? 1이어야 하는데 2가 뜨네 - 동작 하는 거 아님?\n",
        "print(num_traces)"
      ],
      "metadata": {
        "colab": {
          "base_uri": "https://localhost:8080/"
        },
        "id": "vlL0uXJKHbxJ",
        "outputId": "d57aec8c-813e-45d2-cd93-16b5ea76631c"
      },
      "execution_count": 17,
      "outputs": [
        {
          "output_type": "stream",
          "name": "stdout",
          "text": [
            "1\n"
          ]
        }
      ]
    },
    {
      "cell_type": "markdown",
      "source": [
        "### 분산 전략과의 상호작용"
      ],
      "metadata": {
        "id": "9v-7Bt7OIKjb"
      }
    },
    {
      "cell_type": "markdown",
      "source": [
        "1. 전략 밖에서 생성기 생성\n",
        "- 생성기에 대한 모든 복제(replicas)의 접근이 직렬화되고 복제들의 난수는 서로 달라짐\n",
        "- 성능 이슈 있음"
      ],
      "metadata": {
        "id": "2-l__AClIMx_"
      }
    },
    {
      "cell_type": "code",
      "source": [
        "g = tf.random.Generator.from_seed(1)\n",
        "\n",
        "strat = tf.distribute.MirroredStrategy(devices = ['cpu:0', 'cpu:1'])\n",
        "\n",
        "with strat.scope():\n",
        "  def f():\n",
        "    print(g.normal([]))\n",
        "\n",
        "  results = strat.run(f)"
      ],
      "metadata": {
        "colab": {
          "base_uri": "https://localhost:8080/"
        },
        "id": "4QYWDel3H9HA",
        "outputId": "89168567-22d4-4bf9-9907-1c2645544d87"
      },
      "execution_count": 18,
      "outputs": [
        {
          "output_type": "stream",
          "name": "stdout",
          "text": [
            "WARNING:tensorflow:There are non-GPU devices in `tf.distribute.Strategy`, not using nccl allreduce.\n",
            "INFO:tensorflow:Using MirroredStrategy with devices ('/job:localhost/replica:0/task:0/device:CPU:0', '/job:localhost/replica:0/task:0/device:CPU:1')\n",
            "WARNING:tensorflow:Using MirroredStrategy eagerly has significant overhead currently. We will be working on improving this in the future, but for now please wrap `call_for_each_replica` or `experimental_run` or `run` inside a tf.function to get the best performance.\n",
            "tf.Tensor(0.43842274, shape=(), dtype=float32)\n",
            "tf.Tensor(1.6272374, shape=(), dtype=float32)\n"
          ]
        }
      ]
    },
    {
      "cell_type": "markdown",
      "source": [
        "2. 전략 안에서 생성하기\n",
        "- 허용되지 않음 (생성기의 복제에 대한 모호함이 있기 때문)\n",
        "- 예를 들어 각 복제본이 동일한 난수를 갖도록 복제하거나 서로 다른 난수를 갖도록 `split` 복제를 하는지에 대한 모호함이 있다."
      ],
      "metadata": {
        "id": "5TCsIzgcIhqd"
      }
    },
    {
      "cell_type": "code",
      "source": [
        "strat = tf.distribute.MirroredStrategy(devices=[\"cpu:0\", \"cpu:1\"])\n",
        "with strat.scope():\n",
        "  try:\n",
        "    tf.random.Generator.from_seed(1)\n",
        "  except ValueError as e:\n",
        "    print(\"ValueError:\", e)"
      ],
      "metadata": {
        "colab": {
          "base_uri": "https://localhost:8080/"
        },
        "id": "gFyTRypJIcQZ",
        "outputId": "ff0a0a27-9919-4650-b6f7-5dda2957f3c9"
      },
      "execution_count": 19,
      "outputs": [
        {
          "output_type": "stream",
          "name": "stdout",
          "text": [
            "WARNING:tensorflow:There are non-GPU devices in `tf.distribute.Strategy`, not using nccl allreduce.\n",
            "INFO:tensorflow:Using MirroredStrategy with devices ('/job:localhost/replica:0/task:0/device:CPU:0', '/job:localhost/replica:0/task:0/device:CPU:1')\n"
          ]
        }
      ]
    },
    {
      "cell_type": "markdown",
      "source": [
        "- 실사용은 다음 방식으로 한다. `strategy.run()`이 파라미터 함수를 실행시키도록 함"
      ],
      "metadata": {
        "id": "ZADUeyjxIyme"
      }
    },
    {
      "cell_type": "code",
      "source": [
        "strat = tf.distribute.MirroredStrategy(devices=[\"cpu:0\", \"cpu:1\"])\n",
        "def f():\n",
        "  tf.random.Generator.from_seed(1)\n",
        "try:\n",
        "  strat.run(f) # \n",
        "except ValueError as e:\n",
        "  print(\"ValueError:\", e)"
      ],
      "metadata": {
        "id": "MSqYWiMPIrYP"
      },
      "execution_count": null,
      "outputs": []
    },
    {
      "cell_type": "markdown",
      "source": [
        "- 생성기를 `Strategy.run`의 파라미터로 쓰기\n",
        "- `n`개의 생성기가 필요하다 - 이를 `Strategy.run`의 파라미터로 보낸다."
      ],
      "metadata": {
        "id": "y9U0S1_OI5j4"
      }
    },
    {
      "cell_type": "code",
      "source": [
        "strat = tf.distribute.MirroredStrategy(devices = ['cpu:0', 'cpu:1'])\n",
        "gs = tf.random.get_global_generator().split(2)\n",
        "\n",
        "# to_args 함수는 run함수를 위한 함수 파라미터를 생성함. 추후 API로 지원 예정\n",
        "def to_args(gs):\n",
        "  with strat.scope():\n",
        "    def f():\n",
        "      return [gs[tf.distribute.get_replica_context().replica_id_in_sync_group]]\n",
        "    return strat.run(f)\n",
        "\n",
        "args = to_args(gs)\n",
        "def f(g):\n",
        "  print(g.normal([]))\n",
        "\n",
        "results = strat.run(f, args = args)"
      ],
      "metadata": {
        "colab": {
          "base_uri": "https://localhost:8080/"
        },
        "id": "eAXKd0e8I_0S",
        "outputId": "01c9a003-72e3-4f52-c1e9-01e352c09da6"
      },
      "execution_count": 20,
      "outputs": [
        {
          "output_type": "stream",
          "name": "stdout",
          "text": [
            "WARNING:tensorflow:There are non-GPU devices in `tf.distribute.Strategy`, not using nccl allreduce.\n",
            "INFO:tensorflow:Using MirroredStrategy with devices ('/job:localhost/replica:0/task:0/device:CPU:0', '/job:localhost/replica:0/task:0/device:CPU:1')\n",
            "WARNING:tensorflow:Using MirroredStrategy eagerly has significant overhead currently. We will be working on improving this in the future, but for now please wrap `call_for_each_replica` or `experimental_run` or `run` inside a tf.function to get the best performance.\n",
            "WARNING:tensorflow:Using MirroredStrategy eagerly has significant overhead currently. We will be working on improving this in the future, but for now please wrap `call_for_each_replica` or `experimental_run` or `run` inside a tf.function to get the best performance.\n",
            "tf.Tensor(-0.7162331, shape=(), dtype=float32)\n",
            "tf.Tensor(0.8422901, shape=(), dtype=float32)\n"
          ]
        }
      ]
    },
    {
      "cell_type": "markdown",
      "source": [
        "## 상태가 없는 RNG\n",
        "- 순수 함수라서 부작용 없음 : 그냥 쓰셈"
      ],
      "metadata": {
        "id": "UC2WEA_GJZAt"
      }
    },
    {
      "cell_type": "code",
      "source": [
        "print(tf.random.stateless_normal(shape = [2, 3], seed = [1, 2]))\n",
        "print(tf.random.stateless_normal(shape = [2, 3], seed = [1, 2]))"
      ],
      "metadata": {
        "colab": {
          "base_uri": "https://localhost:8080/"
        },
        "id": "rQvx-wsEJXMY",
        "outputId": "1e2dea9e-2e59-4961-d3e6-dcc26979ba27"
      },
      "execution_count": 21,
      "outputs": [
        {
          "output_type": "stream",
          "name": "stdout",
          "text": [
            "tf.Tensor(\n",
            "[[ 0.5441101   0.20738031  0.07356432]\n",
            " [ 0.04643455 -1.3015898  -0.9538565 ]], shape=(2, 3), dtype=float32)\n",
            "tf.Tensor(\n",
            "[[ 0.5441101   0.20738031  0.07356432]\n",
            " [ 0.04643455 -1.3015898  -0.9538565 ]], shape=(2, 3), dtype=float32)\n"
          ]
        }
      ]
    },
    {
      "cell_type": "code",
      "source": [
        ""
      ],
      "metadata": {
        "id": "Icr5wlyiJhRi"
      },
      "execution_count": null,
      "outputs": []
    }
  ]
}