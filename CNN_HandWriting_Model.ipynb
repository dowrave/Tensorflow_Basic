{
  "nbformat": 4,
  "nbformat_minor": 0,
  "metadata": {
    "colab": {
      "name": "CNN_HandWriting_Model.ipynb",
      "private_outputs": true,
      "provenance": [],
      "authorship_tag": "ABX9TyOwv2duSlPKXumcaw2M5CBg",
      "include_colab_link": true
    },
    "kernelspec": {
      "name": "python3",
      "display_name": "Python 3"
    },
    "language_info": {
      "name": "python"
    }
  },
  "cells": [
    {
      "cell_type": "markdown",
      "metadata": {
        "id": "view-in-github",
        "colab_type": "text"
      },
      "source": [
        "<a href=\"https://colab.research.google.com/github/dowrave/Tensorflow_Basic/blob/main/CNN_HandWriting_Model.ipynb\" target=\"_parent\"><img src=\"https://colab.research.google.com/assets/colab-badge.svg\" alt=\"Open In Colab\"/></a>"
      ]
    },
    {
      "cell_type": "code",
      "execution_count": null,
      "metadata": {
        "id": "5U_tJZdkw6mo"
      },
      "outputs": [],
      "source": [
        "import tensorflow as tf\n",
        "import tensorflow_datasets as tfds\n",
        "from tensorflow.keras import layers\n",
        "\n",
        "import numpy as np\n",
        "import matplotlib.pyplot as plt\n",
        "\n",
        "(train_images, train_labels), (test_images, test_labels) = tf.keras.datasets.mnist.load_data()\n",
        "\n",
        "# 데이터 전처리 : 채널 하나 더 만들고, 0~1 로 정규화\n",
        "train_images = train_images.reshape(train_images.shape[0], 28, 28 ,1).astype('float32')\n",
        "train_images = train_images // 255.0\n",
        "\n",
        "test_images = test_images.reshape(test_images.shape[0], 28, 28 ,1).astype('float32')\n",
        "test_images = test_images // 255.0\n",
        "\n",
        "# 데이터 배치 만들고 섞기\n",
        "train_dataset = tf.data.Dataset.from_tensor_slices(train_images).shuffle(60000).batch(32)\n",
        "test_dataset = tf.data.Dataset.from_tensor_slices(test_images).shuffle(10000).batch(32)"
      ]
    },
    {
      "cell_type": "code",
      "source": [
        "# 모델 정의\n",
        "def myCNNModel():\n",
        "  model = tf.keras.Sequential()\n",
        "  model.add(layers.Conv2D(32, (5, 5), strides = (2,2), padding = 'same', input_shape = [28, 28, 1]))\n",
        "  model.add(layers.LeakyReLU())\n",
        "  model.add(layers.Dropout(0.3))\n",
        "\n",
        "  model.add(layers.Conv2D(64, (5, 5), strides = (2,2), padding = 'same'))\n",
        "  model.add(layers.LeakyReLU())\n",
        "  model.add(layers.Dropout(0.3))\n",
        "\n",
        "  model.add(layers.Conv2D(128, (5, 5), strides = (2,2), padding = 'same'))\n",
        "  model.add(layers.LeakyReLU())\n",
        "  model.add(layers.Dropout(0.3))\n",
        "\n",
        "  model.add(layers.Flatten())\n",
        "  model.add(layers.Dense(10))\n",
        "\n",
        "  return model"
      ],
      "metadata": {
        "id": "5VF3q63cyQaD"
      },
      "execution_count": null,
      "outputs": []
    },
    {
      "cell_type": "code",
      "source": [
        "# 손실 함수 정의\n"
      ],
      "metadata": {
        "id": "1E8TH6nB72v4"
      },
      "execution_count": null,
      "outputs": []
    },
    {
      "cell_type": "code",
      "source": [
        ""
      ],
      "metadata": {
        "id": "Ey4Ve7575SI_"
      },
      "execution_count": null,
      "outputs": []
    },
    {
      "cell_type": "code",
      "source": [
        "# 전처리"
      ],
      "metadata": {
        "id": "-eE78wfXynQW"
      },
      "execution_count": null,
      "outputs": []
    }
  ]
}